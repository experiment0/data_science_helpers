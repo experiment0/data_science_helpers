{
 "cells": [
  {
   "cell_type": "markdown",
   "metadata": {},
   "source": [
    "# Data Science Helpers\n",
    "\n",
    "Краткий справочник понятий и фрагментов кода, используемых для решения Data Science задач.\\\n",
    "Периодически пополняется и реструктурируется.\n",
    "\n",
    "> Для корректной работы ссылок оглавления и навигации лучше смотреть репо здесь\n",
    "> https://nbviewer.org/github/experiment0/data_science_helpers/blob/master/index.ipynb?flush_cache=true\n",
    "\n",
    "## Оглавление\n",
    "\n",
    "- [Примеры получения готовых табличных данных](./articles/data_examples.ipynb)\n",
    "- [Построение столбчатой диаграммы крреляции признаков с целевым](./articles/corr_bar_with_target.ipynb)\n",
    "- [Построение графиков](./articles/building_graphs.ipynb)\n",
    "\n",
    "### Pandas\n",
    "- [Операции с DataFrame](./articles/create_dataframe.ipynb)\n",
    "\n",
    "### Модели\n",
    "- [Смещение и разброс](./articles/bias_and_variance.ipynb)\n",
    "- [Линейная регрессия](./articles/linear_regression.ipynb)\n",
    "\n",
    "### Метрики\n",
    "- [Метрики регрессии](./articles/regression_metrics.ipynb)\n"
   ]
  }
 ],
 "metadata": {
  "language_info": {
   "name": "python"
  }
 },
 "nbformat": 4,
 "nbformat_minor": 2
}
