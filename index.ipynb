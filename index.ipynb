{
 "cells": [
  {
   "cell_type": "markdown",
   "metadata": {},
   "source": [
    "# Data Science Helpers\n",
    "\n",
    "Краткий справочник понятий и фрагментов кода, используемых для решения Data Science задач.\\\n",
    "Периодически пополняется и реструктурируется.\n",
    "\n",
    "> Для корректной работы ссылок оглавления и навигации лучше смотреть репо здесь\n",
    "> https://nbviewer.org/github/experiment0/data_science_helpers/blob/master/index.ipynb?flush_cache=true\n",
    "\n",
    "## Оглавление\n",
    "\n",
    "- [Общие понятия ML](./articles/general_concepts.ipynb)\n",
    "\n",
    "### Pandas\n",
    "- [Примеры получения готовых табличных данных](./articles/data_examples.ipynb)\n",
    "- [Операции с DataFrame](./articles/create_dataframe.ipynb)\n",
    "\n",
    "### Графики и блок-схемы\n",
    "- [Построение блок-схем с помощью mermaid.js](./articles/mermaid_intro.ipynb)\n",
    "- [Построение графиков](./articles/building_graphs.ipynb)\n",
    "- [Построение столбчатой диаграммы крреляции признаков с целевым](./articles/corr_bar_with_target.ipynb)\n",
    "- [Поиск оптимальных внешних параметров модели по графику](./articles/hyperparameter_plot.ipynb)\n",
    "\n",
    "### Модели\n",
    "- [Смещение и разброс](./articles/bias_and_variance.ipynb)\n",
    "- **Регрессия**\n",
    "    - [Линейная регрессия](./articles/linear_regression.ipynb)\n",
    "    - [Полиномиальная регрессия и регуляризация](./articles/polynomial_regression.ipynb)\n",
    "- **Классификация**\n",
    "    - [Логистическая регрессия](./articles/logistic_regression.ipynb)\n",
    "\n",
    "### Метрики\n",
    "- [Метрики регрессии](./articles/regression_metrics.ipynb)\n",
    "- [Метрики классификации](./articles/classification_metrics.ipynb)"
   ]
  }
 ],
 "metadata": {
  "language_info": {
   "name": "python"
  }
 },
 "nbformat": 4,
 "nbformat_minor": 2
}
