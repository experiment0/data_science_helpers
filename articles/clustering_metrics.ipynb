{
 "cells": [
  {
   "cell_type": "markdown",
   "metadata": {},
   "source": [
    "# Метрики кластеризации"
   ]
  },
  {
   "cell_type": "markdown",
   "metadata": {},
   "source": [
    "> Рассмотренные ниже метрики кластеризации применимы только в том случае,\\\n",
    "если есть размеченные данные, к каким кластерам принадлежат элементы."
   ]
  },
  {
   "cell_type": "code",
   "execution_count": 1,
   "metadata": {},
   "outputs": [],
   "source": [
    "from sklearn.metrics.cluster import (\n",
    "    homogeneity_score, \n",
    "    completeness_score, \n",
    "    rand_score\n",
    ")\n",
    "from sklearn.metrics import v_measure_score\n",
    "\n",
    "from warnings import simplefilter\n",
    "simplefilter('ignore')"
   ]
  },
  {
   "cell_type": "markdown",
   "metadata": {},
   "source": [
    "## Однородность кластеров (homogeneity score)"
   ]
  },
  {
   "cell_type": "markdown",
   "metadata": {},
   "source": [
    "Показывает, насколько однородны получившиеся кластеры. \\\n",
    "Если в кластере оказались элементы из другого кластера, значение метрики уменьшается.\n",
    "\n",
    "> Кластер считается однородным, если в нём содержатся объекты, \\\n",
    "принадлежащие только к одному кластеру."
   ]
  },
  {
   "cell_type": "markdown",
   "metadata": {},
   "source": [
    "Пусть: \\\n",
    "$n$ — общее количество объектов в выборке, \\\n",
    "$n_c$​​ — количество объектов класса $c$ (истинные классы, всего классов $C$ штук), ​\\\n",
    "$n_k$​ — количество объектов в кластере номер $k$ (предсказанные кластеры, всего кластеров $K$ штук), \\\n",
    "а ​$n_{ck}$​ — количество объектов из класса $c$ в кластере $k$.\n",
    "\n",
    "Введём следующие величины:\n",
    "\n",
    "$$ H(y_{true}) = - \\sum_{c=1}^{C} P(y_{c}) log P(y_{c}), $$"
   ]
  },
  {
   "cell_type": "markdown",
   "metadata": {},
   "source": [
    "где $P(y_{c}) = \\frac{n_c}{n}$ — вероятность класса с или доля объектов в выборке, \\\n",
    "принадлежащих классу под номером $c$;\n",
    "\n",
    "$$ H(y_{pred}) = - \\sum_{k=1}^{K} P(y_{k}) log P(y_{k}), $$"
   ]
  },
  {
   "cell_type": "markdown",
   "metadata": {},
   "source": [
    "где $P(y_{k}) = \\frac{n_k}{n}$ — вероятность кластера $k$ или доля объектов в выборке, \\\n",
    "попавших в кластер под номером $k$;\n",
    "\n",
    "$$ H(y_{true} | y_{pred}) = - \\sum_{c=1}^{C} \\sum_{k=1}^{K} P(y_{ck}) log (P(y_{ck})), $$"
   ]
  },
  {
   "cell_type": "markdown",
   "metadata": {},
   "source": [
    "где $P(y_{ck}) = \\frac{n_{ck}}{n}$ — вероятность класса $c$ в кластере $k$ \\\n",
    "или доля объектов в выборке, принадлежащих классу под номером $c$ и попавших в кластер под номером $k$."
   ]
  },
  {
   "cell_type": "markdown",
   "metadata": {},
   "source": [
    "Функция $H(y)$ называется **критерием информативности**, или **энтропией**.\n",
    "\n",
    "То есть $H(y_{true})$ — энтропия истинных номеров кластеров (классов) для элементов, \\\n",
    "$H(y_{pred})$ — энтропия предсказанных номеров кластеров для элементов, \\\n",
    "а $H(y_{true}| y_{pred})$ — условная энтропия $y_{true}$ относительно $y_{pred}$.\n",
    "\n",
    "Тогда **homogeneity** (однородность/гомогенность) будет рассчитываться по следующей формуле:\n",
    "\n",
    "$$ homogeneity = 1 - \\frac{H(y_{true} | y_{pred})}{H(y_{true})} $$"
   ]
  },
  {
   "cell_type": "markdown",
   "metadata": {},
   "source": [
    "**Диапазон значений**\\\n",
    "1 — идеально однородные кластеры; \\\n",
    "0 —&nbsp;кластеры максимально разнородные."
   ]
  },
  {
   "cell_type": "markdown",
   "metadata": {},
   "source": [
    "### Реализация в sklearn\n",
    "\n",
    "Функция в `sklearn.metrics.cluster`: `homogeneity_score`"
   ]
  },
  {
   "cell_type": "code",
   "execution_count": 2,
   "metadata": {},
   "outputs": [
    {
     "name": "stdout",
     "output_type": "stream",
     "text": [
      "1.0\n"
     ]
    }
   ],
   "source": [
    "# истинные метки классов\n",
    "labels_true = [0, 0, 1, 1]\n",
    "# предсказанные метки классов\n",
    "labels_pred = [0, 0, 1, 1]\n",
    "\n",
    "# метрика однородности\n",
    "homogeneity = homogeneity_score(labels_true=labels_true, labels_pred=labels_pred)\n",
    "\n",
    "print(homogeneity)"
   ]
  },
  {
   "cell_type": "markdown",
   "metadata": {},
   "source": [
    "Поменяем местами классы в редсказанных значениях."
   ]
  },
  {
   "cell_type": "code",
   "execution_count": 3,
   "metadata": {},
   "outputs": [
    {
     "name": "stdout",
     "output_type": "stream",
     "text": [
      "1.0\n"
     ]
    }
   ],
   "source": [
    "# истинные метки классов\n",
    "labels_true = [0, 0, 1, 1]\n",
    "# предсказанные метки классов\n",
    "labels_pred = [1, 1, 0, 0]\n",
    "\n",
    "# метрика однородности\n",
    "homogeneity = homogeneity_score(labels_true=labels_true, labels_pred=labels_pred)\n",
    "\n",
    "print(homogeneity)"
   ]
  },
  {
   "cell_type": "markdown",
   "metadata": {},
   "source": [
    "Метрика также равна 1, так как классы однородны.\n",
    "\n",
    "Передадим данные, где один из объектов класса 1 предсказан как 0."
   ]
  },
  {
   "cell_type": "code",
   "execution_count": 4,
   "metadata": {},
   "outputs": [
    {
     "name": "stdout",
     "output_type": "stream",
     "text": [
      "0.31127812445913283\n"
     ]
    }
   ],
   "source": [
    "# истинные метки классов\n",
    "labels_true = [0, 0, 1, 1]\n",
    "# предсказанные метки классов\n",
    "labels_pred = [0, 0, 0, 1]\n",
    "\n",
    "# метрика однородности\n",
    "homogeneity = homogeneity_score(labels_true=labels_true, labels_pred=labels_pred)\n",
    "\n",
    "print(homogeneity)"
   ]
  },
  {
   "cell_type": "markdown",
   "metadata": {},
   "source": [
    "Значение метрики стало ниже."
   ]
  },
  {
   "cell_type": "markdown",
   "metadata": {},
   "source": [
    "Предположим, что мы в предсказании разделили данные на большее, чем 2 количество кластеров."
   ]
  },
  {
   "cell_type": "code",
   "execution_count": 5,
   "metadata": {},
   "outputs": [
    {
     "name": "stdout",
     "output_type": "stream",
     "text": [
      "1.0000000000000002\n"
     ]
    }
   ],
   "source": [
    "# истинные метки классов\n",
    "labels_true = [0, 0, 0, 0, 1, 1, 1, 1]\n",
    "# предсказанные метки классов\n",
    "labels_pred = [0, 0, 0, 0, 1, 1, 2, 2]\n",
    "\n",
    "# метрика однородности\n",
    "homogeneity = homogeneity_score(labels_true=labels_true, labels_pred=labels_pred)\n",
    "\n",
    "print(homogeneity)"
   ]
  },
  {
   "cell_type": "markdown",
   "metadata": {},
   "source": [
    "Значение метрики 1, так как выделенный новый класс 2 однородный \\\n",
    "(в нем содержатся элементы изначально, принадлежащие к одному классу 1.)\n",
    "\n",
    "Попробуем взять в класс 2 элементы из разных классов."
   ]
  },
  {
   "cell_type": "code",
   "execution_count": 6,
   "metadata": {},
   "outputs": [
    {
     "name": "stdout",
     "output_type": "stream",
     "text": [
      "0.7500000000000002\n"
     ]
    }
   ],
   "source": [
    "# истинные метки классов\n",
    "labels_true = [0, 0, 0, 0, 1, 1, 1, 1]\n",
    "# предсказанные метки классов\n",
    "labels_pred = [0, 0, 0, 2, 1, 1, 1, 2]\n",
    "\n",
    "# метрика однородности\n",
    "homogeneity = homogeneity_score(labels_true=labels_true, labels_pred=labels_pred)\n",
    "\n",
    "print(homogeneity)"
   ]
  },
  {
   "cell_type": "markdown",
   "metadata": {},
   "source": [
    "Значение метрики стало ниже."
   ]
  },
  {
   "cell_type": "markdown",
   "metadata": {},
   "source": [
    "## Полнота кластера (completeness score)"
   ]
  },
  {
   "cell_type": "markdown",
   "metadata": {},
   "source": [
    "Показывает, насколько кластер заполнен объектами, которые в действительности должны принадлежать к этому кластеру.\n",
    "\n",
    "Результат кластеризации удовлетворяет требованиям полноты, \\\n",
    "если все элементы данных, принадлежащие к одному классу, \\\n",
    "при кластеризации оказались в одном кластере."
   ]
  },
  {
   "cell_type": "markdown",
   "metadata": {},
   "source": [
    "Пусть:\\\n",
    "$n$ — общее количество объектов в выборке, \\\n",
    "$n_c$ — количество объектов класса (истинные классы, всего классов $C$ штук), \\\n",
    "$n_k$ — количество объектов в кластере номер $k$ (предсказанные кластеры, всего кластеров $K$ штук), \\\n",
    "а $n_{ck}$ — количество объектов из класса $c$ в кластере $k$.\n",
    "\n",
    "Введём следующие величины:\n",
    "\n",
    "$$ H(y_{true}) = - \\sum_{c=1}^{C} P(y_{c}) log P(y_{c}), $$\n",
    "\n",
    "где $P(y_{c}) = \\frac{n_c}{n}$ — вероятность класса $c$ \\\n",
    "или доля объектов в выборке, принадлежащих классу под номером $c$;"
   ]
  },
  {
   "cell_type": "markdown",
   "metadata": {},
   "source": [
    "$$ H(y_{pred}) = - \\sum_{k=1}^{K} P(y_{k}) log P(y_{k}), $$\n",
    "\n",
    "где $P(y_{k}) = \\frac{n_k}{n}$ — вероятность кластера $k$ \\\n",
    "или доля объектов в выборке, попавших в кластер под номером $k$;"
   ]
  },
  {
   "cell_type": "markdown",
   "metadata": {},
   "source": [
    "$$ H(y_{pred} | y_{true}) = - \\sum_{k=1}^{K} \\sum_{c=1}^{C} P(y_{ck}) log (P(y_{ck})), $$\n",
    "\n",
    "где $P(y_{ck}) = \\frac{n_{ck}}{n}$ — вероятность класса $c$ в кластере $k$ \\\n",
    "или доля объектов в выборке, принадлежащих классу под номером $c$ и попавших в кластер под номером $k$."
   ]
  },
  {
   "cell_type": "markdown",
   "metadata": {},
   "source": [
    "Функция $H(y)$ называется **критерием информативности**, или **энтропией**.\n",
    "\n",
    "То есть \\\n",
    "$H(y_{true})$ — энтропия истинных номеров кластеров (классов) для элементов, \\\n",
    "$H(y_{pred})$ — энтропия предсказанных номеров кластеров для элементов, \\\n",
    "а $H(y_{pred}| y_{true})$ — условная энтропия $ y_{pred}$ относительно $y_{true}$."
   ]
  },
  {
   "cell_type": "markdown",
   "metadata": {},
   "source": [
    "Тогда **completeness** (полнота) будет рассчитываться по следующей формуле:\n",
    "\n",
    "$$ completeness = 1 - \\frac{H(y_{pred} | y_{true})}{H(y_{pred})} $$"
   ]
  },
  {
   "cell_type": "markdown",
   "metadata": {},
   "source": [
    "**Диапазон значений**\\\n",
    "1 — идеальное значение; \\\n",
    "0 — объекты, которые должны образовывать один кластер, разделились на большее количество кластеров."
   ]
  },
  {
   "cell_type": "markdown",
   "metadata": {},
   "source": [
    "### Реализация в sklearn\n",
    "\n",
    "Функция в `sklearn.metrics.cluster`: `completeness_score`"
   ]
  },
  {
   "cell_type": "code",
   "execution_count": 7,
   "metadata": {},
   "outputs": [
    {
     "name": "stdout",
     "output_type": "stream",
     "text": [
      "1.0\n"
     ]
    }
   ],
   "source": [
    "# истинные метки классов\n",
    "labels_true = [0, 0, 0, 0, 1, 1, 1, 1]\n",
    "# предсказанные метки классов\n",
    "labels_pred = [0, 0, 0, 0, 1, 1, 1, 1]\n",
    "\n",
    "# метрика полноты\n",
    "completeness = completeness_score(labels_true=labels_true, labels_pred=labels_pred)\n",
    "\n",
    "print(completeness)"
   ]
  },
  {
   "cell_type": "markdown",
   "metadata": {},
   "source": [
    "В предсказанных данных разделим класс 1 на два класса."
   ]
  },
  {
   "cell_type": "code",
   "execution_count": 8,
   "metadata": {},
   "outputs": [
    {
     "name": "stdout",
     "output_type": "stream",
     "text": [
      "0.6666666666666669\n"
     ]
    }
   ],
   "source": [
    "# истинные метки классов\n",
    "labels_true = [0, 0, 0, 0, 1, 1, 1, 1]\n",
    "# предсказанные метки классов\n",
    "labels_pred = [0, 0, 0, 0, 1, 1, 2, 2]\n",
    "\n",
    "# метрика полноты\n",
    "completeness = completeness_score(labels_true=labels_true, labels_pred=labels_pred)\n",
    "\n",
    "print(completeness)"
   ]
  },
  {
   "cell_type": "markdown",
   "metadata": {},
   "source": [
    "Значение метрики уменьшилось."
   ]
  },
  {
   "cell_type": "markdown",
   "metadata": {},
   "source": [
    "## V-мера (V-Measure)"
   ]
  },
  {
   "cell_type": "markdown",
   "metadata": {},
   "source": [
    "Комбинация метрик полноты и однородности кластеров.\n",
    "\n",
    "V-мера рассчитывается по формуле:\n",
    "\n",
    "$$ v = \\frac{(1 + \\beta) \\times homogeneity \\times completeness}{(\\beta \\times homogeneity + completeness)} $$\n",
    "\n",
    "По умолчанию $\\beta=1$, но это значение можно варьировать, если хочется дать разный вес разным свойствам.\n",
    "\n",
    "- Если однородность кластеров важнее, чем их полнота, следует указать значение $\\beta < 1$. \\\n",
    "Тогда значение $\\beta \\times homogeneity$ в знаменателе получится небольшим \\\n",
    "и тем самым будет сильнее влиять на значение $v$. \\\n",
    "Чем меньше $\\beta \\times homogeneity$, тем выше $v$.\n",
    "\n",
    "- Если однородность кластеров не особо важна, но важно, \n",
    "- чтобы каждый кластер содержал максимальное количество похожих объектов, \n",
    "- тогда мы регулируем значение $\\beta$ так, чтобы $\\beta > 1$."
   ]
  },
  {
   "cell_type": "markdown",
   "metadata": {},
   "source": [
    "**Диапазон значений**\\\n",
    "1 — идеально полные и однородные кластеры; \\\n",
    "0 — полученные кластеры неоднородные, количество кластеров слишком большое."
   ]
  },
  {
   "cell_type": "markdown",
   "metadata": {},
   "source": [
    "- Данную метрику можно сравнить с метрикой **F-меры**, для задачи классификации. \n",
    "\n",
    "- Метрику однородности кластера при кластеризации можно сравнить с метрикой **precision** для задачи классификации:\\\n",
    "метрика однородности также показывает, насколько точно мы предсказали, к какому классу принадлежит объект. \n",
    "\n",
    "- Метрика полноты так же, как метрика **recall** из задачи классификации, показывает, \\\n",
    "насколько мы наполнили кластеры теми объектами, которые должны принадлежать к данным кластерам."
   ]
  },
  {
   "cell_type": "markdown",
   "metadata": {},
   "source": [
    "### Реализация в sklearn\n",
    "\n",
    "Функция в `sklearn.metrics`: `v_measure_score`"
   ]
  },
  {
   "cell_type": "code",
   "execution_count": 9,
   "metadata": {},
   "outputs": [
    {
     "name": "stdout",
     "output_type": "stream",
     "text": [
      "1.0\n"
     ]
    }
   ],
   "source": [
    "# истинные метки классов\n",
    "labels_true = [0, 0, 0, 0, 1, 1, 1, 1]\n",
    "# предсказанные метки классов\n",
    "labels_pred = [0, 0, 0, 0, 1, 1, 1, 1]\n",
    "\n",
    "# метрика полноты\n",
    "v_measure = v_measure_score(labels_true=labels_true, labels_pred=labels_pred)\n",
    "\n",
    "print(v_measure)"
   ]
  },
  {
   "cell_type": "markdown",
   "metadata": {},
   "source": [
    "В предсказанных значениях разделим класс 1 на два."
   ]
  },
  {
   "cell_type": "code",
   "execution_count": 10,
   "metadata": {},
   "outputs": [
    {
     "name": "stdout",
     "output_type": "stream",
     "text": [
      "0.8000000000000003\n"
     ]
    }
   ],
   "source": [
    "# истинные метки классов\n",
    "labels_true = [0, 0, 0, 0, 1, 1, 1, 1]\n",
    "# предсказанные метки классов\n",
    "labels_pred = [0, 0, 0, 0, 1, 1, 2, 2]\n",
    "\n",
    "# метрика полноты\n",
    "v_measure = v_measure_score(labels_true=labels_true, labels_pred=labels_pred)\n",
    "\n",
    "print(v_measure)"
   ]
  },
  {
   "cell_type": "markdown",
   "metadata": {},
   "source": [
    "Значение метрики меньше 1.\n",
    "\n",
    "Теперь в редсказанных значениях переместим один из объектов класса 1 в класс 0."
   ]
  },
  {
   "cell_type": "code",
   "execution_count": 11,
   "metadata": {},
   "outputs": [
    {
     "name": "stdout",
     "output_type": "stream",
     "text": [
      "0.5615896365639194\n"
     ]
    }
   ],
   "source": [
    "# истинные метки классов\n",
    "labels_true = [0, 0, 0, 0, 1, 1, 1, 1]\n",
    "# предсказанные метки классов\n",
    "labels_pred = [0, 0, 0, 0, 0, 1, 1, 1]\n",
    "\n",
    "# метрика полноты\n",
    "v_measure = v_measure_score(labels_true=labels_true, labels_pred=labels_pred)\n",
    "\n",
    "print(v_measure)"
   ]
  },
  {
   "cell_type": "markdown",
   "metadata": {},
   "source": [
    "Значение метрики также меньше 1."
   ]
  },
  {
   "cell_type": "markdown",
   "metadata": {},
   "source": [
    "## Индекс Рэнда"
   ]
  },
  {
   "cell_type": "markdown",
   "metadata": {},
   "source": [
    "Показывает долю объектов датасета, которые мы правильно определили в кластер."
   ]
  },
  {
   "cell_type": "markdown",
   "metadata": {},
   "source": [
    "Данный индекс сравнивает предсказанный датасет и размеченные данные и подсчитывает, \\\n",
    "сколько образовалось пар объектов, которые оказались в одном кластере (*number of agreeing pairs*), \\\n",
    "среди предсказанных и размеченных данных.\n",
    "\n",
    "$$ Rand \\ Index = \\frac{number \\ of \\ agreeing \\ pairs}{number \\ of \\ pairs}, $$\n",
    "\n",
    "где $number \\ of \\ pairs$ — общее количество пар, \\\n",
    "$number \\ of \\ agreeing \\ pairs$ — количество пар, для которых предсказание и истинные значения совпали.\\\n",
    "По сути, данная метрика подсчитывает, для какой доли объектов датасета мы правильно определили кластер."
   ]
  },
  {
   "cell_type": "markdown",
   "metadata": {},
   "source": [
    "**Диапазон значений**\\\n",
    "1 — все объекты в предсказанном кластере попали в правильные кластеры."
   ]
  },
  {
   "cell_type": "markdown",
   "metadata": {},
   "source": [
    "### Реализация в sklearn\n",
    "\n",
    "Функция в `sklearn.metrics.cluster`: `rand_score`"
   ]
  },
  {
   "cell_type": "code",
   "execution_count": 12,
   "metadata": {},
   "outputs": [
    {
     "name": "stdout",
     "output_type": "stream",
     "text": [
      "1.0\n"
     ]
    }
   ],
   "source": [
    "# истинные метки классов\n",
    "labels_true = [0, 0, 0, 0, 1, 1, 1, 1]\n",
    "# предсказанные метки классов\n",
    "labels_pred = [0, 0, 0, 0, 1, 1, 1, 1]\n",
    "\n",
    "# считаем индекс Рэнда\n",
    "rand_index = rand_score(labels_true, labels_pred)\n",
    "\n",
    "print(rand_index)"
   ]
  },
  {
   "cell_type": "markdown",
   "metadata": {},
   "source": [
    "Сделаем для одного объекта неверное предсказание."
   ]
  },
  {
   "cell_type": "code",
   "execution_count": 13,
   "metadata": {},
   "outputs": [
    {
     "name": "stdout",
     "output_type": "stream",
     "text": [
      "0.75\n"
     ]
    }
   ],
   "source": [
    "# истинные метки классов\n",
    "labels_true = [0, 0, 0, 0, 1, 1, 1, 1]\n",
    "# предсказанные метки классов\n",
    "labels_pred = [0, 0, 0, 0, 0, 1, 1, 1]\n",
    "\n",
    "# считаем индекс Рэнда\n",
    "rand_index = rand_score(labels_true, labels_pred)\n",
    "\n",
    "print(rand_index)"
   ]
  },
  {
   "cell_type": "markdown",
   "metadata": {},
   "source": [
    "Значение меньше 1."
   ]
  }
 ],
 "metadata": {
  "kernelspec": {
   "display_name": "Python 3",
   "language": "python",
   "name": "python3"
  },
  "language_info": {
   "codemirror_mode": {
    "name": "ipython",
    "version": 3
   },
   "file_extension": ".py",
   "mimetype": "text/x-python",
   "name": "python",
   "nbconvert_exporter": "python",
   "pygments_lexer": "ipython3",
   "version": "3.9.10"
  }
 },
 "nbformat": 4,
 "nbformat_minor": 2
}
