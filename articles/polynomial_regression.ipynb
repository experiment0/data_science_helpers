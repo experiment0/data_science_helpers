{
 "cells": [
  {
   "cell_type": "markdown",
   "metadata": {},
   "source": [
    "# Полиномиальная регрессия (Polynomial Regression)"
   ]
  },
  {
   "cell_type": "code",
   "execution_count": 7,
   "metadata": {},
   "outputs": [],
   "source": [
    "import pandas as pd\n",
    "from sklearn import linear_model\n",
    "from sklearn.model_selection import train_test_split\n",
    "from sklearn import metrics\n",
    "from sklearn import preprocessing\n",
    "# возьмем данные о домах в Калифорнии\n",
    "from sklearn.datasets import fetch_california_housing"
   ]
  },
  {
   "cell_type": "code",
   "execution_count": 8,
   "metadata": {},
   "outputs": [
    {
     "data": {
      "text/html": [
       "<div>\n",
       "<style scoped>\n",
       "    .dataframe tbody tr th:only-of-type {\n",
       "        vertical-align: middle;\n",
       "    }\n",
       "\n",
       "    .dataframe tbody tr th {\n",
       "        vertical-align: top;\n",
       "    }\n",
       "\n",
       "    .dataframe thead th {\n",
       "        text-align: right;\n",
       "    }\n",
       "</style>\n",
       "<table border=\"1\" class=\"dataframe\">\n",
       "  <thead>\n",
       "    <tr style=\"text-align: right;\">\n",
       "      <th></th>\n",
       "      <th>MedInc</th>\n",
       "      <th>HouseAge</th>\n",
       "      <th>AveRooms</th>\n",
       "      <th>AveBedrms</th>\n",
       "      <th>Population</th>\n",
       "      <th>AveOccup</th>\n",
       "      <th>Latitude</th>\n",
       "      <th>Longitude</th>\n",
       "      <th>MedHouseVal</th>\n",
       "    </tr>\n",
       "  </thead>\n",
       "  <tbody>\n",
       "    <tr>\n",
       "      <th>0</th>\n",
       "      <td>8.3252</td>\n",
       "      <td>41.0</td>\n",
       "      <td>6.984127</td>\n",
       "      <td>1.023810</td>\n",
       "      <td>322.0</td>\n",
       "      <td>2.555556</td>\n",
       "      <td>37.88</td>\n",
       "      <td>-122.23</td>\n",
       "      <td>4.526</td>\n",
       "    </tr>\n",
       "    <tr>\n",
       "      <th>1</th>\n",
       "      <td>8.3014</td>\n",
       "      <td>21.0</td>\n",
       "      <td>6.238137</td>\n",
       "      <td>0.971880</td>\n",
       "      <td>2401.0</td>\n",
       "      <td>2.109842</td>\n",
       "      <td>37.86</td>\n",
       "      <td>-122.22</td>\n",
       "      <td>3.585</td>\n",
       "    </tr>\n",
       "    <tr>\n",
       "      <th>2</th>\n",
       "      <td>7.2574</td>\n",
       "      <td>52.0</td>\n",
       "      <td>8.288136</td>\n",
       "      <td>1.073446</td>\n",
       "      <td>496.0</td>\n",
       "      <td>2.802260</td>\n",
       "      <td>37.85</td>\n",
       "      <td>-122.24</td>\n",
       "      <td>3.521</td>\n",
       "    </tr>\n",
       "    <tr>\n",
       "      <th>3</th>\n",
       "      <td>5.6431</td>\n",
       "      <td>52.0</td>\n",
       "      <td>5.817352</td>\n",
       "      <td>1.073059</td>\n",
       "      <td>558.0</td>\n",
       "      <td>2.547945</td>\n",
       "      <td>37.85</td>\n",
       "      <td>-122.25</td>\n",
       "      <td>3.413</td>\n",
       "    </tr>\n",
       "    <tr>\n",
       "      <th>4</th>\n",
       "      <td>3.8462</td>\n",
       "      <td>52.0</td>\n",
       "      <td>6.281853</td>\n",
       "      <td>1.081081</td>\n",
       "      <td>565.0</td>\n",
       "      <td>2.181467</td>\n",
       "      <td>37.85</td>\n",
       "      <td>-122.25</td>\n",
       "      <td>3.422</td>\n",
       "    </tr>\n",
       "  </tbody>\n",
       "</table>\n",
       "</div>"
      ],
      "text/plain": [
       "   MedInc  HouseAge  AveRooms  AveBedrms  Population  AveOccup  Latitude  \\\n",
       "0  8.3252      41.0  6.984127   1.023810       322.0  2.555556     37.88   \n",
       "1  8.3014      21.0  6.238137   0.971880      2401.0  2.109842     37.86   \n",
       "2  7.2574      52.0  8.288136   1.073446       496.0  2.802260     37.85   \n",
       "3  5.6431      52.0  5.817352   1.073059       558.0  2.547945     37.85   \n",
       "4  3.8462      52.0  6.281853   1.081081       565.0  2.181467     37.85   \n",
       "\n",
       "   Longitude  MedHouseVal  \n",
       "0    -122.23        4.526  \n",
       "1    -122.22        3.585  \n",
       "2    -122.24        3.521  \n",
       "3    -122.25        3.413  \n",
       "4    -122.25        3.422  "
      ]
     },
     "execution_count": 8,
     "metadata": {},
     "output_type": "execute_result"
    }
   ],
   "source": [
    "data = fetch_california_housing(as_frame=True)\n",
    "\n",
    "housing_data = data['frame']\n",
    "housing_data.head()"
   ]
  },
  {
   "cell_type": "code",
   "execution_count": 9,
   "metadata": {},
   "outputs": [],
   "source": [
    "# признаки\n",
    "X = housing_data.drop(['MedHouseVal'], axis=1)\n",
    "# целевой признак\n",
    "y = housing_data['MedHouseVal']\n",
    "\n",
    "# разделяем на тренировочную и тестовую выборки\n",
    "X_train, X_test, y_train, y_test = train_test_split(X, y, test_size=0.25, random_state=42)"
   ]
  },
  {
   "cell_type": "markdown",
   "metadata": {},
   "source": [
    "> **Полиномиальная регрессия (Polynomial Regression)** — это более сложная модель, чем линейная регрессия. \\\n",
    "Вместо уравнения прямой используется уравнение полинома (многочлена). \\\n",
    "Степень полинома может быть сколь угодно большой: чем больше степень, тем сложнее модель.\n",
    "\n",
    "Например, если в исходных данных было два признака $x_1$ и $x_2$.\\\n",
    "То после генерации полиномиальных признаков мы получим 5 признаков:\\\n",
    "$ x_1, x_2, x_1^2, x_2^2, x_1x_2,$"
   ]
  },
  {
   "cell_type": "markdown",
   "metadata": {},
   "source": [
    "Полиномиальные признаки можно создать с помощью объекта класса [PolynomialFeatures](https://scikit-learn.org/stable/modules/generated/sklearn.preprocessing.PolynomialFeatures.html) \n",
    "из модуля `preprocessing`. \\\n",
    "Это преобразователь, который позволяет сгенерировать полиномиальные признаки любой степени \\\n",
    "и добавить их в таблицу. \\\n",
    "У него есть два важных параметра:\n",
    "\n",
    "- `degree` — степень полинома. По умолчанию используется степень `2` \\\n",
    "(лучше не указывать больше `3`-х, так как возрастает риск переобучения).\n",
    "- `include_bias` — включать ли в результирующую таблицу столбец из единиц (x в степени 0). \\\n",
    "По умолчанию стоит `True`, лучше выставить его в значение `False`, \\\n",
    "так как столбец из единиц и так добавляется в методе наименьших квадратов."
   ]
  },
  {
   "cell_type": "code",
   "execution_count": 10,
   "metadata": {},
   "outputs": [
    {
     "name": "stdout",
     "output_type": "stream",
     "text": [
      "44\n",
      "44\n"
     ]
    }
   ],
   "source": [
    "# cоздаём генератор полиномиальных признаков\n",
    "polynomial_features_generator = preprocessing.PolynomialFeatures(degree=2, include_bias=False)\n",
    "# обучаем его\n",
    "polynomial_features_generator.fit(X_train)\n",
    "\n",
    "# генерируем полиномиальные признаки для тренировочной выборки\n",
    "X_train_poly = polynomial_features_generator.transform(X_train)\n",
    "\n",
    "# генерируем полиномиальные признаки для тестовой выборки\n",
    "X_test_poly = polynomial_features_generator.transform(X_test)\n",
    "\n",
    "# посмотрим на количество созданных признаков\n",
    "print(X_train_poly.shape[1])\n",
    "print(X_test_poly.shape[1])"
   ]
  },
  {
   "cell_type": "markdown",
   "metadata": {},
   "source": [
    "Тип возвращаемых данных - `numpy`-массив."
   ]
  },
  {
   "cell_type": "code",
   "execution_count": 11,
   "metadata": {},
   "outputs": [
    {
     "name": "stdout",
     "output_type": "stream",
     "text": [
      "<class 'numpy.ndarray'>\n",
      "<class 'numpy.ndarray'>\n"
     ]
    }
   ],
   "source": [
    "print(type(X_train_poly))\n",
    "print(type(X_test_poly))"
   ]
  },
  {
   "cell_type": "markdown",
   "metadata": {},
   "source": [
    "Передадим новые признаки в линейную регрессию."
   ]
  },
  {
   "cell_type": "code",
   "execution_count": 12,
   "metadata": {},
   "outputs": [
    {
     "name": "stdout",
     "output_type": "stream",
     "text": [
      "MAPE train: 0.26165421173353975\n",
      "MAPE test: 0.26992984572316\n"
     ]
    }
   ],
   "source": [
    "# создаём объект класса LinearRegression\n",
    "linear_regression_poly_model = linear_model.LinearRegression()\n",
    "\n",
    "# обучаем модель\n",
    "linear_regression_poly_model.fit(X_train_poly, y_train)\n",
    "\n",
    "# делаем предсказание для тренировочной выборки\n",
    "y_train_pred_poly = linear_regression_poly_model.predict(X_train_poly)\n",
    "\n",
    "# делаем предсказание для тестовой выборки\n",
    "y_test_pred_poly = linear_regression_poly_model.predict(X_test_poly)\n",
    "\n",
    "# посчитаем MAPE для тренировочной выборки\n",
    "mape_train = metrics.mean_absolute_percentage_error(y_train, y_train_pred_poly)\n",
    "# посчитаем MAPE для тренировочной выборки\n",
    "mape_test = metrics.mean_absolute_percentage_error(y_test, y_test_pred_poly)\n",
    "\n",
    "print('MAPE train:', mape_train)\n",
    "print('MAPE test:', mape_test)"
   ]
  },
  {
   "cell_type": "markdown",
   "metadata": {},
   "source": [
    "Метрики примерно одинаковы, значит переобучения нет.\\\n",
    "Значение метрики лучше, чем для [обычной линейной регрессии](./linear_regression.ipynb) (0.31978371646123604)"
   ]
  }
 ],
 "metadata": {
  "kernelspec": {
   "display_name": "Python 3",
   "language": "python",
   "name": "python3"
  },
  "language_info": {
   "codemirror_mode": {
    "name": "ipython",
    "version": 3
   },
   "file_extension": ".py",
   "mimetype": "text/x-python",
   "name": "python",
   "nbconvert_exporter": "python",
   "pygments_lexer": "ipython3",
   "version": "3.9.10"
  }
 },
 "nbformat": 4,
 "nbformat_minor": 2
}
