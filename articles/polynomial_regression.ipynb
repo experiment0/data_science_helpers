{
 "cells": [
  {
   "cell_type": "markdown",
   "metadata": {},
   "source": [
    "# Полиномиальная регрессия (Polynomial Regression) и регуляризация"
   ]
  },
  {
   "cell_type": "code",
   "execution_count": 1,
   "metadata": {},
   "outputs": [],
   "source": [
    "import numpy as np\n",
    "from sklearn import linear_model\n",
    "from sklearn.model_selection import train_test_split\n",
    "from sklearn import metrics\n",
    "from sklearn import preprocessing\n",
    "# возьмем данные о домах в Калифорнии\n",
    "from sklearn.datasets import fetch_california_housing"
   ]
  },
  {
   "cell_type": "markdown",
   "metadata": {},
   "source": [
    "## Полиномиальная регрессия (Polynomial Regression)"
   ]
  },
  {
   "cell_type": "markdown",
   "metadata": {},
   "source": [
    "> **Полиномиальная регрессия (Polynomial Regression)** — это более сложная модель, чем линейная регрессия. \\\n",
    "Вместо уравнения прямой используется уравнение полинома (многочлена). \\\n",
    "Степень полинома может быть сколь угодно большой: чем больше степень, тем сложнее модель.\n",
    "\n",
    "Например, если в исходных данных было два признака $x_1$ и $x_2$.\\\n",
    "То после генерации полиномиальных признаков мы получим 5 признаков:\\\n",
    "$ x_1, x_2, x_1^2, x_2^2, x_1x_2,$"
   ]
  },
  {
   "cell_type": "markdown",
   "metadata": {},
   "source": [
    "Полиномиальные признаки можно создать с помощью объекта класса [PolynomialFeatures](https://scikit-learn.org/stable/modules/generated/sklearn.preprocessing.PolynomialFeatures.html) \n",
    "из модуля `preprocessing`. \\\n",
    "Это преобразователь, который позволяет сгенерировать полиномиальные признаки любой степени \\\n",
    "и добавить их в таблицу. \\\n",
    "У него есть два важных параметра:\n",
    "\n",
    "- `degree` — степень полинома. По умолчанию используется степень `2` \\\n",
    "(лучше не указывать больше `3`-х, так как возрастает риск переобучения).\n",
    "- `include_bias` — включать ли в результирующую таблицу столбец из единиц (x в степени 0). \\\n",
    "По умолчанию стоит `True`, лучше выставить его в значение `False`, \\\n",
    "так как столбец из единиц и так добавляется в методе наименьших квадратов."
   ]
  },
  {
   "cell_type": "markdown",
   "metadata": {},
   "source": [
    "Получим данные о домах в калифорнии и подготовим их для передачи в модель."
   ]
  },
  {
   "cell_type": "code",
   "execution_count": 2,
   "metadata": {},
   "outputs": [
    {
     "data": {
      "text/html": [
       "<div>\n",
       "<style scoped>\n",
       "    .dataframe tbody tr th:only-of-type {\n",
       "        vertical-align: middle;\n",
       "    }\n",
       "\n",
       "    .dataframe tbody tr th {\n",
       "        vertical-align: top;\n",
       "    }\n",
       "\n",
       "    .dataframe thead th {\n",
       "        text-align: right;\n",
       "    }\n",
       "</style>\n",
       "<table border=\"1\" class=\"dataframe\">\n",
       "  <thead>\n",
       "    <tr style=\"text-align: right;\">\n",
       "      <th></th>\n",
       "      <th>MedInc</th>\n",
       "      <th>HouseAge</th>\n",
       "      <th>AveRooms</th>\n",
       "      <th>AveBedrms</th>\n",
       "      <th>Population</th>\n",
       "      <th>AveOccup</th>\n",
       "      <th>Latitude</th>\n",
       "      <th>Longitude</th>\n",
       "      <th>MedHouseVal</th>\n",
       "    </tr>\n",
       "  </thead>\n",
       "  <tbody>\n",
       "    <tr>\n",
       "      <th>0</th>\n",
       "      <td>8.3252</td>\n",
       "      <td>41.0</td>\n",
       "      <td>6.984127</td>\n",
       "      <td>1.023810</td>\n",
       "      <td>322.0</td>\n",
       "      <td>2.555556</td>\n",
       "      <td>37.88</td>\n",
       "      <td>-122.23</td>\n",
       "      <td>4.526</td>\n",
       "    </tr>\n",
       "    <tr>\n",
       "      <th>1</th>\n",
       "      <td>8.3014</td>\n",
       "      <td>21.0</td>\n",
       "      <td>6.238137</td>\n",
       "      <td>0.971880</td>\n",
       "      <td>2401.0</td>\n",
       "      <td>2.109842</td>\n",
       "      <td>37.86</td>\n",
       "      <td>-122.22</td>\n",
       "      <td>3.585</td>\n",
       "    </tr>\n",
       "    <tr>\n",
       "      <th>2</th>\n",
       "      <td>7.2574</td>\n",
       "      <td>52.0</td>\n",
       "      <td>8.288136</td>\n",
       "      <td>1.073446</td>\n",
       "      <td>496.0</td>\n",
       "      <td>2.802260</td>\n",
       "      <td>37.85</td>\n",
       "      <td>-122.24</td>\n",
       "      <td>3.521</td>\n",
       "    </tr>\n",
       "    <tr>\n",
       "      <th>3</th>\n",
       "      <td>5.6431</td>\n",
       "      <td>52.0</td>\n",
       "      <td>5.817352</td>\n",
       "      <td>1.073059</td>\n",
       "      <td>558.0</td>\n",
       "      <td>2.547945</td>\n",
       "      <td>37.85</td>\n",
       "      <td>-122.25</td>\n",
       "      <td>3.413</td>\n",
       "    </tr>\n",
       "    <tr>\n",
       "      <th>4</th>\n",
       "      <td>3.8462</td>\n",
       "      <td>52.0</td>\n",
       "      <td>6.281853</td>\n",
       "      <td>1.081081</td>\n",
       "      <td>565.0</td>\n",
       "      <td>2.181467</td>\n",
       "      <td>37.85</td>\n",
       "      <td>-122.25</td>\n",
       "      <td>3.422</td>\n",
       "    </tr>\n",
       "  </tbody>\n",
       "</table>\n",
       "</div>"
      ],
      "text/plain": [
       "   MedInc  HouseAge  AveRooms  AveBedrms  Population  AveOccup  Latitude  \\\n",
       "0  8.3252      41.0  6.984127   1.023810       322.0  2.555556     37.88   \n",
       "1  8.3014      21.0  6.238137   0.971880      2401.0  2.109842     37.86   \n",
       "2  7.2574      52.0  8.288136   1.073446       496.0  2.802260     37.85   \n",
       "3  5.6431      52.0  5.817352   1.073059       558.0  2.547945     37.85   \n",
       "4  3.8462      52.0  6.281853   1.081081       565.0  2.181467     37.85   \n",
       "\n",
       "   Longitude  MedHouseVal  \n",
       "0    -122.23        4.526  \n",
       "1    -122.22        3.585  \n",
       "2    -122.24        3.521  \n",
       "3    -122.25        3.413  \n",
       "4    -122.25        3.422  "
      ]
     },
     "execution_count": 2,
     "metadata": {},
     "output_type": "execute_result"
    }
   ],
   "source": [
    "data = fetch_california_housing(as_frame=True)\n",
    "\n",
    "housing_data = data['frame']\n",
    "housing_data.head()"
   ]
  },
  {
   "cell_type": "code",
   "execution_count": 3,
   "metadata": {},
   "outputs": [],
   "source": [
    "# признаки\n",
    "X = housing_data.drop(['MedHouseVal'], axis=1)\n",
    "# целевой признак\n",
    "y = housing_data['MedHouseVal']\n",
    "\n",
    "# разделяем на тренировочную и тестовую выборки\n",
    "X_train, X_test, y_train, y_test = train_test_split(X, y, test_size=0.25, random_state=42)\n",
    "\n",
    "# нормализуем данные, чтобы коэффициенты не были слишком большими, так модель будет устойчивой\n",
    "\n",
    "# инициализируем нормализатор MinMaxScaler\n",
    "mm_scaler = preprocessing.MinMaxScaler()\n",
    "\n",
    "# производим стандартизацию\n",
    "mm_scaler.fit(X_train)\n",
    "\n",
    "X_train_scaled = mm_scaler.transform(X_train)\n",
    "X_test_scaled = mm_scaler.transform(X_test)"
   ]
  },
  {
   "cell_type": "code",
   "execution_count": 4,
   "metadata": {},
   "outputs": [
    {
     "name": "stdout",
     "output_type": "stream",
     "text": [
      "44\n",
      "44\n"
     ]
    }
   ],
   "source": [
    "# cоздаём генератор полиномиальных признаков\n",
    "polynomial_features_generator2 = preprocessing.PolynomialFeatures(degree=2, include_bias=False)\n",
    "# обучаем его\n",
    "polynomial_features_generator2.fit(X_train_scaled)\n",
    "\n",
    "# генерируем полиномиальные признаки для тренировочной выборки\n",
    "X_train_poly2 = polynomial_features_generator2.transform(X_train_scaled)\n",
    "\n",
    "# генерируем полиномиальные признаки для тестовой выборки\n",
    "X_test_poly2 = polynomial_features_generator2.transform(X_test_scaled)\n",
    "\n",
    "# посмотрим на количество созданных признаков\n",
    "print(X_train_poly2.shape[1])\n",
    "print(X_test_poly2.shape[1])"
   ]
  },
  {
   "cell_type": "markdown",
   "metadata": {},
   "source": [
    "Тип возвращаемых данных - `numpy`-массив."
   ]
  },
  {
   "cell_type": "code",
   "execution_count": 5,
   "metadata": {},
   "outputs": [
    {
     "name": "stdout",
     "output_type": "stream",
     "text": [
      "<class 'numpy.ndarray'>\n",
      "<class 'numpy.ndarray'>\n"
     ]
    }
   ],
   "source": [
    "print(type(X_train_poly2))\n",
    "print(type(X_test_poly2))"
   ]
  },
  {
   "cell_type": "markdown",
   "metadata": {},
   "source": [
    "Передадим новые признаки в линейную регрессию."
   ]
  },
  {
   "cell_type": "code",
   "execution_count": 6,
   "metadata": {},
   "outputs": [
    {
     "name": "stdout",
     "output_type": "stream",
     "text": [
      "MAPE train: 0.2616542118066179\n",
      "MAPE test: 0.26992984576487733\n"
     ]
    }
   ],
   "source": [
    "# создаём объект класса LinearRegression\n",
    "linear_regression_poly2_model = linear_model.LinearRegression()\n",
    "\n",
    "# обучаем модель\n",
    "linear_regression_poly2_model.fit(X_train_poly2, y_train)\n",
    "\n",
    "# делаем предсказание для тренировочной выборки\n",
    "y_train_pred_poly2 = linear_regression_poly2_model.predict(X_train_poly2)\n",
    "\n",
    "# делаем предсказание для тестовой выборки\n",
    "y_test_pred_poly2 = linear_regression_poly2_model.predict(X_test_poly2)\n",
    "\n",
    "# посчитаем MAPE для тренировочной выборки\n",
    "mape_train2 = metrics.mean_absolute_percentage_error(y_train, y_train_pred_poly2)\n",
    "# посчитаем MAPE для тренировочной выборки\n",
    "mape_test2 = metrics.mean_absolute_percentage_error(y_test, y_test_pred_poly2)\n",
    "\n",
    "print('MAPE train:', mape_train2)\n",
    "print('MAPE test:', mape_test2)"
   ]
  },
  {
   "cell_type": "markdown",
   "metadata": {},
   "source": [
    "Метрики примерно одинаковы, значит переобучения нет.\\\n",
    "Значение метрики лучше, чем для [обычной линейной регрессии](./linear_regression.ipynb) (0.31978371646123604)"
   ]
  },
  {
   "cell_type": "code",
   "execution_count": 7,
   "metadata": {},
   "outputs": [
    {
     "data": {
      "text/plain": [
       "3.51143"
      ]
     },
     "execution_count": 7,
     "metadata": {},
     "output_type": "execute_result"
    }
   ],
   "source": [
    "np.round(linear_regression_poly2_model.coef_[1], decimals=5)"
   ]
  },
  {
   "cell_type": "code",
   "execution_count": 8,
   "metadata": {},
   "outputs": [
    {
     "name": "stdout",
     "output_type": "stream",
     "text": [
      "w0: 3.1787\n",
      "wi: [ 2.52905745e+01  3.51142514e+00 -1.52130188e+02  1.28251194e+02\n",
      " -1.57696433e+01 -3.57188251e+02 -7.00091468e+00 -5.94615452e+00\n",
      " -6.43248386e+00  1.18175064e+00  7.91187994e+01 -5.08985805e+01\n",
      "  2.64578650e+01 -6.92815054e+01 -2.20445437e+01 -2.20883158e+01\n",
      "  5.48888465e-01 -4.30141227e+00  1.40765257e+01  4.66868674e+00\n",
      " -1.24963165e+02 -4.95963480e+00 -5.15429266e+00  2.32407810e+02\n",
      " -4.15478439e+02 -2.77596683e+02  3.74288846e+03  1.41818422e+02\n",
      "  1.42437016e+02  1.84909186e+02  4.41396198e+02 -2.72119328e+03\n",
      " -1.28448345e+02 -1.26053300e+02  1.80790851e+00  1.08219429e+03\n",
      "  3.52308423e+00  1.30415893e+00  8.12143282e+01  2.38042139e+02\n",
      "  1.98097051e+02  5.12905889e+00  9.59439228e+00  3.84716685e+00]\n"
     ]
    }
   ],
   "source": [
    "# свободный член w0\n",
    "print(f'w0: {np.round(linear_regression_poly2_model.intercept_, 5)}') \n",
    "\n",
    "# остальные параметры модели w1, w2, ..., wm\n",
    "print(f'wi: {linear_regression_poly2_model.coef_}')"
   ]
  },
  {
   "cell_type": "markdown",
   "metadata": {},
   "source": [
    "Коэффициенты не очень большие, можно предположить, что модель устойчива."
   ]
  },
  {
   "cell_type": "markdown",
   "metadata": {},
   "source": [
    "## Регуляризация"
   ]
  },
  {
   "cell_type": "markdown",
   "metadata": {},
   "source": [
    "> **Регуляризация** — способ уменьшения переобучения моделей машинного обучения.\n",
    "\n",
    "Осуществляется путем намеренного увеличения смещения модели, чтобы уменьшить ее разброс.\\\n",
    "К функции потерь добавляется неотрицательное слагаемое (называемое также **штрафом**).\\\n",
    "Эта слагаемое специально повышает ошибку.\\\n",
    "В результате алгоритм находит не истинный минимум, а псевдоминимум.\n",
    "\n",
    "Есть несколько способов добавления штрафа к функции потерь:\n",
    "\n",
    "- **L1-регуляризация (Lasso)** — добавление к функции потерь суммы модулей коэффициентов, \\\n",
    "умноженных на коэффициент регуляризации $\\alpha$:\n",
    "\n",
    "$$ L_{1}(w)=M S E+\\alpha \\sum_{j=1}^{m}\\left|w_{j}\\right| $$\n",
    "\n",
    "- **L2-регуляризация (Ridge)**, или регуляризация Тихонова — \\\n",
    "добавление к функции потерь суммы квадратов коэффициентов, \\\n",
    "умноженных на коэффициент регуляризации $\\alpha$\\:\n",
    "\n",
    "$$ L_{2} (w) = MSE + \\alpha \\sum_{j=1}^{m} (w_{j})^{2} $$"
   ]
  },
  {
   "cell_type": "markdown",
   "metadata": {},
   "source": [
    "- **Эластичная сетка (Elastic Net)** — это комбинация из двух методов регуляризации. \\\n",
    "Функция потерь в таком методе выглядит следующим образом:\n",
    "\n",
    "$$ L_{2}(w)=M S E+\\alpha \\cdot \\lambda \\sum_{i=1}^{m}\\left|w_{i}\\right|+\\alpha \\cdot(1-\\lambda) \\sum_{i=1}^{m}\\left(w_{i}\\right)^{2} \\rightarrow \\min _{w} $$\n",
    "\n",
    "Параметры $\\alpha$ и $\\lambda$ позволяют регулировать вклад L1- и L2-регуляризации.\\\n",
    "Способ используется редко, так как требует подбора сразу двух оптимальных значений параметров ($\\alpha$ и $\\lambda$)."
   ]
  },
  {
   "cell_type": "markdown",
   "metadata": {},
   "source": [
    "> **Коэффициенты** ($\\alpha$ и $\\lambda$) — это коэффициенты регуляризации. \\\n",
    "Они отвечают за то, насколько сильное смещение вносится в модель: \\\n",
    "чем оно больше, тем сильнее будет штраф за переобучение.\n",
    "\n",
    "Если параметра у модели только два ($w_0$ и $w_1$)\\\n",
    "то геометрически в случае L1-регуляризации минимум функции потерь ищется на пересечении с ромбом в центре координат,\\\n",
    "а в случае L2-регуляризации - с кругом."
   ]
  },
  {
   "cell_type": "markdown",
   "metadata": {},
   "source": [
    "Поиск минимума строится на основе [метода множителей Лагранжа](https://ru.wikipedia.org/wiki/%D0%9C%D0%B5%D1%82%D0%BE%D0%B4_%D0%BC%D0%BD%D0%BE%D0%B6%D0%B8%D1%82%D0%B5%D0%BB%D0%B5%D0%B9_%D0%9B%D0%B0%D0%B3%D1%80%D0%B0%D0%BD%D0%B6%D0%B0).\\\n",
    "В sklearn для решения задачи оптимизации \n",
    "используется итеративный алгоритм [координатного спуска](https://ru.wikipedia.org/wiki/%D0%9A%D0%BE%D0%BE%D1%80%D0%B4%D0%B8%D0%BD%D0%B0%D1%82%D0%BD%D1%8B%D0%B9_%D1%81%D0%BF%D1%83%D1%81%D0%BA)."
   ]
  },
  {
   "cell_type": "markdown",
   "metadata": {},
   "source": [
    "В **sklearn** методы регуляризации реализованы в классах:\n",
    "- [Lasso](https://scikit-learn.org/stable/modules/generated/sklearn.linear_model.Lasso.html) - L1-регуляризация\n",
    "(параметр регуляризации `alpha` по умолчанию равен `1`, но лучше брать `< 1`, например `0.1`).\n",
    "- [Ridge](https://scikit-learn.org/stable/modules/generated/sklearn.linear_model.Ridge.html) - L2-регуляризация\n",
    "(параметр регуляризации `alpha` по умолчанию равен `1`, но лучше брать `< 1`, например `0.1`).\n",
    "- [ElasticNet](https://scikit-learn.org/stable/modules/generated/sklearn.linear_model.ElasticNet.html) - Эластичная сетка (параметры по умолчанию `alpha=1.0`, `l1_ratio=0.5`)\n",
    "- [SGDRegressor](https://scikit-learn.org/stable/modules/generated/sklearn.linear_model.SGDRegressor.html) - регуляризация присутствует по умолчанию.\\\n",
    "В инициализаторе класса есть параметр `penalty`, который принимает тип регуляризации (`l1`, `l2` и `elasticnet`). \\\n",
    "По умолчанию используется L2-регуляризация (`penalty='l2'`). \\\n",
    "Коэффициент регуляризации `alpha` по умолчанию равен `0.0001` (относительно слабая регуляризация)."
   ]
  },
  {
   "cell_type": "markdown",
   "metadata": {},
   "source": [
    "Для примера создадим полиномиальные признаки третьей степени и решим проблему переобучения с помощью `Lasso`."
   ]
  },
  {
   "cell_type": "code",
   "execution_count": 9,
   "metadata": {},
   "outputs": [
    {
     "name": "stdout",
     "output_type": "stream",
     "text": [
      "164\n",
      "164\n"
     ]
    }
   ],
   "source": [
    "# cоздаём генератор полиномиальных признаков\n",
    "polynomial_features_generator3 = preprocessing.PolynomialFeatures(degree=3, include_bias=False)\n",
    "# обучаем его\n",
    "polynomial_features_generator3.fit(X_train_scaled)\n",
    "\n",
    "# генерируем полиномиальные признаки для тренировочной выборки\n",
    "X_train_poly3 = polynomial_features_generator3.transform(X_train_scaled)\n",
    "\n",
    "# генерируем полиномиальные признаки для тестовой выборки\n",
    "X_test_poly3 = polynomial_features_generator3.transform(X_test_scaled)\n",
    "\n",
    "# посмотрим на количество созданных признаков\n",
    "print(X_train_poly3.shape[1])\n",
    "print(X_test_poly3.shape[1])"
   ]
  },
  {
   "cell_type": "code",
   "execution_count": 10,
   "metadata": {},
   "outputs": [
    {
     "name": "stdout",
     "output_type": "stream",
     "text": [
      "MAPE train: 0.24145398330869788\n",
      "MAPE test: 0.31314691854350013\n"
     ]
    }
   ],
   "source": [
    "# создаём объект класса LinearRegression\n",
    "linear_regression_poly3_model = linear_model.LinearRegression()\n",
    "\n",
    "# обучаем модель\n",
    "linear_regression_poly3_model.fit(X_train_poly3, y_train)\n",
    "\n",
    "# делаем предсказание для тренировочной выборки\n",
    "y_train_pred_poly3 = linear_regression_poly3_model.predict(X_train_poly3)\n",
    "\n",
    "# делаем предсказание для тестовой выборки\n",
    "y_test_pred_poly3 = linear_regression_poly3_model.predict(X_test_poly3)\n",
    "\n",
    "# посчитаем MAPE для тренировочной выборки\n",
    "mape_train3 = metrics.mean_absolute_percentage_error(y_train, y_train_pred_poly3)\n",
    "# посчитаем MAPE для тренировочной выборки\n",
    "mape_test3 = metrics.mean_absolute_percentage_error(y_test, y_test_pred_poly3)\n",
    "\n",
    "print('MAPE train:', mape_train3)\n",
    "print('MAPE test:', mape_test3)"
   ]
  },
  {
   "cell_type": "markdown",
   "metadata": {},
   "source": [
    "На тренировочной выборке модель в среднем ошибается на 24%\\\n",
    "А на тестовой на 31%\\\n",
    "Попробуем исправить это с помощью регуляризации."
   ]
  },
  {
   "cell_type": "code",
   "execution_count": 11,
   "metadata": {},
   "outputs": [
    {
     "name": "stdout",
     "output_type": "stream",
     "text": [
      "MAPE train: 0.2805644624591604\n",
      "MAPE test: 0.2858950436023314\n"
     ]
    }
   ],
   "source": [
    "# Создаём объект класса линейной регрессии с L1-регуляризацией\n",
    "lasso_poly3_model = linear_model.Lasso(alpha=0.0001, max_iter=10000)\n",
    "\n",
    "# Обучаем модель\n",
    "lasso_poly3_model.fit(X_train_poly3, y_train)\n",
    "\n",
    "# Делаем предсказание для тренировочной выборки\n",
    "y_train_pred_poly3 = lasso_poly3_model.predict(X_train_poly3)\n",
    "\n",
    "# Делаем предсказание для тестовой выборки\n",
    "y_test_pred_poly3 = lasso_poly3_model.predict(X_test_poly3)\n",
    "\n",
    "# посчитаем MAPE для тренировочной выборки\n",
    "mape_train3 = metrics.mean_absolute_percentage_error(y_train, y_train_pred_poly3)\n",
    "# посчитаем MAPE для тренировочной выборки\n",
    "mape_test3 = metrics.mean_absolute_percentage_error(y_test, y_test_pred_poly3)\n",
    "\n",
    "print('MAPE train:', mape_train3)\n",
    "print('MAPE test:', mape_test3)"
   ]
  },
  {
   "cell_type": "markdown",
   "metadata": {},
   "source": [
    "Метрики на тренировочной и тестовой выборках примерно равны.\\\n",
    "Мы решили проблему переобучения с помощью регуляризации."
   ]
  },
  {
   "cell_type": "code",
   "execution_count": 13,
   "metadata": {},
   "outputs": [
    {
     "name": "stdout",
     "output_type": "stream",
     "text": [
      "w0: 4.88571\n",
      "wi: [  3.14523   0.5445  -13.48666  14.0862    0.       -2.99935  -6.45283\n",
      "  -5.01515  16.18719   6.79688   0.        0.        0.14411  -0.\n",
      "  -2.95885  -5.35546   0.       -0.        2.428     0.       -0.\n",
      "  -0.11338  -0.9973    0.        0.       -0.       -0.       -0.\n",
      "  -0.       -0.        0.       -0.       -0.        0.       -0.\n",
      "  -0.        0.       -0.        0.       -0.       -0.       -0.\n",
      "   0.        0.      -11.39623  -6.02127   0.        0.        0.\n",
      "  -0.       -1.58879   0.        0.       -0.        0.        0.\n",
      "  -0.       -2.80937  -0.        0.        0.        0.       -0.\n",
      "   0.        0.       -0.        0.       -0.       -0.        0.\n",
      "   0.       -0.        0.        0.       -0.       -0.       -0.\n",
      "  -0.       -0.21634  -0.        1.7965   -0.        0.        0.67163\n",
      "  -0.       -2.2962   -2.92284   0.        0.       -0.       -0.\n",
      "  -0.       -0.        0.        0.       -0.        0.        0.\n",
      "   0.        0.        0.       -0.       -0.       -0.       -0.\n",
      "  -0.79793   0.       -0.        0.93078   0.        0.        0.\n",
      "   0.        0.        0.        0.        0.        0.        0.\n",
      "  -0.        0.        0.       -0.        0.        0.       -0.\n",
      "  -0.        0.       -0.        0.        0.        0.       -0.\n",
      "  -0.        0.        0.        0.        0.        0.       -0.\n",
      "  -0.       -0.        0.        0.       -0.        0.       -0.\n",
      "  -0.       -0.        0.       -0.        0.       -0.       -0.\n",
      "  -0.       -0.        0.       -0.       -0.       -0.        2.56696\n",
      "   5.16675   4.31366   0.51597]\n"
     ]
    }
   ],
   "source": [
    "# свободный член w0\n",
    "print(f'w0: {np.round(lasso_poly3_model.intercept_, 5)}') \n",
    "\n",
    "# остальные параметры модели w1, w2, ..., wm\n",
    "print(f'wi: {np.round(lasso_poly3_model.coef_, 5)}')"
   ]
  },
  {
   "cell_type": "markdown",
   "metadata": {},
   "source": [
    "Большая часть коэффициентов обнулилась. \\\n",
    "Это значит, что признаки, которые соответствуют этим коэффициентам, \\\n",
    "не используются в прогнозе модели Lasso-регрессии.\\\n",
    "Регуляризация Ridge не обнуляет коэффициенты, она использует все признаки."
   ]
  }
 ],
 "metadata": {
  "kernelspec": {
   "display_name": "Python 3",
   "language": "python",
   "name": "python3"
  },
  "language_info": {
   "codemirror_mode": {
    "name": "ipython",
    "version": 3
   },
   "file_extension": ".py",
   "mimetype": "text/x-python",
   "name": "python",
   "nbconvert_exporter": "python",
   "pygments_lexer": "ipython3",
   "version": "3.9.10"
  }
 },
 "nbformat": 4,
 "nbformat_minor": 2
}
