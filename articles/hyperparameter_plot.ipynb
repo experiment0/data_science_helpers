{
 "cells": [
  {
   "cell_type": "markdown",
   "metadata": {},
   "source": [
    "# Поиск оптимальных внешних параметров модели по графику"
   ]
  },
  {
   "cell_type": "markdown",
   "metadata": {},
   "source": [
    "Подберем параметр  `alpha` для модели линейной регрессии с L1-регуляризацией."
   ]
  },
  {
   "cell_type": "code",
   "execution_count": 14,
   "metadata": {},
   "outputs": [],
   "source": [
    "import numpy as np\n",
    "from sklearn import linear_model\n",
    "from sklearn.model_selection import train_test_split\n",
    "from sklearn import metrics\n",
    "from sklearn import preprocessing\n",
    "# возьмем данные о домах в Калифорнии\n",
    "from sklearn.datasets import fetch_california_housing\n",
    "import seaborn as sns \n",
    "import matplotlib.pyplot as plt \n",
    "%matplotlib inline\n",
    "\n",
    "from warnings import simplefilter\n",
    "simplefilter('ignore')"
   ]
  },
  {
   "cell_type": "markdown",
   "metadata": {},
   "source": [
    "Получим данные о домах в калифорнии и подготовим их для передачи в модель."
   ]
  },
  {
   "cell_type": "code",
   "execution_count": 15,
   "metadata": {},
   "outputs": [
    {
     "data": {
      "text/html": [
       "<div>\n",
       "<style scoped>\n",
       "    .dataframe tbody tr th:only-of-type {\n",
       "        vertical-align: middle;\n",
       "    }\n",
       "\n",
       "    .dataframe tbody tr th {\n",
       "        vertical-align: top;\n",
       "    }\n",
       "\n",
       "    .dataframe thead th {\n",
       "        text-align: right;\n",
       "    }\n",
       "</style>\n",
       "<table border=\"1\" class=\"dataframe\">\n",
       "  <thead>\n",
       "    <tr style=\"text-align: right;\">\n",
       "      <th></th>\n",
       "      <th>MedInc</th>\n",
       "      <th>HouseAge</th>\n",
       "      <th>AveRooms</th>\n",
       "      <th>AveBedrms</th>\n",
       "      <th>Population</th>\n",
       "      <th>AveOccup</th>\n",
       "      <th>Latitude</th>\n",
       "      <th>Longitude</th>\n",
       "      <th>MedHouseVal</th>\n",
       "    </tr>\n",
       "  </thead>\n",
       "  <tbody>\n",
       "    <tr>\n",
       "      <th>0</th>\n",
       "      <td>8.3252</td>\n",
       "      <td>41.0</td>\n",
       "      <td>6.984127</td>\n",
       "      <td>1.023810</td>\n",
       "      <td>322.0</td>\n",
       "      <td>2.555556</td>\n",
       "      <td>37.88</td>\n",
       "      <td>-122.23</td>\n",
       "      <td>4.526</td>\n",
       "    </tr>\n",
       "    <tr>\n",
       "      <th>1</th>\n",
       "      <td>8.3014</td>\n",
       "      <td>21.0</td>\n",
       "      <td>6.238137</td>\n",
       "      <td>0.971880</td>\n",
       "      <td>2401.0</td>\n",
       "      <td>2.109842</td>\n",
       "      <td>37.86</td>\n",
       "      <td>-122.22</td>\n",
       "      <td>3.585</td>\n",
       "    </tr>\n",
       "    <tr>\n",
       "      <th>2</th>\n",
       "      <td>7.2574</td>\n",
       "      <td>52.0</td>\n",
       "      <td>8.288136</td>\n",
       "      <td>1.073446</td>\n",
       "      <td>496.0</td>\n",
       "      <td>2.802260</td>\n",
       "      <td>37.85</td>\n",
       "      <td>-122.24</td>\n",
       "      <td>3.521</td>\n",
       "    </tr>\n",
       "    <tr>\n",
       "      <th>3</th>\n",
       "      <td>5.6431</td>\n",
       "      <td>52.0</td>\n",
       "      <td>5.817352</td>\n",
       "      <td>1.073059</td>\n",
       "      <td>558.0</td>\n",
       "      <td>2.547945</td>\n",
       "      <td>37.85</td>\n",
       "      <td>-122.25</td>\n",
       "      <td>3.413</td>\n",
       "    </tr>\n",
       "    <tr>\n",
       "      <th>4</th>\n",
       "      <td>3.8462</td>\n",
       "      <td>52.0</td>\n",
       "      <td>6.281853</td>\n",
       "      <td>1.081081</td>\n",
       "      <td>565.0</td>\n",
       "      <td>2.181467</td>\n",
       "      <td>37.85</td>\n",
       "      <td>-122.25</td>\n",
       "      <td>3.422</td>\n",
       "    </tr>\n",
       "  </tbody>\n",
       "</table>\n",
       "</div>"
      ],
      "text/plain": [
       "   MedInc  HouseAge  AveRooms  AveBedrms  Population  AveOccup  Latitude  \\\n",
       "0  8.3252      41.0  6.984127   1.023810       322.0  2.555556     37.88   \n",
       "1  8.3014      21.0  6.238137   0.971880      2401.0  2.109842     37.86   \n",
       "2  7.2574      52.0  8.288136   1.073446       496.0  2.802260     37.85   \n",
       "3  5.6431      52.0  5.817352   1.073059       558.0  2.547945     37.85   \n",
       "4  3.8462      52.0  6.281853   1.081081       565.0  2.181467     37.85   \n",
       "\n",
       "   Longitude  MedHouseVal  \n",
       "0    -122.23        4.526  \n",
       "1    -122.22        3.585  \n",
       "2    -122.24        3.521  \n",
       "3    -122.25        3.413  \n",
       "4    -122.25        3.422  "
      ]
     },
     "execution_count": 15,
     "metadata": {},
     "output_type": "execute_result"
    }
   ],
   "source": [
    "data = fetch_california_housing(as_frame=True)\n",
    "\n",
    "housing_data = data['frame']\n",
    "housing_data.head()"
   ]
  },
  {
   "cell_type": "code",
   "execution_count": 16,
   "metadata": {},
   "outputs": [],
   "source": [
    "# признаки\n",
    "X = housing_data.drop(['MedHouseVal'], axis=1)\n",
    "# целевой признак\n",
    "y = housing_data['MedHouseVal']\n",
    "\n",
    "# разделяем на тренировочную и тестовую выборки\n",
    "X_train, X_test, y_train, y_test = train_test_split(X, y, test_size=0.25, random_state=42)\n",
    "\n",
    "# нормализуем данные, чтобы коэффициенты не были слишком большими, так модель будет устойчивой\n",
    "\n",
    "# инициализируем нормализатор MinMaxScaler\n",
    "mm_scaler = preprocessing.MinMaxScaler()\n",
    "\n",
    "# производим стандартизацию\n",
    "mm_scaler.fit(X_train)\n",
    "\n",
    "X_train_scaled = mm_scaler.transform(X_train)\n",
    "X_test_scaled = mm_scaler.transform(X_test)"
   ]
  },
  {
   "cell_type": "code",
   "execution_count": 17,
   "metadata": {},
   "outputs": [],
   "source": [
    "# cоздаём генератор полиномиальных признаков\n",
    "polynomial_features_generator3 = preprocessing.PolynomialFeatures(degree=3, include_bias=False)\n",
    "# обучаем его\n",
    "polynomial_features_generator3.fit(X_train_scaled)\n",
    "\n",
    "# генерируем полиномиальные признаки для тренировочной выборки\n",
    "X_train_poly3 = polynomial_features_generator3.transform(X_train_scaled)\n",
    "\n",
    "# генерируем полиномиальные признаки для тестовой выборки\n",
    "X_test_poly3 = polynomial_features_generator3.transform(X_test_scaled)"
   ]
  },
  {
   "cell_type": "code",
   "execution_count": 18,
   "metadata": {},
   "outputs": [],
   "source": [
    "# Создаём список значений alpha\n",
    "alpha_list = np.linspace(0.00001, 0.001, 20)\n",
    "\n",
    "# Создаём пустые списки, в которые будем добавлять результаты \n",
    "train_scores = []\n",
    "test_scores = []\n",
    "\n",
    "for alpha in alpha_list:\n",
    "    # Создаём объект класса линейной регрессии с L1-регуляризацией\n",
    "    lasso_poly3_model = linear_model.Lasso(alpha=alpha, max_iter=10000)\n",
    "    \n",
    "    # Обучаем модель\n",
    "    lasso_poly3_model.fit(X_train_poly3, y_train)\n",
    "    \n",
    "    # Делаем предсказание для тренировочной выборки\n",
    "    y_train_pred_poly3 = lasso_poly3_model.predict(X_train_poly3)\n",
    "    \n",
    "    # Делаем предсказание для тестовой выборки\n",
    "    y_test_pred_poly3 = lasso_poly3_model.predict(X_test_poly3)\n",
    "    \n",
    "    # посчитаем MAPE для тренировочной выборки\n",
    "    mape_train3 = metrics.mean_absolute_percentage_error(y_train, y_train_pred_poly3)\n",
    "    # посчитаем MAPE для тренировочной выборки\n",
    "    mape_test3 = metrics.mean_absolute_percentage_error(y_test, y_test_pred_poly3)\n",
    "\n",
    "    # добавляем метрики в списки\n",
    "    train_scores.append(mape_train3)\n",
    "    test_scores.append(mape_test3)"
   ]
  },
  {
   "cell_type": "markdown",
   "metadata": {},
   "source": [
    "Построим график с иллюстрацией, как меняются метрики в зависимости от `alpha`."
   ]
  },
  {
   "cell_type": "code",
   "execution_count": 19,
   "metadata": {},
   "outputs": [
    {
     "data": {
      "image/png": "[encoded data removed]",
      "text/plain": [
       "<Figure size 1008x504 with 1 Axes>"
      ]
     },
     "metadata": {
      "needs_background": "light"
     },
     "output_type": "display_data"
    }
   ],
   "source": [
    "# фигура + координатная плоскость\n",
    "fig, ax = plt.subplots(figsize=(14, 7)) \n",
    "\n",
    "# линейный график для тренировочной выборки\n",
    "ax.plot(alpha_list, train_scores, label='Train') \n",
    "\n",
    "# линейный график для тестовой выборки\n",
    "ax.plot(alpha_list, test_scores, label='Test') \n",
    "\n",
    "# название оси абсцисс\n",
    "ax.set_xlabel('Alpha') \n",
    "\n",
    "# название оси ординат\n",
    "ax.set_ylabel('MAPE') \n",
    "\n",
    "# метки по оси абсцисс\n",
    "ax.set_xticks(alpha_list) \n",
    "\n",
    "# поворот меток на оси абсцисс\n",
    "ax.xaxis.set_tick_params(rotation=45) \n",
    "\n",
    "# отображение легенды\n",
    "ax.legend(); "
   ]
  },
  {
   "cell_type": "markdown",
   "metadata": {},
   "source": [
    "По графику видно, что при `alpha` равном `0.0003747` метрики на тренировочной и тестовой выборке наиболее близкие.\\\n",
    "Дальше расстояние между кривыми примерно одинаково, но `MAPE` повышается.\\\n",
    "Возмем значение `alpha` равным `0.0003747`."
   ]
  },
  {
   "cell_type": "code",
   "execution_count": 20,
   "metadata": {},
   "outputs": [
    {
     "name": "stdout",
     "output_type": "stream",
     "text": [
      "MAPE train: 0.3015568205708649\n",
      "MAPE test: 0.303058523319282\n"
     ]
    }
   ],
   "source": [
    "# Создаём объект класса линейной регрессии с L1-регуляризацией\n",
    "lasso_poly3_model = linear_model.Lasso(alpha=0.0003747, max_iter=10000)\n",
    "\n",
    "# Обучаем модель\n",
    "lasso_poly3_model.fit(X_train_poly3, y_train)\n",
    "\n",
    "# Делаем предсказание для тренировочной выборки\n",
    "y_train_pred_poly3 = lasso_poly3_model.predict(X_train_poly3)\n",
    "\n",
    "# Делаем предсказание для тестовой выборки\n",
    "y_test_pred_poly3 = lasso_poly3_model.predict(X_test_poly3)\n",
    "\n",
    "# посчитаем MAPE для тренировочной выборки\n",
    "mape_train3 = metrics.mean_absolute_percentage_error(y_train, y_train_pred_poly3)\n",
    "# посчитаем MAPE для тренировочной выборки\n",
    "mape_test3 = metrics.mean_absolute_percentage_error(y_test, y_test_pred_poly3)\n",
    "\n",
    "print('MAPE train:', mape_train3)\n",
    "print('MAPE test:', mape_test3)"
   ]
  },
  {
   "cell_type": "markdown",
   "metadata": {},
   "source": [
    "Таким образом мы добились почти одинакового значения метрик на тренировочной и тестовой выборке."
   ]
  }
 ],
 "metadata": {
  "kernelspec": {
   "display_name": "Python 3",
   "language": "python",
   "name": "python3"
  },
  "language_info": {
   "codemirror_mode": {
    "name": "ipython",
    "version": 3
   },
   "file_extension": ".py",
   "mimetype": "text/x-python",
   "name": "python",
   "nbconvert_exporter": "python",
   "pygments_lexer": "ipython3",
   "version": "3.9.10"
  }
 },
 "nbformat": 4,
 "nbformat_minor": 2
}
