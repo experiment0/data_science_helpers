{
 "cells": [
  {
   "cell_type": "markdown",
   "metadata": {},
   "source": [
    "# Линейная регрессия"
   ]
  },
  {
   "cell_type": "code",
   "execution_count": 37,
   "metadata": {},
   "outputs": [],
   "source": [
    "import pandas as pd\n",
    "from sklearn import linear_model\n",
    "from sklearn.model_selection import train_test_split\n",
    "from sklearn import metrics\n",
    "from sklearn import preprocessing\n",
    "# возьмем данные о домах в Калифорнии\n",
    "from sklearn.datasets import fetch_california_housing"
   ]
  },
  {
   "cell_type": "markdown",
   "metadata": {},
   "source": [
    "## Аналитическое решение, метод наименьших квадратов (МНК)"
   ]
  },
  {
   "cell_type": "markdown",
   "metadata": {},
   "source": [
    "В функции `linear_model.LinearRegression()` используется аналитическое решение. \\\n",
    "Метод наименьших квадратов (МНК).\n",
    "\n",
    "$$ \\bar{w}=\\left(X^{T} X\\right)^{-1} X^{T} y=Q X^{T} y $$"
   ]
  },
  {
   "cell_type": "markdown",
   "metadata": {},
   "source": [
    "> Теорема [Гаусса-Маркова](https://ru.wikipedia.org/wiki/%D0%A2%D0%B5%D0%BE%D1%80%D0%B5%D0%BC%D0%B0_%D0%93%D0%B0%D1%83%D1%81%D1%81%D0%B0_%E2%80%94_%D0%9C%D0%B0%D1%80%D0%BA%D0%BE%D0%B2%D0%B0), говорит о том, \\\n",
    "что, если выполнены все условия теоремы, МНК всегда находит оптимальные оценки параметров."
   ]
  },
  {
   "cell_type": "markdown",
   "metadata": {},
   "source": [
    "Обращение матриц имеет кубическую сложность.\\\n",
    "При большом количестве признаков это процесс ресурсозатратный.\n",
    "\n",
    "Второй недостаток МНК — это невозможность инкрементального обучения, \\\n",
    "или обучения в режиме реального времени.\n",
    "\n",
    "Третий заключается в том, что матрица Q может не существовать.\\\n",
    "Это связано с математическими особенностями вычисления обратной матрицы.\\\n",
    "Причина этой проблемы — мультиколлинеарность факторов (сильная корреляционная связь). \\\n",
    "Из-за этого коэффициенты линейной регрессии становятся слишком большими \\\n",
    "и модель становится неустойчивой. \\\n",
    "Проблема решается с помощью регуляризации."
   ]
  },
  {
   "cell_type": "code",
   "execution_count": 38,
   "metadata": {},
   "outputs": [
    {
     "data": {
      "text/html": [
       "<div>\n",
       "<style scoped>\n",
       "    .dataframe tbody tr th:only-of-type {\n",
       "        vertical-align: middle;\n",
       "    }\n",
       "\n",
       "    .dataframe tbody tr th {\n",
       "        vertical-align: top;\n",
       "    }\n",
       "\n",
       "    .dataframe thead th {\n",
       "        text-align: right;\n",
       "    }\n",
       "</style>\n",
       "<table border=\"1\" class=\"dataframe\">\n",
       "  <thead>\n",
       "    <tr style=\"text-align: right;\">\n",
       "      <th></th>\n",
       "      <th>MedInc</th>\n",
       "      <th>HouseAge</th>\n",
       "      <th>AveRooms</th>\n",
       "      <th>AveBedrms</th>\n",
       "      <th>Population</th>\n",
       "      <th>AveOccup</th>\n",
       "      <th>Latitude</th>\n",
       "      <th>Longitude</th>\n",
       "      <th>MedHouseVal</th>\n",
       "    </tr>\n",
       "  </thead>\n",
       "  <tbody>\n",
       "    <tr>\n",
       "      <th>0</th>\n",
       "      <td>8.3252</td>\n",
       "      <td>41.0</td>\n",
       "      <td>6.984127</td>\n",
       "      <td>1.023810</td>\n",
       "      <td>322.0</td>\n",
       "      <td>2.555556</td>\n",
       "      <td>37.88</td>\n",
       "      <td>-122.23</td>\n",
       "      <td>4.526</td>\n",
       "    </tr>\n",
       "    <tr>\n",
       "      <th>1</th>\n",
       "      <td>8.3014</td>\n",
       "      <td>21.0</td>\n",
       "      <td>6.238137</td>\n",
       "      <td>0.971880</td>\n",
       "      <td>2401.0</td>\n",
       "      <td>2.109842</td>\n",
       "      <td>37.86</td>\n",
       "      <td>-122.22</td>\n",
       "      <td>3.585</td>\n",
       "    </tr>\n",
       "    <tr>\n",
       "      <th>2</th>\n",
       "      <td>7.2574</td>\n",
       "      <td>52.0</td>\n",
       "      <td>8.288136</td>\n",
       "      <td>1.073446</td>\n",
       "      <td>496.0</td>\n",
       "      <td>2.802260</td>\n",
       "      <td>37.85</td>\n",
       "      <td>-122.24</td>\n",
       "      <td>3.521</td>\n",
       "    </tr>\n",
       "    <tr>\n",
       "      <th>3</th>\n",
       "      <td>5.6431</td>\n",
       "      <td>52.0</td>\n",
       "      <td>5.817352</td>\n",
       "      <td>1.073059</td>\n",
       "      <td>558.0</td>\n",
       "      <td>2.547945</td>\n",
       "      <td>37.85</td>\n",
       "      <td>-122.25</td>\n",
       "      <td>3.413</td>\n",
       "    </tr>\n",
       "    <tr>\n",
       "      <th>4</th>\n",
       "      <td>3.8462</td>\n",
       "      <td>52.0</td>\n",
       "      <td>6.281853</td>\n",
       "      <td>1.081081</td>\n",
       "      <td>565.0</td>\n",
       "      <td>2.181467</td>\n",
       "      <td>37.85</td>\n",
       "      <td>-122.25</td>\n",
       "      <td>3.422</td>\n",
       "    </tr>\n",
       "  </tbody>\n",
       "</table>\n",
       "</div>"
      ],
      "text/plain": [
       "   MedInc  HouseAge  AveRooms  AveBedrms  Population  AveOccup  Latitude  \\\n",
       "0  8.3252      41.0  6.984127   1.023810       322.0  2.555556     37.88   \n",
       "1  8.3014      21.0  6.238137   0.971880      2401.0  2.109842     37.86   \n",
       "2  7.2574      52.0  8.288136   1.073446       496.0  2.802260     37.85   \n",
       "3  5.6431      52.0  5.817352   1.073059       558.0  2.547945     37.85   \n",
       "4  3.8462      52.0  6.281853   1.081081       565.0  2.181467     37.85   \n",
       "\n",
       "   Longitude  MedHouseVal  \n",
       "0    -122.23        4.526  \n",
       "1    -122.22        3.585  \n",
       "2    -122.24        3.521  \n",
       "3    -122.25        3.413  \n",
       "4    -122.25        3.422  "
      ]
     },
     "execution_count": 38,
     "metadata": {},
     "output_type": "execute_result"
    }
   ],
   "source": [
    "data = fetch_california_housing(as_frame=True)\n",
    "\n",
    "housing_data = data['frame']\n",
    "housing_data.head()"
   ]
  },
  {
   "cell_type": "code",
   "execution_count": 39,
   "metadata": {},
   "outputs": [
    {
     "name": "stdout",
     "output_type": "stream",
     "text": [
      "<class 'pandas.core.frame.DataFrame'>\n",
      "RangeIndex: 20640 entries, 0 to 20639\n",
      "Data columns (total 9 columns):\n",
      " #   Column       Non-Null Count  Dtype  \n",
      "---  ------       --------------  -----  \n",
      " 0   MedInc       20640 non-null  float64\n",
      " 1   HouseAge     20640 non-null  float64\n",
      " 2   AveRooms     20640 non-null  float64\n",
      " 3   AveBedrms    20640 non-null  float64\n",
      " 4   Population   20640 non-null  float64\n",
      " 5   AveOccup     20640 non-null  float64\n",
      " 6   Latitude     20640 non-null  float64\n",
      " 7   Longitude    20640 non-null  float64\n",
      " 8   MedHouseVal  20640 non-null  float64\n",
      "dtypes: float64(9)\n",
      "memory usage: 1.4 MB\n"
     ]
    }
   ],
   "source": [
    "# проверим, что данные числовые и нет пропусков\n",
    "housing_data.info()"
   ]
  },
  {
   "cell_type": "code",
   "execution_count": 40,
   "metadata": {},
   "outputs": [
    {
     "name": "stdout",
     "output_type": "stream",
     "text": [
      "MAPE: 0.31978371646123604\n"
     ]
    }
   ],
   "source": [
    "# признаки\n",
    "X = housing_data.drop(['MedHouseVal'], axis=1)\n",
    "# целевой признак\n",
    "y = housing_data['MedHouseVal']\n",
    "\n",
    "# разделяем на тренировочную и тестовую выборки\n",
    "X_train, X_test, y_train, y_test = train_test_split(X, y, test_size=0.25, random_state=42)\n",
    "\n",
    "# создаём объект класса LinearRegression\n",
    "linear_regression_model = linear_model.LinearRegression()\n",
    "\n",
    "# обучаем модель\n",
    "linear_regression_model.fit(X_train, y_train) \n",
    "\n",
    "# получаем предсказание\n",
    "y_pred = linear_regression_model.predict(X_test)\n",
    "\n",
    "# посчитаем метрику Mean Absolute Percentage Error (MAPE) \n",
    "# (показывает среднюю абсолютную процентную ошибку предсказанных значений в отношении фактических)\n",
    "mape_linear_regression = metrics.mean_absolute_percentage_error(y_test, y_pred)\n",
    "\n",
    "print('MAPE:', mape_linear_regression)"
   ]
  },
  {
   "cell_type": "markdown",
   "metadata": {},
   "source": [
    "В среднем модель ошибается на $\\pm 32$%"
   ]
  },
  {
   "cell_type": "code",
   "execution_count": 41,
   "metadata": {},
   "outputs": [
    {
     "name": "stdout",
     "output_type": "stream",
     "text": [
      "w0: -37.02782758526927\n",
      "wi: [ 4.47600069e-01  9.56752596e-03 -1.24755956e-01  7.94471254e-01\n",
      " -1.43902596e-06 -3.44307993e-03 -4.18555257e-01 -4.33405135e-01]\n"
     ]
    }
   ],
   "source": [
    "# свободный член w0\n",
    "print('w0: {}'.format(lr_model.intercept_)) \n",
    "\n",
    "# остальные параметры модели w1, w2, ..., wm\n",
    "print('wi: {}'.format(lr_model.coef_))"
   ]
  },
  {
   "cell_type": "markdown",
   "metadata": {},
   "source": [
    "## Численное решение"
   ]
  },
  {
   "cell_type": "markdown",
   "metadata": {},
   "source": [
    "Для минимизации функции потерь используется метод **градиентного спуска (Gradient descent)**.\n",
    "\n",
    "Для линейной регрессии необходимо найти такие параметры $w_0$, $w_1$, $w_2$, ... $w_m$, \\\n",
    "в которых находится минимум функции потерь \\\n",
    "(Функция потерь должна быть дифференцируема во всех точках в области определения. [Список доступных функций](https://scikit-learn.ru/1-5-stochastic-gradient-descent/#mathematical-formulation)).\n",
    "\n",
    "[**Градиент**](https://ru.wikipedia.org/wiki/%D0%93%D1%80%D0%B0%D0%B4%D0%B8%D0%B5%D0%BD%D1%82) — это вектор, \n",
    "который состоит из частных производных по параметрам функции.\n",
    "\n",
    "$$ \\nabla L(w)=\\left(\\frac{\\partial L(w)}{\\partial w_{0}}, \\frac{\\partial L(w)}{\\partial w_{1}}, \\frac{\\partial L(w)}{\\partial w_{2}}, \\ldots, \\frac{\\partial L(w)}{\\partial w_{m}}\\right), $$\n",
    "\n",
    "где — $L(w)$ функция потерь, зависящая от параметров модели, функция может быть любой (например, MSE). \\\n",
    "$\\nabla$ — символ набла — символьное сокращение градиента, читается как «градиент функции $L(w)$». "
   ]
  },
  {
   "cell_type": "markdown",
   "metadata": {},
   "source": [
    "**Градиент** — это вектор, который показывает направление наискорейшего роста функции, \\\n",
    "а его длина — это само значение скорости функции в точке."
   ]
  },
  {
   "cell_type": "markdown",
   "metadata": {},
   "source": [
    "Если поставить перед градиентом знак минус $ - \\nabla L(w)$, то мы получим вектор **антиградиента**, \\\n",
    "который показывает в сторону наискорейшего убывания функции потерь."
   ]
  },
  {
   "cell_type": "markdown",
   "metadata": {},
   "source": [
    "Следующая точка ищется по правилу\n",
    "\n",
    "$$ w^{(k+1)} = w^{(k)} - \\eta \\nabla L(w^{(k)}), $$\n",
    "\n",
    "где $w$ — это вектор параметров модели, \\\n",
    "а индекс в круглых скобках сверху означает номер точки в пространстве. "
   ]
  },
  {
   "cell_type": "markdown",
   "metadata": {},
   "source": [
    "Новая координата $w^{(k+1)}$ в пространстве параметров определяется как текущая координата $w^{(k)}$ \\\n",
    "минус скорость роста в текущей точке $\\nabla L(w^{(k)})$, помноженная на коэффициент «скольжения».\n",
    "\n",
    "$\\eta$ (читается как «эта») - это поправочный коэффициент, который носит название темп обучения (**learning rate**)."
   ]
  },
  {
   "cell_type": "markdown",
   "metadata": {},
   "source": [
    "Теоретически в точке минимума длина вектора равна 0, то есть движения не происходит. \\\n",
    "Это свойство используется в качестве критерия остановки алгоритма."
   ]
  },
  {
   "cell_type": "markdown",
   "metadata": {},
   "source": [
    "Одна из проблем градиентного спуска заключается в том, \\\n",
    "что алгоритм может «застрять» в локальном минимуме и не выйти из него.\\\n",
    "Для решения этой проблемы используются его [модификации](https://habr.com/ru/articles/413853/)."
   ]
  },
  {
   "cell_type": "markdown",
   "metadata": {},
   "source": [
    "Применим реализацию стохастического градиентного спуска для линейной регрессии \\\n",
    "из библиотеки **sklearn** — [SGDRegressor](https://scikit-learn.org/stable/modules/generated/sklearn.linear_model.SGDRegressor.html)."
   ]
  },
  {
   "cell_type": "markdown",
   "metadata": {},
   "source": [
    "Перед применением необходимо нормализовать данные, иначе велика вероятность, что алгоритм не сойдется (не найдет минимум)."
   ]
  },
  {
   "cell_type": "code",
   "execution_count": 42,
   "metadata": {},
   "outputs": [
    {
     "data": {
      "text/html": [
       "<div>\n",
       "<style scoped>\n",
       "    .dataframe tbody tr th:only-of-type {\n",
       "        vertical-align: middle;\n",
       "    }\n",
       "\n",
       "    .dataframe tbody tr th {\n",
       "        vertical-align: top;\n",
       "    }\n",
       "\n",
       "    .dataframe thead th {\n",
       "        text-align: right;\n",
       "    }\n",
       "</style>\n",
       "<table border=\"1\" class=\"dataframe\">\n",
       "  <thead>\n",
       "    <tr style=\"text-align: right;\">\n",
       "      <th></th>\n",
       "      <th>MedInc</th>\n",
       "      <th>HouseAge</th>\n",
       "      <th>AveRooms</th>\n",
       "      <th>AveBedrms</th>\n",
       "      <th>Population</th>\n",
       "      <th>AveOccup</th>\n",
       "      <th>Latitude</th>\n",
       "      <th>Longitude</th>\n",
       "    </tr>\n",
       "  </thead>\n",
       "  <tbody>\n",
       "    <tr>\n",
       "      <th>0</th>\n",
       "      <td>0.539668</td>\n",
       "      <td>0.784314</td>\n",
       "      <td>0.043512</td>\n",
       "      <td>0.020469</td>\n",
       "      <td>0.008941</td>\n",
       "      <td>0.001499</td>\n",
       "      <td>0.567481</td>\n",
       "      <td>0.211155</td>\n",
       "    </tr>\n",
       "    <tr>\n",
       "      <th>1</th>\n",
       "      <td>0.538027</td>\n",
       "      <td>0.392157</td>\n",
       "      <td>0.038224</td>\n",
       "      <td>0.018929</td>\n",
       "      <td>0.067210</td>\n",
       "      <td>0.001141</td>\n",
       "      <td>0.565356</td>\n",
       "      <td>0.212151</td>\n",
       "    </tr>\n",
       "    <tr>\n",
       "      <th>2</th>\n",
       "      <td>0.466028</td>\n",
       "      <td>1.000000</td>\n",
       "      <td>0.052756</td>\n",
       "      <td>0.021940</td>\n",
       "      <td>0.013818</td>\n",
       "      <td>0.001698</td>\n",
       "      <td>0.564293</td>\n",
       "      <td>0.210159</td>\n",
       "    </tr>\n",
       "    <tr>\n",
       "      <th>3</th>\n",
       "      <td>0.354699</td>\n",
       "      <td>1.000000</td>\n",
       "      <td>0.035241</td>\n",
       "      <td>0.021929</td>\n",
       "      <td>0.015555</td>\n",
       "      <td>0.001493</td>\n",
       "      <td>0.564293</td>\n",
       "      <td>0.209163</td>\n",
       "    </tr>\n",
       "    <tr>\n",
       "      <th>4</th>\n",
       "      <td>0.230776</td>\n",
       "      <td>1.000000</td>\n",
       "      <td>0.038534</td>\n",
       "      <td>0.022166</td>\n",
       "      <td>0.015752</td>\n",
       "      <td>0.001198</td>\n",
       "      <td>0.564293</td>\n",
       "      <td>0.209163</td>\n",
       "    </tr>\n",
       "  </tbody>\n",
       "</table>\n",
       "</div>"
      ],
      "text/plain": [
       "     MedInc  HouseAge  AveRooms  AveBedrms  Population  AveOccup  Latitude  \\\n",
       "0  0.539668  0.784314  0.043512   0.020469    0.008941  0.001499  0.567481   \n",
       "1  0.538027  0.392157  0.038224   0.018929    0.067210  0.001141  0.565356   \n",
       "2  0.466028  1.000000  0.052756   0.021940    0.013818  0.001698  0.564293   \n",
       "3  0.354699  1.000000  0.035241   0.021929    0.015555  0.001493  0.564293   \n",
       "4  0.230776  1.000000  0.038534   0.022166    0.015752  0.001198  0.564293   \n",
       "\n",
       "   Longitude  \n",
       "0   0.211155  \n",
       "1   0.212151  \n",
       "2   0.210159  \n",
       "3   0.209163  \n",
       "4   0.209163  "
      ]
     },
     "execution_count": 42,
     "metadata": {},
     "output_type": "execute_result"
    }
   ],
   "source": [
    "# Копируем названия столбцов, которые теряются при использовании fit_transform()\n",
    "feature_names = list(X.columns)\n",
    "\n",
    "# инициализируем нормализатор MinMaxScaler\n",
    "mm_scaler = preprocessing.MinMaxScaler()\n",
    "\n",
    "# Производим стандартизацию\n",
    "X_scaled = mm_scaler.fit_transform(X)\n",
    "\n",
    "# Составляем DataFrame из результата\n",
    "X_scaled = pd.DataFrame(X_scaled, columns=feature_names)\n",
    "\n",
    "X_scaled.head()"
   ]
  },
  {
   "cell_type": "code",
   "execution_count": 43,
   "metadata": {},
   "outputs": [
    {
     "data": {
      "text/html": [
       "<div>\n",
       "<style scoped>\n",
       "    .dataframe tbody tr th:only-of-type {\n",
       "        vertical-align: middle;\n",
       "    }\n",
       "\n",
       "    .dataframe tbody tr th {\n",
       "        vertical-align: top;\n",
       "    }\n",
       "\n",
       "    .dataframe thead th {\n",
       "        text-align: right;\n",
       "    }\n",
       "</style>\n",
       "<table border=\"1\" class=\"dataframe\">\n",
       "  <thead>\n",
       "    <tr style=\"text-align: right;\">\n",
       "      <th></th>\n",
       "      <th>MedInc</th>\n",
       "      <th>HouseAge</th>\n",
       "      <th>AveRooms</th>\n",
       "      <th>AveBedrms</th>\n",
       "      <th>Population</th>\n",
       "      <th>AveOccup</th>\n",
       "      <th>Latitude</th>\n",
       "      <th>Longitude</th>\n",
       "    </tr>\n",
       "  </thead>\n",
       "  <tbody>\n",
       "    <tr>\n",
       "      <th>count</th>\n",
       "      <td>20640.000000</td>\n",
       "      <td>20640.000000</td>\n",
       "      <td>20640.000000</td>\n",
       "      <td>20640.000000</td>\n",
       "      <td>20640.000000</td>\n",
       "      <td>20640.000000</td>\n",
       "      <td>20640.000000</td>\n",
       "      <td>20640.000000</td>\n",
       "    </tr>\n",
       "    <tr>\n",
       "      <th>mean</th>\n",
       "      <td>0.232464</td>\n",
       "      <td>0.541951</td>\n",
       "      <td>0.032488</td>\n",
       "      <td>0.022629</td>\n",
       "      <td>0.039869</td>\n",
       "      <td>0.001914</td>\n",
       "      <td>0.328572</td>\n",
       "      <td>0.476125</td>\n",
       "    </tr>\n",
       "    <tr>\n",
       "      <th>std</th>\n",
       "      <td>0.131020</td>\n",
       "      <td>0.246776</td>\n",
       "      <td>0.017539</td>\n",
       "      <td>0.014049</td>\n",
       "      <td>0.031740</td>\n",
       "      <td>0.008358</td>\n",
       "      <td>0.226988</td>\n",
       "      <td>0.199555</td>\n",
       "    </tr>\n",
       "    <tr>\n",
       "      <th>min</th>\n",
       "      <td>0.000000</td>\n",
       "      <td>0.000000</td>\n",
       "      <td>0.000000</td>\n",
       "      <td>0.000000</td>\n",
       "      <td>0.000000</td>\n",
       "      <td>0.000000</td>\n",
       "      <td>0.000000</td>\n",
       "      <td>0.000000</td>\n",
       "    </tr>\n",
       "    <tr>\n",
       "      <th>25%</th>\n",
       "      <td>0.142308</td>\n",
       "      <td>0.333333</td>\n",
       "      <td>0.025482</td>\n",
       "      <td>0.019943</td>\n",
       "      <td>0.021974</td>\n",
       "      <td>0.001398</td>\n",
       "      <td>0.147715</td>\n",
       "      <td>0.253984</td>\n",
       "    </tr>\n",
       "    <tr>\n",
       "      <th>50%</th>\n",
       "      <td>0.209301</td>\n",
       "      <td>0.549020</td>\n",
       "      <td>0.031071</td>\n",
       "      <td>0.021209</td>\n",
       "      <td>0.032596</td>\n",
       "      <td>0.001711</td>\n",
       "      <td>0.182784</td>\n",
       "      <td>0.583665</td>\n",
       "    </tr>\n",
       "    <tr>\n",
       "      <th>75%</th>\n",
       "      <td>0.292641</td>\n",
       "      <td>0.705882</td>\n",
       "      <td>0.036907</td>\n",
       "      <td>0.022713</td>\n",
       "      <td>0.048264</td>\n",
       "      <td>0.002084</td>\n",
       "      <td>0.549416</td>\n",
       "      <td>0.631474</td>\n",
       "    </tr>\n",
       "    <tr>\n",
       "      <th>max</th>\n",
       "      <td>1.000000</td>\n",
       "      <td>1.000000</td>\n",
       "      <td>1.000000</td>\n",
       "      <td>1.000000</td>\n",
       "      <td>1.000000</td>\n",
       "      <td>1.000000</td>\n",
       "      <td>1.000000</td>\n",
       "      <td>1.000000</td>\n",
       "    </tr>\n",
       "  </tbody>\n",
       "</table>\n",
       "</div>"
      ],
      "text/plain": [
       "             MedInc      HouseAge      AveRooms     AveBedrms    Population  \\\n",
       "count  20640.000000  20640.000000  20640.000000  20640.000000  20640.000000   \n",
       "mean       0.232464      0.541951      0.032488      0.022629      0.039869   \n",
       "std        0.131020      0.246776      0.017539      0.014049      0.031740   \n",
       "min        0.000000      0.000000      0.000000      0.000000      0.000000   \n",
       "25%        0.142308      0.333333      0.025482      0.019943      0.021974   \n",
       "50%        0.209301      0.549020      0.031071      0.021209      0.032596   \n",
       "75%        0.292641      0.705882      0.036907      0.022713      0.048264   \n",
       "max        1.000000      1.000000      1.000000      1.000000      1.000000   \n",
       "\n",
       "           AveOccup      Latitude     Longitude  \n",
       "count  20640.000000  20640.000000  20640.000000  \n",
       "mean       0.001914      0.328572      0.476125  \n",
       "std        0.008358      0.226988      0.199555  \n",
       "min        0.000000      0.000000      0.000000  \n",
       "25%        0.001398      0.147715      0.253984  \n",
       "50%        0.001711      0.182784      0.583665  \n",
       "75%        0.002084      0.549416      0.631474  \n",
       "max        1.000000      1.000000      1.000000  "
      ]
     },
     "execution_count": 43,
     "metadata": {},
     "output_type": "execute_result"
    }
   ],
   "source": [
    "# Посмотрим на описательные характеристики\n",
    "X_scaled.describe()"
   ]
  },
  {
   "cell_type": "code",
   "execution_count": 44,
   "metadata": {},
   "outputs": [],
   "source": [
    "# разделяем на тренировочную и тестовую выборки\n",
    "X_train_scaled, X_test_scaled, y_train, y_test = \\\n",
    "    train_test_split(X_scaled, y, test_size=0.25, random_state=42)"
   ]
  },
  {
   "cell_type": "code",
   "execution_count": 45,
   "metadata": {},
   "outputs": [
    {
     "name": "stdout",
     "output_type": "stream",
     "text": [
      "MAPE: 0.34327831982680546\n"
     ]
    }
   ],
   "source": [
    "# Создаём объект класса линейной регрессии с SGD\n",
    "sgd_regressor_model = linear_model.SGDRegressor(random_state=42)\n",
    "\n",
    "# Обучаем модель — ищем параметры по методу SGD\n",
    "sgd_regressor_model.fit(X_train_scaled, y_train)\n",
    " \n",
    "# Делаем предсказание\n",
    "y_pred = sgd_regressor_model.predict(X_test_scaled)\n",
    "\n",
    "# Считаем MAPE\n",
    "mape_sgd_regressor = metrics.mean_absolute_percentage_error(y_test, y_pred)\n",
    "\n",
    "print('MAPE:', mape_sgd_regressor)"
   ]
  },
  {
   "cell_type": "code",
   "execution_count": 47,
   "metadata": {},
   "outputs": [
    {
     "data": {
      "text/plain": [
       "0.02349460336556941"
      ]
     },
     "execution_count": 47,
     "metadata": {},
     "output_type": "execute_result"
    }
   ],
   "source": [
    "# Разница метрики MAPE с аналитическим решением \n",
    "mape_sgd_regressor - mape_linear_regression"
   ]
  },
  {
   "cell_type": "markdown",
   "metadata": {},
   "source": [
    "Метод градиентного спуска несколько хуже улавливает зависимости, чем аналитическое решение. \\\n",
    "Что ожидаемо."
   ]
  },
  {
   "cell_type": "markdown",
   "metadata": {},
   "source": [
    "### Параметры SGDRegressor\n",
    "\n",
    "Полный набор описан в [документации](https://scikit-learn.org/stable/modules/generated/sklearn.linear_model.SGDRegressor.html)."
   ]
  },
  {
   "cell_type": "markdown",
   "metadata": {},
   "source": [
    "- `loss` — функция потерь. \\\n",
    "По умолчанию используется `squared_loss` — это **MSE**. \\\n",
    "Но могут использоваться и другие. \\\n",
    "Например, `huber` определяет функцию потерь Хьюбера. \\\n",
    "Эта функция менее чувствительна к выбросам, чем **MSE**."
   ]
  },
  {
   "cell_type": "markdown",
   "metadata": {},
   "source": [
    "- `max_iter` — максимальное количество итераций, выделенное на сходимость. \\\n",
    "Значение по умолчанию — `1000`."
   ]
  },
  {
   "cell_type": "markdown",
   "metadata": {},
   "source": [
    "- `learning_rate` — режим управления темпом обучения. \\\n",
    "Значение по умолчанию — `invscaling`. Этот режим уменьшает темп обучения по формуле, $\\eta_t = \\frac{\\eta_0}{t^p}$.\\\n",
    "Если нужно, чтобы темп обучения не менялся на протяжении всего обучения, можно выставить на `constant`."
   ]
  },
  {
   "cell_type": "markdown",
   "metadata": {},
   "source": [
    "- `eta0` — начальное значение темпа обучения $\\eta_0$. \\\n",
    "Значение по умолчанию — 0.01.\\\n",
    "Если параметр `learning_rate=\"constant\"`, \\\n",
    "то значение этого параметра будет темпом обучения на протяжении всех итераций."
   ]
  },
  {
   "cell_type": "markdown",
   "metadata": {},
   "source": [
    "- `power_t` — значение мощности уменьшения $p$ в формуле  $\\eta_t = \\frac{\\eta_0}{t^p}$, \\\n",
    "где $\\eta_0$ — начальное значение темпа обучения, \\\n",
    "а $t$ — номер итерации алгоритма. \\\n",
    "Данный параметр отвечает за степень знаменателя \\\n",
    "(чем больше степень, тем быстрее уменьшается значение темпа обучения с каждой итерацией). \\\n",
    "Значение по умолчанию — `0.25`."
   ]
  },
  {
   "cell_type": "markdown",
   "metadata": {},
   "source": [
    "Есть возможность дообучить модель на новых данных в режиме реального времени ([инкрементальное обучение](https://coderzcolumn.com/tutorials/machine-learning/scikit-learn-incremental-learning-for-large-datasets)). \\\n",
    "Повторный вызов `fit()` уточняет уже существующие параметры модели."
   ]
  }
 ],
 "metadata": {
  "kernelspec": {
   "display_name": "Python 3",
   "language": "python",
   "name": "python3"
  },
  "language_info": {
   "codemirror_mode": {
    "name": "ipython",
    "version": 3
   },
   "file_extension": ".py",
   "mimetype": "text/x-python",
   "name": "python",
   "nbconvert_exporter": "python",
   "pygments_lexer": "ipython3",
   "version": "3.9.10"
  }
 },
 "nbformat": 4,
 "nbformat_minor": 2
}
