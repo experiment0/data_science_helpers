{
 "cells": [
  {
   "cell_type": "markdown",
   "metadata": {},
   "source": [
    "# Логистическая регрессия"
   ]
  },
  {
   "cell_type": "code",
   "execution_count": 1,
   "metadata": {},
   "outputs": [],
   "source": [
    "import numpy as np\n",
    "import pandas as pd\n",
    "from sklearn.linear_model import LogisticRegression\n",
    "from sklearn.model_selection import train_test_split\n",
    "from sklearn import metrics\n",
    "from sklearn.datasets import fetch_openml\n",
    "import seaborn as sns\n",
    "import matplotlib.pyplot as plt \n",
    "\n",
    "# Устанавливаем стиль визуализаций в matplotlib\n",
    "%matplotlib inline\n",
    "plt.style.use('seaborn')\n",
    "\n",
    "from warnings import simplefilter\n",
    "simplefilter('ignore')"
   ]
  },
  {
   "cell_type": "markdown",
   "metadata": {},
   "source": [
    "В **задаче классификации** нужно предсказать класс объекта на основе признаков в наборе данных.\\\n",
    "Задача сводится к предсказанию целевого признака, который является **категориальным**.\n",
    "\n",
    "Если **классов**, которые нужно предскзать, только **два**, то классификация называется **бинарной**.\n",
    "\n",
    "Когда **классов**, которые нужно предскзать, **более двух**, то классификация называется **мультиклассовой (многоклассовой)**.\n",
    "\n",
    "> Модели, которые решают задачу классификации, называются **классификаторами (classifier)**.\n",
    "\n",
    "Для начала рассмотрим бинарную классификацию."
   ]
  },
  {
   "cell_type": "markdown",
   "metadata": {},
   "source": [
    "В основе логистической регрессии лежит **логистическая функция (logistic function)** — отсюда и название модели.\\\n",
    "Более распространённое название этой функции — **сигмόида (sigmoid)**. \\\n",
    "Записывается она следующим образом:\n",
    "$$ \\sigma(z) = \\frac{1}{1+e^{-z}} $$"
   ]
  },
  {
   "cell_type": "markdown",
   "metadata": {},
   "source": [
    "Где $e$ — экспонента или [число Эйлера](https://dzen.ru/a/XKW4kcYE3AId802p). \\\n",
    "Бесконечная десятичная дробь, которую обычно принимают равной $2.718...$ \\\n",
    "Построим сигмоиду для наглядности."
   ]
  },
  {
   "cell_type": "code",
   "execution_count": 2,
   "metadata": {},
   "outputs": [
    {
     "data": {
      "text/plain": [
       "<matplotlib.legend.Legend at 0x19b298337f0>"
      ]
     },
     "execution_count": 2,
     "metadata": {},
     "output_type": "execute_result"
    },
    {
     "data": {
      "image/png": "[encoded data removed]",
      "text/plain": [
       "<Figure size 864x432 with 1 Axes>"
      ]
     },
     "metadata": {},
     "output_type": "display_data"
    }
   ],
   "source": [
    "# фигура + координатная плоскость\n",
    "fig, ax = plt.subplots(figsize=(12, 6)) \n",
    "\n",
    "# точки по осям\n",
    "z_items = np.arange(-10, 10.5, 0.5, dtype=None)\n",
    "sigma_items = 1 / (1 + np.exp(-1*z_items))\n",
    "\n",
    "# график сигмоиды\n",
    "ax.plot(z_items, sigma_items, color='blue', label='$\\sigma(z)$') \n",
    "\n",
    "# ось абсцисс  \n",
    "ax.axhline(y=0.5, color='black')\n",
    "# ось ординат\n",
    "ax.axvline(x=0, color='black')\n",
    "\n",
    "# название графика\n",
    "ax.set_title('Логистическая функция (сигмоида)')\n",
    "# название оси абсцисс\n",
    "ax.set_xlabel('z')     \n",
    "# название оси ординат\n",
    "ax.set_ylabel('$\\sigma(z)$') \n",
    "\n",
    "# метки по оси абсцисс\n",
    "ax.set_xticks(np.arange(-10, 11, 1, dtype=None))\n",
    "# метки по оси ординат\n",
    "ax.set_yticks(np.arange(0, 1.25, 0.25, dtype=None))\n",
    "    \n",
    "# легенда\n",
    "ax.legend(facecolor='white', fontsize=11) "
   ]
  },
  {
   "cell_type": "markdown",
   "metadata": {},
   "source": [
    "Функция сигмоиды реализована в [scipy.stats.logistic](https://docs.scipy.org/doc/scipy/reference/generated/scipy.stats.logistic.html) и [scipy.special.expit](https://docs.scipy.org/doc/scipy/reference/generated/scipy.special.expit.html)."
   ]
  },
  {
   "cell_type": "markdown",
   "metadata": {},
   "source": [
    "У сигмоиды есть два важных свойства:\n",
    "\n",
    "- Значения сигмоиды $\\sigma(z)$ лежат в диапазоне от 0 до 1 при любых значения аргумента $z$.\n",
    "\n",
    "- Сигмоида выдаёт значения $\\sigma(z)>0.5$ при аргументе $z>0$, \\\n",
    "$\\sigma(z)<0.5$ — при $z<0$ \\\n",
    "и $\\sigma(z)=0.5$ — при $z=0$."
   ]
  },
  {
   "cell_type": "markdown",
   "metadata": {},
   "source": [
    "А это свойства вероятности. \\\n",
    "Выходом сигмоиды является число от 0 до 1, \\\n",
    "которое можно интерпретировать как вероятность принадлежности к классу 1."
   ]
  },
  {
   "cell_type": "markdown",
   "metadata": {},
   "source": [
    "**Основная идея модели логистической регрессии**: \n",
    "\n",
    "модель линейной регрессии (обозначим её выход за $z$)\n",
    "$$ z=w_{0}+\\sum_{j=1}^{m} w_{j} x_{j} $$"
   ]
  },
  {
   "cell_type": "markdown",
   "metadata": {},
   "source": [
    "подставляется в функцию сигмоиды, чтобы получить искомые оценки вероятности \\\n",
    "(оценочные величины обозначаются с «шапкой» наверху, а истинные значения — без «шапки»):\n",
    "\n",
    "$$ \\hat{P}=\\sigma(z)=\\frac{1}{1+e^{-z}}=\\frac{1}{1+e^{-w_{0}-\\sum_{j=1}^{m} w_{j} x_{j}}}=\\frac{1}{1+e^{-\\bar{w} \\cdot \\bar{x}}} $$"
   ]
  },
  {
   "cell_type": "markdown",
   "metadata": {},
   "source": [
    "Далее для краткости будем использовать слово \"**вероятность**\", но подразумевается именно **оценка вероятности**."
   ]
  },
  {
   "cell_type": "markdown",
   "metadata": {},
   "source": [
    "Если вероятность $\\hat{P} > 0.5$, относим объект к классу 1, \\\n",
    "а если $\\hat{P} \\leq 0.5$, относим объект к классу 0. \n",
    "\n",
    "Данное условие записывается с помощью **индикаторной функции**:\n",
    "\n",
    "$$ \\hat{y}=I[\\hat{P}]=\\left\\{\\begin{array}{l} 1, \\hat{P}>0.5 \\\\ 0, \\hat{P} \\leq 0.5 \\end{array}\\right. $$"
   ]
  },
  {
   "cell_type": "markdown",
   "metadata": {},
   "source": [
    "Так задача классификации сводится к задаче регрессии для предсказания вероятностей. "
   ]
  },
  {
   "cell_type": "markdown",
   "metadata": {},
   "source": [
    "Полученное выражение для оценки вероятности $\\hat{P}$ называется моделью логистической регрессии:\n",
    "$$ \\hat{P}=\\frac{1}{1+e^{-w_{0}-\\sum_{j=1}^{m} w_{j} x_{j}}} $$\n",
    "$$ \\hat{y}=I[\\hat{P}] $$"
   ]
  },
  {
   "cell_type": "markdown",
   "metadata": {},
   "source": [
    "**Для понимания геометрической интерпретации рассмотрим частный случай.**\n",
    "\n",
    "Пусть класс объекта зависит от двух признаков.\\\n",
    "Если рассматривать уравнение линейной регрессии отдельно от сигмоиды, \\\n",
    "то геометрически построить логистическую регрессию на основе двух факторов — \\\n",
    "значит найти такие коэффициенты $w_0$, $w_1$ и $w_2$ уравнения плоскости, \\\n",
    "при которых наблюдается наилучшее разделение пространства на две части.\n",
    "$$ z = w_{0} + w_{1}x_{1} + w_{2}x_{2} $$"
   ]
  },
  {
   "cell_type": "markdown",
   "metadata": {},
   "source": [
    "Математически подстановка в уравнение плоскости точки, которая не принадлежит ей (находится ниже или выше), \\\n",
    "означает вычисление расстояния от этой точки до плоскости.\n",
    "\n",
    "- Если точка находится ниже плоскости, расстояние будет отрицательным ($z < 0$).\n",
    "- Если точка находится выше плоскости, расстояние будет положительным ($z > 0$).\n",
    "- Если точка находится на самой плоскости, $z = 0$.\n",
    "\n",
    "Подстановка отрицательных чисел в сигмоиду приведёт к вероятности $\\hat P < 0.5$, \\\n",
    "а постановка положительных — к вероятности $\\hat P > 0.5$,. "
   ]
  },
  {
   "cell_type": "markdown",
   "metadata": {},
   "source": [
    "Таким образом, ключевым моментом в предсказании логистической регрессии \\\n",
    "является расстояние от точки до разделяющей плоскости в пространстве факторов. \\\n",
    "Это расстояние в литературе часто называется **отступом (margin)**. \n",
    "\n",
    "Чем больше расстояние от точки, находящейся выше разделяющей плоскости, до самой плоскости, \\\n",
    "тем больше оценка вероятности принадлежности к классу 1."
   ]
  },
  {
   "cell_type": "markdown",
   "metadata": {},
   "source": [
    "В общем случае, когда есть зависимость от $m$ факторов, \\\n",
    "линейное выражение, находящееся под сигмоидой, \\\n",
    "будет обозначать **разделяющую гиперплоскость**."
   ]
  },
  {
   "cell_type": "markdown",
   "metadata": {},
   "source": [
    "## Поиск параметров логистической регрессии"
   ]
  },
  {
   "cell_type": "markdown",
   "metadata": {},
   "source": [
    "Для поиска параметров логистической регрессии используется \\\n",
    "**метод максимального правдоподобия (Maximum Likelihood Estimation — MLE)**. \n",
    "\n",
    "> **Правдоподобие** — это оценка того, насколько вероятно получить \\\n",
    "истинное значение целевой переменной $y$ при данных $x$ и параметрах $w$. "
   ]
  },
  {
   "cell_type": "markdown",
   "metadata": {},
   "source": [
    "**Цель метода** — найти такие параметры $w=(w_{0}, w_{1}, w_{2}, ..., w_{m})$, \\\n",
    "в которых наблюдается максимум функции правдоподобия:\n",
    "\n",
    "$$ likelihood = \\sum_{i}^{n} (y_{i} log (\\hat{P_{i}}) + (1-y_{i}) log (1-\\hat{P_{i}})) \\rightarrow max_{w} $$\n",
    "\n",
    "[Подробнее о выводе](https://habr.com/ru/articles/485872/)"
   ]
  },
  {
   "cell_type": "markdown",
   "metadata": {},
   "source": [
    "Где:\n",
    "- $n$ — количество наблюдений.\n",
    "- $y_{i}$ - это истинный класс (1 или 0) для $i$-ого объекта из набора данных.\n",
    "- $\\hat{P_{i}} = \\sigma(z_{i})$ — предсказанная с помощью логистической регрессии \\\n",
    "вероятность принадлежности к классу 1 для $i$-ого объекта из набора данных.\n",
    "    - $z_{i}$ — результат подстановки $i$-ого объекта из набора данных \\\n",
    "    в уравнение разделяющей плоскости $z_{i}= \\bar{w} \\cdot \\bar{x_{i}}$.\n",
    "- $log$ — логарифм (обычно используется натуральный логарифм по основанию $e - ln$)."
   ]
  },
  {
   "cell_type": "markdown",
   "metadata": {},
   "source": [
    "Если перед функцией поставить знак минус, то задача меняется на противоположную.\\\n",
    "С поиска максимума на поиск минимума.\\\n",
    "Таким образом получим функцию потерь $L(w)$, \\\n",
    "которая носит название «**функция логистических потерь**», или **logloss**. \\\n",
    "Также часто можно встретить название **кросс-энтропия**, или **cross-entropy loss**:\n",
    "$$ L(w) = \\text { logloss } =-\\sum_{i}^{n} (y_{i} log (\\hat{P_{i}}) + (1-y_{i}) log (1-\\hat{P_{i}})) \\rightarrow min_{w} $$\n",
    "$$ \\hat{P_{i}}=\\frac{1}{1+e^{-w_{0}-\\sum_{j=1}^{m} w_{j} x_{j}}} $$"
   ]
  },
  {
   "cell_type": "markdown",
   "metadata": {},
   "source": [
    "Эта функция минимизируется в рамках поиска параметров логистической регрессии.\\\n",
    "Данная задача решается численным методом (при расчетах получается, что аналитического решения не существует).\n",
    "\n",
    "Например, можно использовать градиентный спуск. \\\n",
    "Итерационная формула данного метода выглядит следующим образом:\n",
    "\n",
    "$$ \\omega^{(k+1)}=\\omega^{(k)}-\\eta \\nabla L\\left(\\omega^{(k)}\\right) $$\n",
    "\n",
    "новое значение параметров $w^{(k+1)}$ \\\n",
    "получается путём сдвига текущих $w^{(k)}$ \\\n",
    "в сторону вектора антиградиента $- \\nabla L (w^{(k)})$, \\\n",
    "умноженного на темп обучения $\\eta$."
   ]
  },
  {
   "cell_type": "markdown",
   "metadata": {},
   "source": [
    "**Формула градиентного спуска для logloss** \n",
    "$$ L(w)=-\\sum_{i}^{n}\\left(y_{i} \\log \\left(\\sigma\\left(w x_{i}\\right)\\right)+\\left(1-y_{i}\\right) \\log \\left(1-\\sigma\\left(w x_{i}\\right)\\right)\\right) $$\n",
    "$$ \\nabla L(w)=-\\sum_{i}^{n} x_{i}\\left(y_{i}-\\sigma\\left(w x_{i}\\right)\\right) $$\n",
    "$$ w^{(k+1)}=w^{(k)}-\\eta \\nabla L\\left(w^{(k)}\\right)=w^{(k)}+\\eta \\sum_{i}^{n} x_{i}\\left(y_{i}-\\sigma\\left(w^{(k)} x_{i}\\right)\\right) $$"
   ]
  },
  {
   "cell_type": "markdown",
   "metadata": {},
   "source": [
    "Для того, чтобы повысить шанс пройти мимо локальных минимумов функции потерь, \\\n",
    "используется не сам градиентный спуск, а его модификации: \\\n",
    "например, можно использовать стохастический градиентный спуск (SGD)."
   ]
  },
  {
   "cell_type": "markdown",
   "metadata": {},
   "source": [
    "Перед применением градиентного спуска необходимо масштабировать данные (нормализовать / стандартизировать).\\\n",
    "Во избежание переобучения модели в функцию потерь логистической регрессии традиционно добавляется **регуляризация**.\n",
    "\n",
    "При L1-регуляризации в функцию потерь $L(w)$ добавляется штраф из суммы модулей параметров, \\\n",
    "а сама функцию logloss умножается на коэффициент $C$:\n",
    "\n",
    "$$ L(w)=C \\cdot \\log \\operatorname{loss}+\\sum_{j=1}^{m}\\left|w_{j}\\right| \\rightarrow \\min_{w} $$\n",
    "\n",
    "А при L2-регуляризации добавляется штраф из суммы квадратов параметров:\n",
    "\n",
    "$$ L(w)=C \\cdot \\log \\operatorname{loss}+\\sum_{j=1}^{m}\\left(w_{j}\\right)^{2} \\rightarrow \\min _{w} $$"
   ]
  },
  {
   "cell_type": "markdown",
   "metadata": {},
   "source": [
    "Значение коэффициента $C$ — коэффициент, обратный коэффициенту регуляризации. \\\n",
    "Чем больше $C$, тем меньше «сила» регуляризации."
   ]
  },
  {
   "cell_type": "markdown",
   "metadata": {},
   "source": [
    "Можно разделить всё соотношение на коэффициент $C$:\n",
    "$$ \\frac{L(w)}{C}=\\log \\operatorname{loss}+\\frac{1}{C} \\sum_{j=1}^{m}\\left|w_{j}\\right| \\rightarrow \\min _{w} $$\n",
    "\n",
    "Оказывается, параметры $w$, при которых достигается минимум $L(w)$ и $\\frac{L(w)}{C}$ одни и те же, \\\n",
    "так как функции отличаются только на константу. \\\n",
    "А значит, нет разницы, минимум какой функции искать — $L(w)$ или $\\frac{L(w)}{C}$. \\\n",
    "Тогда формула будет записана в следующем виде:\n",
    "$$ L(w)=\\log \\operatorname{loss}+\\frac{1}{C} \\sum_{j=1}^{m}\\left|w_{j}\\right| \\rightarrow \\min _{w} $$\n",
    "\n",
    "А если обозначить $\\alpha=\\frac{1}{C}$, то получим ту же самую структуру L1-регуляризации, что и для логистической регрессии:\n",
    "\n",
    "$$ L(w)=\\log \\operatorname{loss}+\\alpha \\sum_{j=1}^{m}\\left|w_{j}\\right| \\rightarrow \\min _{w} $$\n",
    "\n",
    "Вывод: коэффициент $C$ — это коэффициент, обратный коэффициенту регуляризации $\\alpha$."
   ]
  },
  {
   "cell_type": "markdown",
   "metadata": {},
   "source": [
    "## Реализация логистической регрессии в sklearn"
   ]
  },
  {
   "cell_type": "markdown",
   "metadata": {},
   "source": [
    "Класс логистической регрессии **LogisticRegression** находится в модуле **sklearn.linear_model**.\n",
    "\n",
    "**Основные параметры LogisticRegression**\n",
    "\n",
    "- `random_state` — число, на основе которого происходит генерация случайных чисел.\n",
    "- `penalty` — метод регуляризации. Возможные значения:\n",
    "    - `'l1'` — L1-регуляризация;\n",
    "    - `'l2'` — L2-регуляризация (используется по умолчанию);\n",
    "    - `'elasticnet'` — эластичная сетка (L1+L2);\n",
    "    - `'None'` — отсутствие регуляризации.\n",
    "- `C` — коэффициент обратный коэффициенту регуляризации, то есть равен $\\frac{1}{\\alpha}$\\\n",
    ". Чем больше `C`, тем меньше регуляризация. По умолчанию `C=1`, тогда `α=1`.\n",
    "- `solver` — численный метод оптимизации функции потерь logloss, может быть:\n",
    "    - `'sag'` — стохастический градиентный спуск (нужна стандартизация/нормализация);\n",
    "    - `'saga'` — модификация предыдущего, которая поддерживает работу с негладкими функциями \\\n",
    "    (нужна стандартизация/нормализация);\n",
    "    - `'newton-cg'` — [метод Ньютона с модификацией сопряжённых градиентов](https://docs.scipy.org/doc/scipy/tutorial/optimize.html#newton-conjugate-gradient-algorithm-method-newton-cg) \\\n",
    "    (не нужна стандартизация/нормализация);\n",
    "    - `'lbfgs'` — [метод Бройдена — Флетчера — Гольдфарба — Шанно](https://ru.wikipedia.org/wiki/%D0%90%D0%BB%D0%B3%D0%BE%D1%80%D0%B8%D1%82%D0%BC_%D0%91%D1%80%D0%BE%D0%B9%D0%B4%D0%B5%D0%BD%D0%B0_%E2%80%94_%D0%A4%D0%BB%D0%B5%D1%82%D1%87%D0%B5%D1%80%D0%B0_%E2%80%94_%D0%93%D0%BE%D0%BB%D1%8C%D0%B4%D1%84%D0%B0%D1%80%D0%B1%D0%B0_%E2%80%94_%D0%A8%D0%B0%D0%BD%D0%BD%D0%BE) \\\n",
    "    (не нужна стандартизация/нормализация; используется по умолчанию, \\\n",
    "    так как из всех методов теоретически обеспечивает наилучшую сходимость);\n",
    "    - `'liblinear'` — [метод покоординатного спуска](http://www.machinelearning.ru/wiki/index.php?title=%D0%9C%D0%B5%D1%82%D0%BE%D0%B4_%D0%BF%D0%BE%D0%BA%D0%BE%D0%BE%D1%80%D0%B4%D0%B8%D0%BD%D0%B0%D1%82%D0%BD%D0%BE%D0%B3%D0%BE_%D1%81%D0%BF%D1%83%D1%81%D0%BA%D0%B0) \\\n",
    "    (не нужна стандартизация/нормализация).\n",
    "- `max_iter` — максимальное количество итераций, выделенных на сходимость."
   ]
  },
  {
   "cell_type": "code",
   "execution_count": 3,
   "metadata": {},
   "outputs": [
    {
     "data": {
      "text/html": [
       "<div>\n",
       "<style scoped>\n",
       "    .dataframe tbody tr th:only-of-type {\n",
       "        vertical-align: middle;\n",
       "    }\n",
       "\n",
       "    .dataframe tbody tr th {\n",
       "        vertical-align: top;\n",
       "    }\n",
       "\n",
       "    .dataframe thead th {\n",
       "        text-align: right;\n",
       "    }\n",
       "</style>\n",
       "<table border=\"1\" class=\"dataframe\">\n",
       "  <thead>\n",
       "    <tr style=\"text-align: right;\">\n",
       "      <th></th>\n",
       "      <th>preg</th>\n",
       "      <th>plas</th>\n",
       "      <th>pres</th>\n",
       "      <th>skin</th>\n",
       "      <th>insu</th>\n",
       "      <th>mass</th>\n",
       "      <th>pedi</th>\n",
       "      <th>age</th>\n",
       "      <th>class</th>\n",
       "    </tr>\n",
       "  </thead>\n",
       "  <tbody>\n",
       "    <tr>\n",
       "      <th>0</th>\n",
       "      <td>6.0</td>\n",
       "      <td>148.0</td>\n",
       "      <td>72.0</td>\n",
       "      <td>35.0</td>\n",
       "      <td>0.0</td>\n",
       "      <td>33.6</td>\n",
       "      <td>0.627</td>\n",
       "      <td>50.0</td>\n",
       "      <td>tested_positive</td>\n",
       "    </tr>\n",
       "    <tr>\n",
       "      <th>1</th>\n",
       "      <td>1.0</td>\n",
       "      <td>85.0</td>\n",
       "      <td>66.0</td>\n",
       "      <td>29.0</td>\n",
       "      <td>0.0</td>\n",
       "      <td>26.6</td>\n",
       "      <td>0.351</td>\n",
       "      <td>31.0</td>\n",
       "      <td>tested_negative</td>\n",
       "    </tr>\n",
       "    <tr>\n",
       "      <th>2</th>\n",
       "      <td>8.0</td>\n",
       "      <td>183.0</td>\n",
       "      <td>64.0</td>\n",
       "      <td>0.0</td>\n",
       "      <td>0.0</td>\n",
       "      <td>23.3</td>\n",
       "      <td>0.672</td>\n",
       "      <td>32.0</td>\n",
       "      <td>tested_positive</td>\n",
       "    </tr>\n",
       "    <tr>\n",
       "      <th>3</th>\n",
       "      <td>1.0</td>\n",
       "      <td>89.0</td>\n",
       "      <td>66.0</td>\n",
       "      <td>23.0</td>\n",
       "      <td>94.0</td>\n",
       "      <td>28.1</td>\n",
       "      <td>0.167</td>\n",
       "      <td>21.0</td>\n",
       "      <td>tested_negative</td>\n",
       "    </tr>\n",
       "    <tr>\n",
       "      <th>4</th>\n",
       "      <td>0.0</td>\n",
       "      <td>137.0</td>\n",
       "      <td>40.0</td>\n",
       "      <td>35.0</td>\n",
       "      <td>168.0</td>\n",
       "      <td>43.1</td>\n",
       "      <td>2.288</td>\n",
       "      <td>33.0</td>\n",
       "      <td>tested_positive</td>\n",
       "    </tr>\n",
       "  </tbody>\n",
       "</table>\n",
       "</div>"
      ],
      "text/plain": [
       "   preg   plas  pres  skin   insu  mass   pedi   age            class\n",
       "0   6.0  148.0  72.0  35.0    0.0  33.6  0.627  50.0  tested_positive\n",
       "1   1.0   85.0  66.0  29.0    0.0  26.6  0.351  31.0  tested_negative\n",
       "2   8.0  183.0  64.0   0.0    0.0  23.3  0.672  32.0  tested_positive\n",
       "3   1.0   89.0  66.0  23.0   94.0  28.1  0.167  21.0  tested_negative\n",
       "4   0.0  137.0  40.0  35.0  168.0  43.1  2.288  33.0  tested_positive"
      ]
     },
     "execution_count": 3,
     "metadata": {},
     "output_type": "execute_result"
    }
   ],
   "source": [
    "# Для примера возьмем данные о диабете\n",
    "diabetes_data_full = fetch_openml(name='diabetes')\n",
    "diabetes_data = diabetes_data_full['frame']\n",
    "diabetes_data.head()"
   ]
  },
  {
   "cell_type": "code",
   "execution_count": 4,
   "metadata": {},
   "outputs": [],
   "source": [
    "# Заменим в целевом признаке значение tested_positive на 1, а tested_negative на 0\n",
    "diabetes_data['class'] = diabetes_data['class'].apply(lambda x: 1 if x == 'tested_positive' else 0)\n",
    "diabetes_data['class'] = diabetes_data['class'].astype(int)"
   ]
  },
  {
   "cell_type": "code",
   "execution_count": 5,
   "metadata": {},
   "outputs": [],
   "source": [
    "# признаки\n",
    "X = diabetes_data.drop(['class'], axis=1)\n",
    "# целевой признак\n",
    "y = diabetes_data['class']\n",
    "\n",
    "# разделяем на тренировочную и тестовую выборки\n",
    "X_train, X_test, y_train, y_test = train_test_split(X, y, test_size=0.25, random_state=42)"
   ]
  },
  {
   "cell_type": "code",
   "execution_count": 6,
   "metadata": {},
   "outputs": [
    {
     "data": {
      "text/html": [
       "<style>#sk-container-id-1 {color: black;background-color: white;}#sk-container-id-1 pre{padding: 0;}#sk-container-id-1 div.sk-toggleable {background-color: white;}#sk-container-id-1 label.sk-toggleable__label {cursor: pointer;display: block;width: 100%;margin-bottom: 0;padding: 0.3em;box-sizing: border-box;text-align: center;}#sk-container-id-1 label.sk-toggleable__label-arrow:before {content: \"▸\";float: left;margin-right: 0.25em;color: #696969;}#sk-container-id-1 label.sk-toggleable__label-arrow:hover:before {color: black;}#sk-container-id-1 div.sk-estimator:hover label.sk-toggleable__label-arrow:before {color: black;}#sk-container-id-1 div.sk-toggleable__content {max-height: 0;max-width: 0;overflow: hidden;text-align: left;background-color: #f0f8ff;}#sk-container-id-1 div.sk-toggleable__content pre {margin: 0.2em;color: black;border-radius: 0.25em;background-color: #f0f8ff;}#sk-container-id-1 input.sk-toggleable__control:checked~div.sk-toggleable__content {max-height: 200px;max-width: 100%;overflow: auto;}#sk-container-id-1 input.sk-toggleable__control:checked~label.sk-toggleable__label-arrow:before {content: \"▾\";}#sk-container-id-1 div.sk-estimator input.sk-toggleable__control:checked~label.sk-toggleable__label {background-color: #d4ebff;}#sk-container-id-1 div.sk-label input.sk-toggleable__control:checked~label.sk-toggleable__label {background-color: #d4ebff;}#sk-container-id-1 input.sk-hidden--visually {border: 0;clip: rect(1px 1px 1px 1px);clip: rect(1px, 1px, 1px, 1px);height: 1px;margin: -1px;overflow: hidden;padding: 0;position: absolute;width: 1px;}#sk-container-id-1 div.sk-estimator {font-family: monospace;background-color: #f0f8ff;border: 1px dotted black;border-radius: 0.25em;box-sizing: border-box;margin-bottom: 0.5em;}#sk-container-id-1 div.sk-estimator:hover {background-color: #d4ebff;}#sk-container-id-1 div.sk-parallel-item::after {content: \"\";width: 100%;border-bottom: 1px solid gray;flex-grow: 1;}#sk-container-id-1 div.sk-label:hover label.sk-toggleable__label {background-color: #d4ebff;}#sk-container-id-1 div.sk-serial::before {content: \"\";position: absolute;border-left: 1px solid gray;box-sizing: border-box;top: 0;bottom: 0;left: 50%;z-index: 0;}#sk-container-id-1 div.sk-serial {display: flex;flex-direction: column;align-items: center;background-color: white;padding-right: 0.2em;padding-left: 0.2em;position: relative;}#sk-container-id-1 div.sk-item {position: relative;z-index: 1;}#sk-container-id-1 div.sk-parallel {display: flex;align-items: stretch;justify-content: center;background-color: white;position: relative;}#sk-container-id-1 div.sk-item::before, #sk-container-id-1 div.sk-parallel-item::before {content: \"\";position: absolute;border-left: 1px solid gray;box-sizing: border-box;top: 0;bottom: 0;left: 50%;z-index: -1;}#sk-container-id-1 div.sk-parallel-item {display: flex;flex-direction: column;z-index: 1;position: relative;background-color: white;}#sk-container-id-1 div.sk-parallel-item:first-child::after {align-self: flex-end;width: 50%;}#sk-container-id-1 div.sk-parallel-item:last-child::after {align-self: flex-start;width: 50%;}#sk-container-id-1 div.sk-parallel-item:only-child::after {width: 0;}#sk-container-id-1 div.sk-dashed-wrapped {border: 1px dashed gray;margin: 0 0.4em 0.5em 0.4em;box-sizing: border-box;padding-bottom: 0.4em;background-color: white;}#sk-container-id-1 div.sk-label label {font-family: monospace;font-weight: bold;display: inline-block;line-height: 1.2em;}#sk-container-id-1 div.sk-label-container {text-align: center;}#sk-container-id-1 div.sk-container {/* jupyter's `normalize.less` sets `[hidden] { display: none; }` but bootstrap.min.css set `[hidden] { display: none !important; }` so we also need the `!important` here to be able to override the default hidden behavior on the sphinx rendered scikit-learn.org. See: https://github.com/scikit-learn/scikit-learn/issues/21755 */display: inline-block !important;position: relative;}#sk-container-id-1 div.sk-text-repr-fallback {display: none;}</style><div id=\"sk-container-id-1\" class=\"sk-top-container\"><div class=\"sk-text-repr-fallback\"><pre>LogisticRegression(max_iter=1000, random_state=42)</pre><b>In a Jupyter environment, please rerun this cell to show the HTML representation or trust the notebook. <br />On GitHub, the HTML representation is unable to render, please try loading this page with nbviewer.org.</b></div><div class=\"sk-container\" hidden><div class=\"sk-item\"><div class=\"sk-estimator sk-toggleable\"><input class=\"sk-toggleable__control sk-hidden--visually\" id=\"sk-estimator-id-1\" type=\"checkbox\" checked><label for=\"sk-estimator-id-1\" class=\"sk-toggleable__label sk-toggleable__label-arrow\">LogisticRegression</label><div class=\"sk-toggleable__content\"><pre>LogisticRegression(max_iter=1000, random_state=42)</pre></div></div></div></div></div>"
      ],
      "text/plain": [
       "LogisticRegression(max_iter=1000, random_state=42)"
      ]
     },
     "execution_count": 6,
     "metadata": {},
     "output_type": "execute_result"
    }
   ],
   "source": [
    "# создаём объект класса LogisticRegression\n",
    "logistic_regression_model = LogisticRegression(random_state=42, max_iter=1000)\n",
    "\n",
    "# Обучаем модель, минимизируя logloss\n",
    "logistic_regression_model.fit(X_train, y_train)"
   ]
  },
  {
   "cell_type": "markdown",
   "metadata": {},
   "source": [
    "Метод **predict_proba()** возвращает две вероятности: \\\n",
    "первая соответствует вероятности принадлежности к классу 0 (диабета нет), \\\n",
    "а вторая — вероятности принадлежности к классу 1 (диабет есть). \\\n",
    "В сумме две вероятности дают 1."
   ]
  },
  {
   "cell_type": "code",
   "execution_count": 7,
   "metadata": {},
   "outputs": [
    {
     "data": {
      "text/plain": [
       "array([[0.72812239, 0.27187761],\n",
       "       [0.80754375, 0.19245625],\n",
       "       [0.88916879, 0.11083121],\n",
       "       [0.85489122, 0.14510878],\n",
       "       [0.51653373, 0.48346627]])"
      ]
     },
     "execution_count": 7,
     "metadata": {},
     "output_type": "execute_result"
    }
   ],
   "source": [
    "y_test_predict_proba = logistic_regression_model.predict_proba(X_test)\n",
    "# Посмотрим на первые 5 пар значений\n",
    "y_test_predict_proba[:5]"
   ]
  },
  {
   "cell_type": "markdown",
   "metadata": {},
   "source": [
    "Метод **predict()** предсказывает класс. \\\n",
    "По умолчанию метод **predict()** относит объект к классу 1, \\\n",
    "если вероятность принадлежности к классу 1 > 0.5, \\\n",
    "и к классу 0, если эта вероятность < 0.5."
   ]
  },
  {
   "cell_type": "code",
   "execution_count": 8,
   "metadata": {},
   "outputs": [
    {
     "data": {
      "text/plain": [
       "array([0, 0, 0, 0, 0])"
      ]
     },
     "execution_count": 8,
     "metadata": {},
     "output_type": "execute_result"
    }
   ],
   "source": [
    "y_test_predict = logistic_regression_model.predict(X_test)\n",
    "# Посмотрим на первые 5 пар значений\n",
    "y_test_predict[:5]"
   ]
  },
  {
   "cell_type": "markdown",
   "metadata": {},
   "source": [
    "Выведем метрики."
   ]
  },
  {
   "cell_type": "code",
   "execution_count": 9,
   "metadata": {},
   "outputs": [
    {
     "name": "stdout",
     "output_type": "stream",
     "text": [
      "              precision    recall  f1-score   support\n",
      "\n",
      "           0       0.79      0.77      0.78       123\n",
      "           1       0.61      0.64      0.62        69\n",
      "\n",
      "    accuracy                           0.72       192\n",
      "   macro avg       0.70      0.71      0.70       192\n",
      "weighted avg       0.73      0.72      0.73       192\n",
      "\n"
     ]
    }
   ],
   "source": [
    "print(metrics.classification_report(y_test, y_test_predict))"
   ]
  },
  {
   "cell_type": "code",
   "execution_count": 10,
   "metadata": {},
   "outputs": [
    {
     "name": "stdout",
     "output_type": "stream",
     "text": [
      "w0: [-9.2883952]\n",
      "wi: [[ 0.06102614  0.03600031 -0.01261277  0.00464533 -0.00157649  0.1017979\n",
      "   0.45706892  0.03788837]]\n"
     ]
    }
   ],
   "source": [
    "# выводим результирующие коэффициенты\n",
    "\n",
    "# свободный член w0\n",
    "print(f'w0: {logistic_regression_model.intercept_}') \n",
    "\n",
    "# остальные параметры модели w1, w2, ..., wm\n",
    "print(f'wi: {logistic_regression_model.coef_}') "
   ]
  },
  {
   "cell_type": "markdown",
   "metadata": {},
   "source": [
    "### Подбор порога вероятности"
   ]
  },
  {
   "cell_type": "markdown",
   "metadata": {},
   "source": [
    "Напишем функцию для подбора оптимального порога вероятности с помощью графика."
   ]
  },
  {
   "cell_type": "code",
   "execution_count": 11,
   "metadata": {},
   "outputs": [],
   "source": [
    "def show_metrics_for_probability_thresholds(X: pd.DataFrame, y: pd.Series):\n",
    "    \"\"\"Выводит графики значения метрик Recall/Precision/F1 в зависимости от порога вероятности\n",
    "\n",
    "    Args:\n",
    "        X (pd.DataFrame): факторы\n",
    "        y (pd.Series): целевой признак\n",
    "    \"\"\"\n",
    "    # считаем вероятности наличия диабета для каждого из пациентов\n",
    "    # берем только вероятность класса 1 (второй столбец)\n",
    "    y_predict_proba = logistic_regression_model.predict_proba(X)[:, 1]\n",
    "    \n",
    "    # для удобства завернём numpy-массив в Pandas Series\n",
    "    y_predict_proba = pd.Series(y_predict_proba)\n",
    "    \n",
    "    # создадим списки, в которых будем хранить значения метрик \n",
    "    recall_scores = []\n",
    "    precision_scores = []\n",
    "    f1_scores = []\n",
    "    \n",
    "    # сгенерируем набор вероятностных порогов в диапазоне от 0.1 до 1\n",
    "    thresholds = np.arange(0.1, 1, 0.05)\n",
    "    \n",
    "    # d цикле будем перебирать сгенерированные пороги\n",
    "    for threshold in thresholds:\n",
    "        # пациентов, для которых вероятность наличия диабета > threshold, относим к классу 1\n",
    "        # в противном случае — к классу 0\n",
    "        y_predict = y_predict_proba.apply(lambda x: 1 if x > threshold else 0)\n",
    "        \n",
    "        # cчитаем метрики и добавляем их в списки\n",
    "        recall_scores.append(metrics.recall_score(y, y_predict))\n",
    "        precision_scores.append(metrics.precision_score(y, y_predict))\n",
    "        f1_scores.append(metrics.f1_score(y, y_predict))\n",
    "    \n",
    "    # визуализируем метрики при различных threshold\n",
    "    # фигура + координатная плоскость\n",
    "    fig, ax = plt.subplots(figsize=(16, 8)) \n",
    "\n",
    "    # cтроим линейный график зависимости recall от threshold\n",
    "    ax.plot(thresholds, recall_scores, label='Recall')\n",
    "\n",
    "    # cтроим линейный график зависимости precision от threshold\n",
    "    ax.plot(thresholds, precision_scores, label='Precision')\n",
    "\n",
    "    # cтроим линейный график зависимости F1 от threshold\n",
    "    ax.plot(thresholds, f1_scores, label='F1-score')\n",
    "    \n",
    "    # название графика и осей\n",
    "    ax.set_title('Значения метрик Recall/Precision/F1 в зависимости от выбранного порога вероятности')\n",
    "    ax.set_xlabel('Порог вероятности')\n",
    "    ax.set_ylabel('Значение метрик')\n",
    "\n",
    "    # отметки по оси x\n",
    "    ax.set_xticks(thresholds) \n",
    "\n",
    "    # легенда\n",
    "    ax.legend();"
   ]
  },
  {
   "cell_type": "code",
   "execution_count": 12,
   "metadata": {},
   "outputs": [
    {
     "data": {
      "image/png": "[encoded data removed]",
      "text/plain": [
       "<Figure size 1152x576 with 1 Axes>"
      ]
     },
     "metadata": {},
     "output_type": "display_data"
    }
   ],
   "source": [
    "# посмотрим на графики метрик для тренировочной выборки\n",
    "show_metrics_for_probability_thresholds(X_train, y_train)"
   ]
  },
  {
   "cell_type": "markdown",
   "metadata": {},
   "source": [
    "Оптимальным значением является порог вероятности `0.4`.\\\n",
    "Так как значения метрик `Recall` и `Precision` для него равны."
   ]
  },
  {
   "cell_type": "code",
   "execution_count": 13,
   "metadata": {},
   "outputs": [
    {
     "data": {
      "image/png": "[encoded data removed]",
      "text/plain": [
       "<Figure size 1152x576 with 1 Axes>"
      ]
     },
     "metadata": {},
     "output_type": "display_data"
    }
   ],
   "source": [
    "show_metrics_for_probability_thresholds(X_test, y_test)"
   ]
  },
  {
   "cell_type": "markdown",
   "metadata": {},
   "source": [
    "А для тестовой выборки больше подходит значение, близкое к `0.51`, \\\n",
    "так как в нем равны значения метрк `Recall` и `Precision`.\n",
    "\n",
    "Правильней взять значение `0.4` (для тренировочной выборки)\\\n",
    "И стоит иметь в виду, что выбранный порог не всегда подойдет для новых данных."
   ]
  },
  {
   "cell_type": "markdown",
   "metadata": {},
   "source": [
    "## Логистическая регрессия с полиномиальными признаками\n",
    "\n",
    "Для построения модели логистической регрессии можно использовать полиномиальные признаки (аналогично [линейной регрессии](./linear_regression.ipynb)).\\\n",
    "И в этом случае также необходимо добавлять регуляризацию во избежание переобучения модели."
   ]
  },
  {
   "cell_type": "markdown",
   "metadata": {},
   "source": [
    "## Мультиклассовая классификация"
   ]
  },
  {
   "cell_type": "markdown",
   "metadata": {},
   "source": [
    "Когда **классов**, которые нужно предскзать, **более двух**, то классификация называется **мультиклассовой (многоклассовой)**"
   ]
  },
  {
   "cell_type": "markdown",
   "metadata": {},
   "source": [
    "Если у нас есть $k$ различных классов ($k>2$), \\\n",
    "то модель строит $k$ классификаторов, \\\n",
    "каждый из которых будет предсказывать вероятности принадлежности каждого объекта \\\n",
    "к определённому классу.\n",
    "\n",
    "Итоговый классификатор будет выдавать класс, который соответствует самой «уверенной» модели.\n",
    "\n",
    "Схематически это можно представить следующим образом."
   ]
  },
  {
   "cell_type": "markdown",
   "metadata": {},
   "source": [
    "<div style=\"width: 100%;\"><div style=\"position: relative; padding-bottom: 56.25%; padding-top: 0; height: 0;\"><iframe title=\"\" frameborder=\"0\" width=\"1200px\" height=\"675px\" style=\"position: absolute; top: 0; left: 0; width: 100%; height: 100%;\" src=\"https://github.com/experiment0/data_science_helpers/blob/master/articles/mermaid/logistic-regression-multiclass.md\" type=\"text/html\" allowscriptaccess=\"always\" allowfullscreen=\"true\" scrolling=\"yes\" allownetworking=\"all\"></iframe> </div> </div>"
   ]
  },
  {
   "cell_type": "markdown",
   "metadata": {},
   "source": [
    "```mermaid\n",
    "flowchart LR\n",
    "    %% Блоки\n",
    "    Factors(\"`Новые факторы:\n",
    "    Фактор 1\n",
    "    Фактор 2\n",
    "    ...\n",
    "    Фактор m\n",
    "    `\")\n",
    "\n",
    "    Model0(\"Модель '0 vs other'\")\n",
    "    Model1(\"Модель '1 vs other'\")\n",
    "    Model2(\"Модель '2 vs other'\")\n",
    "\n",
    "    Maximum(\"Максимум из вероятностей\")\n",
    "\n",
    "    Result(\"Предсказанный класс 1\")\n",
    "    \n",
    "    %% Связи\n",
    "    Factors-->Model0\n",
    "    Factors-->Model1\n",
    "    Factors-->Model2\n",
    "\n",
    "    Model0-->|0.3|Maximum\n",
    "    Model1-->|0.61|Maximum\n",
    "    Model2-->|0.09|Maximum\n",
    "\n",
    "    Maximum-->Result\n",
    "```"
   ]
  },
  {
   "cell_type": "markdown",
   "metadata": {},
   "source": [
    "Пусть мы построили несколько разделяющих плоскостей с различными наборами параметров $k$, \\\n",
    "где $k$ — номер классификатора. \\\n",
    "То есть имеем $K$ разделяющих плоскостей:\n",
    "\n",
    "$$ z_{k}=w_{0 k}+\\sum_{j=1}^{m} w_{j k} x_{j}=w_{k} \\cdot x $$\n",
    "\n",
    "Чтобы преобразовать результат каждой из построенных моделей в вероятности в логистической регрессии, \\\n",
    "используется функция **softmax** — многомерный аналог сигмоиды:\n",
    "\n",
    "$$ \\hat{P}_{k}=\\operatorname{softmax}\\left(z_{k}\\right)=\\frac{\\exp \\left(\\hat{y}_{k}\\right)}{\\sum_{k=1}^{K} \\exp \\left(\\hat{y}_{j k}\\right)} $$\n",
    "\n",
    "Данная функция выдаёт нормированные вероятности, \\\n",
    "то есть в сумме для всех классов вероятность будет равна 1."
   ]
  },
  {
   "cell_type": "code",
   "execution_count": 35,
   "metadata": {},
   "outputs": [
    {
     "data": {
      "text/html": [
       "<div>\n",
       "<style scoped>\n",
       "    .dataframe tbody tr th:only-of-type {\n",
       "        vertical-align: middle;\n",
       "    }\n",
       "\n",
       "    .dataframe tbody tr th {\n",
       "        vertical-align: top;\n",
       "    }\n",
       "\n",
       "    .dataframe thead th {\n",
       "        text-align: right;\n",
       "    }\n",
       "</style>\n",
       "<table border=\"1\" class=\"dataframe\">\n",
       "  <thead>\n",
       "    <tr style=\"text-align: right;\">\n",
       "      <th></th>\n",
       "      <th>species</th>\n",
       "      <th>island</th>\n",
       "      <th>bill_length_mm</th>\n",
       "      <th>bill_depth_mm</th>\n",
       "      <th>flipper_length_mm</th>\n",
       "      <th>body_mass_g</th>\n",
       "      <th>sex</th>\n",
       "    </tr>\n",
       "  </thead>\n",
       "  <tbody>\n",
       "    <tr>\n",
       "      <th>0</th>\n",
       "      <td>Adelie</td>\n",
       "      <td>Torgersen</td>\n",
       "      <td>39.1</td>\n",
       "      <td>18.7</td>\n",
       "      <td>181.0</td>\n",
       "      <td>3750.0</td>\n",
       "      <td>Male</td>\n",
       "    </tr>\n",
       "    <tr>\n",
       "      <th>1</th>\n",
       "      <td>Adelie</td>\n",
       "      <td>Torgersen</td>\n",
       "      <td>39.5</td>\n",
       "      <td>17.4</td>\n",
       "      <td>186.0</td>\n",
       "      <td>3800.0</td>\n",
       "      <td>Female</td>\n",
       "    </tr>\n",
       "    <tr>\n",
       "      <th>2</th>\n",
       "      <td>Adelie</td>\n",
       "      <td>Torgersen</td>\n",
       "      <td>40.3</td>\n",
       "      <td>18.0</td>\n",
       "      <td>195.0</td>\n",
       "      <td>3250.0</td>\n",
       "      <td>Female</td>\n",
       "    </tr>\n",
       "    <tr>\n",
       "      <th>3</th>\n",
       "      <td>Adelie</td>\n",
       "      <td>Torgersen</td>\n",
       "      <td>NaN</td>\n",
       "      <td>NaN</td>\n",
       "      <td>NaN</td>\n",
       "      <td>NaN</td>\n",
       "      <td>NaN</td>\n",
       "    </tr>\n",
       "    <tr>\n",
       "      <th>4</th>\n",
       "      <td>Adelie</td>\n",
       "      <td>Torgersen</td>\n",
       "      <td>36.7</td>\n",
       "      <td>19.3</td>\n",
       "      <td>193.0</td>\n",
       "      <td>3450.0</td>\n",
       "      <td>Female</td>\n",
       "    </tr>\n",
       "  </tbody>\n",
       "</table>\n",
       "</div>"
      ],
      "text/plain": [
       "  species     island  bill_length_mm  bill_depth_mm  flipper_length_mm  \\\n",
       "0  Adelie  Torgersen            39.1           18.7              181.0   \n",
       "1  Adelie  Torgersen            39.5           17.4              186.0   \n",
       "2  Adelie  Torgersen            40.3           18.0              195.0   \n",
       "3  Adelie  Torgersen             NaN            NaN                NaN   \n",
       "4  Adelie  Torgersen            36.7           19.3              193.0   \n",
       "\n",
       "   body_mass_g     sex  \n",
       "0       3750.0    Male  \n",
       "1       3800.0  Female  \n",
       "2       3250.0  Female  \n",
       "3          NaN     NaN  \n",
       "4       3450.0  Female  "
      ]
     },
     "execution_count": 35,
     "metadata": {},
     "output_type": "execute_result"
    }
   ],
   "source": [
    "# Возьмем датасет с пинвинами\n",
    "penguins_data = sns.load_dataset('penguins')\n",
    "penguins_data.head()"
   ]
  },
  {
   "cell_type": "markdown",
   "metadata": {},
   "source": [
    "Описание столбцов:\n",
    "- **species** — класс пингвина ('Adelie', 'Chinstrap', 'Gentoo'), целевой признак;\n",
    "- **island** — остров, на котором живёт пингвин ('Torgersen', 'Biscoe', 'Dream');\n",
    "- **bill_length_mm** — длина клюва в миллиметрах;\n",
    "- **bill_depth_mm** — толщина клюва в миллиметрах;\n",
    "- **flipper_length_mm** — длина крыльев;\n",
    "- **body_mass_g** — масса;\n",
    "- **sex** — пол ('Male', 'Female')."
   ]
  },
  {
   "cell_type": "code",
   "execution_count": 36,
   "metadata": {},
   "outputs": [
    {
     "data": {
      "text/plain": [
       "species               0\n",
       "island                0\n",
       "bill_length_mm        2\n",
       "bill_depth_mm         2\n",
       "flipper_length_mm     2\n",
       "body_mass_g           2\n",
       "sex                  11\n",
       "dtype: int64"
      ]
     },
     "execution_count": 36,
     "metadata": {},
     "output_type": "execute_result"
    }
   ],
   "source": [
    "# Посмотрим на пропуски\n",
    "penguins_data.isnull().sum()"
   ]
  },
  {
   "cell_type": "code",
   "execution_count": 37,
   "metadata": {},
   "outputs": [],
   "source": [
    "# Удалим пропуски\n",
    "penguins_data = penguins_data.dropna()"
   ]
  },
  {
   "cell_type": "code",
   "execution_count": 38,
   "metadata": {},
   "outputs": [],
   "source": [
    "# Заменим признак пола на бинарный\n",
    "penguins_data['sex'] = penguins_data['sex'].apply(lambda x: 1 if x == 'Male' else 0)"
   ]
  },
  {
   "cell_type": "code",
   "execution_count": 39,
   "metadata": {},
   "outputs": [
    {
     "data": {
      "text/html": [
       "<div>\n",
       "<style scoped>\n",
       "    .dataframe tbody tr th:only-of-type {\n",
       "        vertical-align: middle;\n",
       "    }\n",
       "\n",
       "    .dataframe tbody tr th {\n",
       "        vertical-align: top;\n",
       "    }\n",
       "\n",
       "    .dataframe thead th {\n",
       "        text-align: right;\n",
       "    }\n",
       "</style>\n",
       "<table border=\"1\" class=\"dataframe\">\n",
       "  <thead>\n",
       "    <tr style=\"text-align: right;\">\n",
       "      <th></th>\n",
       "      <th>island</th>\n",
       "      <th>bill_length_mm</th>\n",
       "      <th>bill_depth_mm</th>\n",
       "      <th>flipper_length_mm</th>\n",
       "      <th>body_mass_g</th>\n",
       "      <th>sex</th>\n",
       "    </tr>\n",
       "  </thead>\n",
       "  <tbody>\n",
       "    <tr>\n",
       "      <th>0</th>\n",
       "      <td>Torgersen</td>\n",
       "      <td>39.1</td>\n",
       "      <td>18.7</td>\n",
       "      <td>181.0</td>\n",
       "      <td>3750.0</td>\n",
       "      <td>1</td>\n",
       "    </tr>\n",
       "    <tr>\n",
       "      <th>1</th>\n",
       "      <td>Torgersen</td>\n",
       "      <td>39.5</td>\n",
       "      <td>17.4</td>\n",
       "      <td>186.0</td>\n",
       "      <td>3800.0</td>\n",
       "      <td>0</td>\n",
       "    </tr>\n",
       "    <tr>\n",
       "      <th>2</th>\n",
       "      <td>Torgersen</td>\n",
       "      <td>40.3</td>\n",
       "      <td>18.0</td>\n",
       "      <td>195.0</td>\n",
       "      <td>3250.0</td>\n",
       "      <td>0</td>\n",
       "    </tr>\n",
       "    <tr>\n",
       "      <th>4</th>\n",
       "      <td>Torgersen</td>\n",
       "      <td>36.7</td>\n",
       "      <td>19.3</td>\n",
       "      <td>193.0</td>\n",
       "      <td>3450.0</td>\n",
       "      <td>0</td>\n",
       "    </tr>\n",
       "    <tr>\n",
       "      <th>5</th>\n",
       "      <td>Torgersen</td>\n",
       "      <td>39.3</td>\n",
       "      <td>20.6</td>\n",
       "      <td>190.0</td>\n",
       "      <td>3650.0</td>\n",
       "      <td>1</td>\n",
       "    </tr>\n",
       "  </tbody>\n",
       "</table>\n",
       "</div>"
      ],
      "text/plain": [
       "      island  bill_length_mm  bill_depth_mm  flipper_length_mm  body_mass_g  \\\n",
       "0  Torgersen            39.1           18.7              181.0       3750.0   \n",
       "1  Torgersen            39.5           17.4              186.0       3800.0   \n",
       "2  Torgersen            40.3           18.0              195.0       3250.0   \n",
       "4  Torgersen            36.7           19.3              193.0       3450.0   \n",
       "5  Torgersen            39.3           20.6              190.0       3650.0   \n",
       "\n",
       "   sex  \n",
       "0    1  \n",
       "1    0  \n",
       "2    0  \n",
       "4    0  \n",
       "5    1  "
      ]
     },
     "execution_count": 39,
     "metadata": {},
     "output_type": "execute_result"
    }
   ],
   "source": [
    "# факторы\n",
    "X = penguins_data.drop('species', axis=1)\n",
    "# целевой признак\n",
    "y = penguins_data['species']\n",
    "\n",
    "X.head()"
   ]
  },
  {
   "cell_type": "markdown",
   "metadata": {},
   "source": [
    "> **Примечание**. Кодировать целевую переменную **y** не нужно, \\\n",
    "даже если она представлена в виде строковых значений. \\\n",
    "Это не влияет на работу модели."
   ]
  },
  {
   "cell_type": "code",
   "execution_count": 40,
   "metadata": {},
   "outputs": [
    {
     "data": {
      "text/html": [
       "<div>\n",
       "<style scoped>\n",
       "    .dataframe tbody tr th:only-of-type {\n",
       "        vertical-align: middle;\n",
       "    }\n",
       "\n",
       "    .dataframe tbody tr th {\n",
       "        vertical-align: top;\n",
       "    }\n",
       "\n",
       "    .dataframe thead th {\n",
       "        text-align: right;\n",
       "    }\n",
       "</style>\n",
       "<table border=\"1\" class=\"dataframe\">\n",
       "  <thead>\n",
       "    <tr style=\"text-align: right;\">\n",
       "      <th></th>\n",
       "      <th>bill_length_mm</th>\n",
       "      <th>bill_depth_mm</th>\n",
       "      <th>flipper_length_mm</th>\n",
       "      <th>body_mass_g</th>\n",
       "      <th>sex</th>\n",
       "      <th>island_Biscoe</th>\n",
       "      <th>island_Dream</th>\n",
       "      <th>island_Torgersen</th>\n",
       "    </tr>\n",
       "  </thead>\n",
       "  <tbody>\n",
       "    <tr>\n",
       "      <th>0</th>\n",
       "      <td>39.1</td>\n",
       "      <td>18.7</td>\n",
       "      <td>181.0</td>\n",
       "      <td>3750.0</td>\n",
       "      <td>1</td>\n",
       "      <td>0</td>\n",
       "      <td>0</td>\n",
       "      <td>1</td>\n",
       "    </tr>\n",
       "    <tr>\n",
       "      <th>1</th>\n",
       "      <td>39.5</td>\n",
       "      <td>17.4</td>\n",
       "      <td>186.0</td>\n",
       "      <td>3800.0</td>\n",
       "      <td>0</td>\n",
       "      <td>0</td>\n",
       "      <td>0</td>\n",
       "      <td>1</td>\n",
       "    </tr>\n",
       "    <tr>\n",
       "      <th>2</th>\n",
       "      <td>40.3</td>\n",
       "      <td>18.0</td>\n",
       "      <td>195.0</td>\n",
       "      <td>3250.0</td>\n",
       "      <td>0</td>\n",
       "      <td>0</td>\n",
       "      <td>0</td>\n",
       "      <td>1</td>\n",
       "    </tr>\n",
       "    <tr>\n",
       "      <th>4</th>\n",
       "      <td>36.7</td>\n",
       "      <td>19.3</td>\n",
       "      <td>193.0</td>\n",
       "      <td>3450.0</td>\n",
       "      <td>0</td>\n",
       "      <td>0</td>\n",
       "      <td>0</td>\n",
       "      <td>1</td>\n",
       "    </tr>\n",
       "    <tr>\n",
       "      <th>5</th>\n",
       "      <td>39.3</td>\n",
       "      <td>20.6</td>\n",
       "      <td>190.0</td>\n",
       "      <td>3650.0</td>\n",
       "      <td>1</td>\n",
       "      <td>0</td>\n",
       "      <td>0</td>\n",
       "      <td>1</td>\n",
       "    </tr>\n",
       "  </tbody>\n",
       "</table>\n",
       "</div>"
      ],
      "text/plain": [
       "   bill_length_mm  bill_depth_mm  flipper_length_mm  body_mass_g  sex  \\\n",
       "0            39.1           18.7              181.0       3750.0    1   \n",
       "1            39.5           17.4              186.0       3800.0    0   \n",
       "2            40.3           18.0              195.0       3250.0    0   \n",
       "4            36.7           19.3              193.0       3450.0    0   \n",
       "5            39.3           20.6              190.0       3650.0    1   \n",
       "\n",
       "   island_Biscoe  island_Dream  island_Torgersen  \n",
       "0              0             0                 1  \n",
       "1              0             0                 1  \n",
       "2              0             0                 1  \n",
       "4              0             0                 1  \n",
       "5              0             0                 1  "
      ]
     },
     "execution_count": 40,
     "metadata": {},
     "output_type": "execute_result"
    }
   ],
   "source": [
    "# Закодируем категориальные признаки\n",
    "X_dummies = pd.get_dummies(X)\n",
    "X_dummies.head()"
   ]
  },
  {
   "cell_type": "code",
   "execution_count": 41,
   "metadata": {},
   "outputs": [],
   "source": [
    "# разделяем на тренировочную и тестовую выборки\n",
    "X_train, X_test, y_train, y_test = train_test_split(X_dummies, y, test_size=0.25, random_state=42)"
   ]
  },
  {
   "cell_type": "markdown",
   "metadata": {},
   "source": [
    "Для мультиклассовой классификации необходимо выставить параметр `multi_class` на `multinomial`."
   ]
  },
  {
   "cell_type": "code",
   "execution_count": 42,
   "metadata": {},
   "outputs": [],
   "source": [
    "# создаём объект класса LogisticRegression\n",
    "logistic_regression_multiclass_model = LogisticRegression(\n",
    "    # мультиклассовая классификация\n",
    "    multi_class='multinomial', \n",
    "    # количество итераций, выделенных на сходимость\n",
    "    max_iter=1000, \n",
    "    # генерация случайных чисел\n",
    "    random_state=42 \n",
    ")\n",
    " \n",
    "# обучаем модель \n",
    "logistic_regression_multiclass_model.fit(X_train, y_train)\n",
    "\n",
    "# делаем предсказание вероятностей\n",
    "y_test_pred_proba = np.round(logistic_regression_multiclass_model.predict_proba(X_test), 2)\n",
    "\n",
    "# делаем предсказание класса\n",
    "y_train_pred = logistic_regression_multiclass_model.predict(X_train)\n",
    "y_test_pred = logistic_regression_multiclass_model.predict(X_test)"
   ]
  },
  {
   "cell_type": "markdown",
   "metadata": {},
   "source": [
    "Сделаем таблицу из вероятностей для каждого класса и финального предсказания. "
   ]
  },
  {
   "cell_type": "code",
   "execution_count": 43,
   "metadata": {},
   "outputs": [
    {
     "data": {
      "text/html": [
       "<div>\n",
       "<style scoped>\n",
       "    .dataframe tbody tr th:only-of-type {\n",
       "        vertical-align: middle;\n",
       "    }\n",
       "\n",
       "    .dataframe tbody tr th {\n",
       "        vertical-align: top;\n",
       "    }\n",
       "\n",
       "    .dataframe thead th {\n",
       "        text-align: right;\n",
       "    }\n",
       "</style>\n",
       "<table border=\"1\" class=\"dataframe\">\n",
       "  <thead>\n",
       "    <tr style=\"text-align: right;\">\n",
       "      <th></th>\n",
       "      <th>Adelie</th>\n",
       "      <th>Chinstrap</th>\n",
       "      <th>Gentoo</th>\n",
       "      <th>Predicted Class</th>\n",
       "    </tr>\n",
       "  </thead>\n",
       "  <tbody>\n",
       "    <tr>\n",
       "      <th>73</th>\n",
       "      <td>0.00</td>\n",
       "      <td>0.00</td>\n",
       "      <td>1.0</td>\n",
       "      <td>Gentoo</td>\n",
       "    </tr>\n",
       "    <tr>\n",
       "      <th>0</th>\n",
       "      <td>0.48</td>\n",
       "      <td>0.52</td>\n",
       "      <td>0.0</td>\n",
       "      <td>Chinstrap</td>\n",
       "    </tr>\n",
       "    <tr>\n",
       "      <th>58</th>\n",
       "      <td>0.00</td>\n",
       "      <td>1.00</td>\n",
       "      <td>0.0</td>\n",
       "      <td>Chinstrap</td>\n",
       "    </tr>\n",
       "    <tr>\n",
       "      <th>22</th>\n",
       "      <td>0.00</td>\n",
       "      <td>0.00</td>\n",
       "      <td>1.0</td>\n",
       "      <td>Gentoo</td>\n",
       "    </tr>\n",
       "    <tr>\n",
       "      <th>12</th>\n",
       "      <td>0.00</td>\n",
       "      <td>0.00</td>\n",
       "      <td>1.0</td>\n",
       "      <td>Gentoo</td>\n",
       "    </tr>\n",
       "  </tbody>\n",
       "</table>\n",
       "</div>"
      ],
      "text/plain": [
       "    Adelie  Chinstrap  Gentoo Predicted Class\n",
       "73    0.00       0.00     1.0          Gentoo\n",
       "0     0.48       0.52     0.0       Chinstrap\n",
       "58    0.00       1.00     0.0       Chinstrap\n",
       "22    0.00       0.00     1.0          Gentoo\n",
       "12    0.00       0.00     1.0          Gentoo"
      ]
     },
     "execution_count": 43,
     "metadata": {},
     "output_type": "execute_result"
    }
   ],
   "source": [
    "# создаём DataFrame из вероятностей\n",
    "y_test_pred_proba_df = pd.DataFrame(\n",
    "    y_test_pred_proba, \n",
    "    columns=['Adelie', 'Chinstrap', 'Gentoo']\n",
    ")\n",
    "\n",
    "# создаём DataFrame из предсказанных классов\n",
    "y_test_pred_df = pd.DataFrame(\n",
    "    y_test_pred, \n",
    "    columns=['Predicted Class']\n",
    ")\n",
    "\n",
    "# объединяем таблицы по вертикальной оси\n",
    "y_test_pred_result_df = pd.concat([y_test_pred_proba_df, y_test_pred_df], axis=1)\n",
    "\n",
    "# Выбираем пять случайных строк\n",
    "y_test_pred_result_df.sample(5, random_state=42)"
   ]
  },
  {
   "cell_type": "markdown",
   "metadata": {},
   "source": [
    "Видно, что выбирается класс, вероятность принадлежности к которому максимальна."
   ]
  },
  {
   "cell_type": "code",
   "execution_count": 44,
   "metadata": {},
   "outputs": [
    {
     "name": "stdout",
     "output_type": "stream",
     "text": [
      "              precision    recall  f1-score   support\n",
      "\n",
      "      Adelie       1.00      0.99      1.00       106\n",
      "   Chinstrap       0.98      1.00      0.99        53\n",
      "      Gentoo       1.00      1.00      1.00        90\n",
      "\n",
      "    accuracy                           1.00       249\n",
      "   macro avg       0.99      1.00      1.00       249\n",
      "weighted avg       1.00      1.00      1.00       249\n",
      "\n"
     ]
    }
   ],
   "source": [
    "# Посмотрим на метрики для тренировочной выборки\n",
    "print(metrics.classification_report(y_train, y_train_pred))"
   ]
  },
  {
   "cell_type": "code",
   "execution_count": 45,
   "metadata": {},
   "outputs": [
    {
     "name": "stdout",
     "output_type": "stream",
     "text": [
      "              precision    recall  f1-score   support\n",
      "\n",
      "      Adelie       1.00      0.97      0.99        40\n",
      "   Chinstrap       0.94      1.00      0.97        15\n",
      "      Gentoo       1.00      1.00      1.00        29\n",
      "\n",
      "    accuracy                           0.99        84\n",
      "   macro avg       0.98      0.99      0.99        84\n",
      "weighted avg       0.99      0.99      0.99        84\n",
      "\n"
     ]
    }
   ],
   "source": [
    "# Посмотрим на метрики для тестовой выборки\n",
    "print(metrics.classification_report(y_test, y_test_pred))"
   ]
  },
  {
   "cell_type": "markdown",
   "metadata": {},
   "source": [
    "Значения метрик близки к 1. Значит классы линейно разделимы."
   ]
  }
 ],
 "metadata": {
  "kernelspec": {
   "display_name": "Python 3",
   "language": "python",
   "name": "python3"
  },
  "language_info": {
   "codemirror_mode": {
    "name": "ipython",
    "version": 3
   },
   "file_extension": ".py",
   "mimetype": "text/x-python",
   "name": "python",
   "nbconvert_exporter": "python",
   "pygments_lexer": "ipython3",
   "version": "3.9.10"
  }
 },
 "nbformat": 4,
 "nbformat_minor": 2
}
