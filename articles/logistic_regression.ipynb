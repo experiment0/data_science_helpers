{
 "cells": [
  {
   "cell_type": "markdown",
   "metadata": {},
   "source": [
    "# Логистическая регрессия"
   ]
  },
  {
   "cell_type": "code",
   "execution_count": 39,
   "metadata": {},
   "outputs": [],
   "source": [
    "import numpy as np\n",
    "from sklearn.linear_model import LogisticRegression\n",
    "from sklearn.model_selection import train_test_split\n",
    "from sklearn import metrics\n",
    "from sklearn.datasets import fetch_openml\n",
    "import matplotlib.pyplot as plt \n",
    "\n",
    "# Устанавливаем стиль визуализаций в matplotlib\n",
    "%matplotlib inline\n",
    "plt.style.use('seaborn')\n",
    "\n",
    "from warnings import simplefilter\n",
    "simplefilter('ignore')"
   ]
  },
  {
   "cell_type": "markdown",
   "metadata": {},
   "source": [
    "В **задаче классификации** нужно предсказать класс объекта на основе признаков в наборе данных.\\\n",
    "Задача сводится к предсказанию целевого признака, который является **категориальным**.\n",
    "\n",
    "Если **классов**, которые нужно предскзать, только **два**, то классификация называется **бинарной**.\n",
    "\n",
    "Когда **классов**, которые нужно предскзать, **более двух**, то классификация называется **мультиклассовой (многоклассовой)**.\n",
    "\n",
    "> Модели, которые решают задачу классификации, называются **классификаторами (classifier)**.\n",
    "\n",
    "Для начала рассмотрим бинарную классификацию."
   ]
  },
  {
   "cell_type": "markdown",
   "metadata": {},
   "source": [
    "В основе логистической регрессии лежит **логистическая функция (logistic function)** — отсюда и название модели.\\\n",
    "Более распространённое название этой функции — **сигмόида (sigmoid)**. \\\n",
    "Записывается она следующим образом:\n",
    "$$ \\sigma(z) = \\frac{1}{1+e^{-z}} $$"
   ]
  },
  {
   "cell_type": "markdown",
   "metadata": {},
   "source": [
    "Где $e$ — экспонента или [число Эйлера](https://dzen.ru/a/XKW4kcYE3AId802p). \\\n",
    "Бесконечная десятичная дробь, которую обычно принимают равной $2.718...$ \\\n",
    "Построим сигмоиду для наглядности."
   ]
  },
  {
   "cell_type": "code",
   "execution_count": 40,
   "metadata": {},
   "outputs": [
    {
     "data": {
      "text/plain": [
       "<matplotlib.legend.Legend at 0x23187791640>"
      ]
     },
     "execution_count": 40,
     "metadata": {},
     "output_type": "execute_result"
    },
    {
     "data": {
      "image/png": "[encoded data removed]",
      "text/plain": [
       "<Figure size 864x432 with 1 Axes>"
      ]
     },
     "metadata": {},
     "output_type": "display_data"
    }
   ],
   "source": [
    "# фигура + координатная плоскость\n",
    "fig, ax = plt.subplots(figsize=(12, 6)) \n",
    "\n",
    "# точки по осям\n",
    "z_items = np.arange(-10, 10.5, 0.5, dtype=None)\n",
    "sigma_items = 1 / (1 + np.exp(-1*z_items))\n",
    "\n",
    "# график сигмоиды\n",
    "ax.plot(z_items, sigma_items, color='blue', label='$\\sigma(z)$') \n",
    "\n",
    "# ось абсцисс  \n",
    "ax.axhline(y=0.5, color='black')\n",
    "# ось ординат\n",
    "ax.axvline(x=0, color='black')\n",
    "\n",
    "# название графика\n",
    "ax.set_title('Логистическая функция (сигмоида)')\n",
    "# название оси абсцисс\n",
    "ax.set_xlabel('z')     \n",
    "# название оси ординат\n",
    "ax.set_ylabel('$\\sigma(z)$') \n",
    "\n",
    "# метки по оси абсцисс\n",
    "ax.set_xticks(np.arange(-10, 11, 1, dtype=None))\n",
    "# метки по оси ординат\n",
    "ax.set_yticks(np.arange(0, 1.25, 0.25, dtype=None))\n",
    "    \n",
    "# легенда\n",
    "ax.legend(facecolor='white', fontsize=11) "
   ]
  },
  {
   "cell_type": "markdown",
   "metadata": {},
   "source": [
    "Функция сигмоиды реализована в [scipy.stats.logistic](https://docs.scipy.org/doc/scipy/reference/generated/scipy.stats.logistic.html) и [scipy.special.expit](https://docs.scipy.org/doc/scipy/reference/generated/scipy.special.expit.html)."
   ]
  },
  {
   "cell_type": "markdown",
   "metadata": {},
   "source": [
    "У сигмоиды есть два важных свойства:\n",
    "\n",
    "- Значения сигмоиды $\\sigma(z)$ лежат в диапазоне от 0 до 1 при любых значения аргумента $z$.\n",
    "\n",
    "- Сигмоида выдаёт значения $\\sigma(z)>0.5$ при аргументе $z>0$, \\\n",
    "$\\sigma(z)<0.5$ — при $z<0$ \\\n",
    "и $\\sigma(z)=0.5$ — при $z=0$."
   ]
  },
  {
   "cell_type": "markdown",
   "metadata": {},
   "source": [
    "А это свойства вероятности. \\\n",
    "Выходом сигмоиды является число от 0 до 1, \\\n",
    "которое можно интерпретировать как вероятность принадлежности к классу 1."
   ]
  },
  {
   "cell_type": "markdown",
   "metadata": {},
   "source": [
    "**Основная идея модели логистической регрессии**: \n",
    "\n",
    "модель линейной регрессии (обозначим её выход за $z$)\n",
    "$$ z=w_{0}+\\sum_{j=1}^{m} w_{j} x_{j} $$"
   ]
  },
  {
   "cell_type": "markdown",
   "metadata": {},
   "source": [
    "подставляется в функцию сигмоиды, чтобы получить искомые оценки вероятности \\\n",
    "(оценочные величины обозначаются с «шапкой» наверху, а истинные значения — без «шапки»):\n",
    "\n",
    "$$ \\hat{P}=\\sigma(z)=\\frac{1}{1+e^{-z}}=\\frac{1}{1+e^{-w_{0}-\\sum_{j=1}^{m} w_{j} x_{j}}}=\\frac{1}{1+e^{-\\bar{w} \\cdot \\bar{x}}} $$"
   ]
  },
  {
   "cell_type": "markdown",
   "metadata": {},
   "source": [
    "Далее для краткости будем использовать слово \"**вероятность**\", но подразумевается именно **оценка вероятности**."
   ]
  },
  {
   "cell_type": "markdown",
   "metadata": {},
   "source": [
    "Если вероятность $\\hat{P} > 0.5$, относим объект к классу 1, \\\n",
    "а если $\\hat{P} \\leq 0.5$, относим объект к классу 0. \n",
    "\n",
    "Данное условие записывается с помощью **индикаторной функции**:\n",
    "\n",
    "$$ \\hat{y}=I[\\hat{P}]=\\left\\{\\begin{array}{l} 1, \\hat{P}>0.5 \\\\ 0, \\hat{P} \\leq 0.5 \\end{array}\\right. $$"
   ]
  },
  {
   "cell_type": "markdown",
   "metadata": {},
   "source": [
    "Так задача классификации сводится к задаче регрессии для предсказания вероятностей. "
   ]
  },
  {
   "cell_type": "markdown",
   "metadata": {},
   "source": [
    "Полученное выражение для оценки вероятности $\\hat{P}$ называется моделью логистической регрессии:\n",
    "$$ \\hat{P}=\\frac{1}{1+e^{-w_{0}-\\sum_{j=1}^{m} w_{j} x_{j}}} $$\n",
    "$$ \\hat{y}=I[\\hat{P}] $$"
   ]
  },
  {
   "cell_type": "markdown",
   "metadata": {},
   "source": [
    "**Для понимания геометрической интерпретации рассмотрим частный случай.**\n",
    "\n",
    "Пусть класс объекта зависит от двух признаков.\\\n",
    "Если рассматривать уравнение линейной регрессии отдельно от сигмоиды, \\\n",
    "то геометрически построить логистическую регрессию на основе двух факторов — \\\n",
    "значит найти такие коэффициенты $w_0$, $w_1$ и $w_2$ уравнения плоскости, \\\n",
    "при которых наблюдается наилучшее разделение пространства на две части.\n",
    "$$ z = w_{0} + w_{1}x_{1} + w_{2}x_{2} $$"
   ]
  },
  {
   "cell_type": "markdown",
   "metadata": {},
   "source": [
    "Математически подстановка в уравнение плоскости точки, которая не принадлежит ей (находится ниже или выше), \\\n",
    "означает вычисление расстояния от этой точки до плоскости.\n",
    "\n",
    "- Если точка находится ниже плоскости, расстояние будет отрицательным ($z < 0$).\n",
    "- Если точка находится выше плоскости, расстояние будет положительным ($z > 0$).\n",
    "- Если точка находится на самой плоскости, $z = 0$.\n",
    "\n",
    "Подстановка отрицательных чисел в сигмоиду приведёт к вероятности $\\hat P < 0.5$, \\\n",
    "а постановка положительных — к вероятности $\\hat P > 0.5$,. "
   ]
  },
  {
   "cell_type": "markdown",
   "metadata": {},
   "source": [
    "Таким образом, ключевым моментом в предсказании логистической регрессии \\\n",
    "является расстояние от точки до разделяющей плоскости в пространстве факторов. \\\n",
    "Это расстояние в литературе часто называется **отступом (margin)**. \n",
    "\n",
    "Чем больше расстояние от точки, находящейся выше разделяющей плоскости, до самой плоскости, \\\n",
    "тем больше оценка вероятности принадлежности к классу 1."
   ]
  },
  {
   "cell_type": "markdown",
   "metadata": {},
   "source": [
    "В общем случае, когда есть зависимость от $m$ факторов, \\\n",
    "линейное выражение, находящееся под сигмоидой, \\\n",
    "будет обозначать **разделяющую гиперплоскость**."
   ]
  },
  {
   "cell_type": "markdown",
   "metadata": {},
   "source": [
    "## Поиск параметров логистической регрессии"
   ]
  },
  {
   "cell_type": "markdown",
   "metadata": {},
   "source": [
    "Для поиска параметров логистической регрессии используется \\\n",
    "**метод максимального правдоподобия (Maximum Likelihood Estimation — MLE)**. \n",
    "\n",
    "> **Правдоподобие** — это оценка того, насколько вероятно получить \\\n",
    "истинное значение целевой переменной $y$ при данных $x$ и параметрах $w$. "
   ]
  },
  {
   "cell_type": "markdown",
   "metadata": {},
   "source": [
    "**Цель метода** — найти такие параметры $w=(w_{0}, w_{1}, w_{2}, ..., w_{m})$, \\\n",
    "в которых наблюдается максимум функции правдоподобия:\n",
    "\n",
    "$$ likelihood = \\sum_{i}^{n} (y_{i} log (\\hat{P_{i}}) + (1-y_{i}) log (1-\\hat{P_{i}})) \\rightarrow max_{w} $$\n",
    "\n",
    "[Подробнее о выводе](https://habr.com/ru/articles/485872/)"
   ]
  },
  {
   "cell_type": "markdown",
   "metadata": {},
   "source": [
    "Где:\n",
    "- $n$ — количество наблюдений.\n",
    "- $y_{i}$ - это истинный класс (1 или 0) для $i$-ого объекта из набора данных.\n",
    "- $\\hat{P_{i}} = \\sigma(z_{i})$ — предсказанная с помощью логистической регрессии \\\n",
    "вероятность принадлежности к классу 1 для $i$-ого объекта из набора данных.\n",
    "    - $z_{i}$ — результат подстановки $i$-ого объекта из набора данных \\\n",
    "    в уравнение разделяющей плоскости $z_{i}= \\bar{w} \\cdot \\bar{x_{i}}$.\n",
    "- $log$ — логарифм (обычно используется натуральный логарифм по основанию $e - ln$)."
   ]
  },
  {
   "cell_type": "markdown",
   "metadata": {},
   "source": [
    "Если перед функцией поставить знак минус, то задача меняется на противоположную.\\\n",
    "С поиска максимума на поиск минимума.\\\n",
    "Таким образом получим функцию потерь $L(w)$, \\\n",
    "которая носит название «**функция логистических потерь**», или **logloss**. \\\n",
    "Также часто можно встретить название **кросс-энтропия**, или **cross-entropy loss**:\n",
    "$$ L(w) = \\text { logloss } =-\\sum_{i}^{n} (y_{i} log (\\hat{P_{i}}) + (1-y_{i}) log (1-\\hat{P_{i}})) \\rightarrow min_{w} $$\n",
    "$$ \\hat{P_{i}}=\\frac{1}{1+e^{-w_{0}-\\sum_{j=1}^{m} w_{j} x_{j}}} $$"
   ]
  },
  {
   "cell_type": "markdown",
   "metadata": {},
   "source": [
    "Эта функция минимизируется в рамках поиска параметров логистической регрессии.\\\n",
    "Данная задача решается численным методом (при расчетах получается, что аналитического решения не существует).\n",
    "\n",
    "Например, можно использовать градиентный спуск. \\\n",
    "Итерационная формула данного метода выглядит следующим образом:\n",
    "\n",
    "$$ \\omega^{(k+1)}=\\omega^{(k)}-\\eta \\nabla L\\left(\\omega^{(k)}\\right) $$\n",
    "\n",
    "новое значение параметров $w^{(k+1)}$ \\\n",
    "получается путём сдвига текущих $w^{(k)}$ \\\n",
    "в сторону вектора антиградиента $- \\nabla L (w^{(k)})$, \\\n",
    "умноженного на темп обучения $\\eta$."
   ]
  },
  {
   "cell_type": "markdown",
   "metadata": {},
   "source": [
    "**Формула градиентного спуска для logloss** \n",
    "$$ L(w)=-\\sum_{i}^{n}\\left(y_{i} \\log \\left(\\sigma\\left(w x_{i}\\right)\\right)+\\left(1-y_{i}\\right) \\log \\left(1-\\sigma\\left(w x_{i}\\right)\\right)\\right) $$\n",
    "$$ \\nabla L(w)=-\\sum_{i}^{n} x_{i}\\left(y_{i}-\\sigma\\left(w x_{i}\\right)\\right) $$\n",
    "$$ w^{(k+1)}=w^{(k)}-\\eta \\nabla L\\left(w^{(k)}\\right)=w^{(k)}+\\eta \\sum_{i}^{n} x_{i}\\left(y_{i}-\\sigma\\left(w^{(k)} x_{i}\\right)\\right) $$"
   ]
  },
  {
   "cell_type": "markdown",
   "metadata": {},
   "source": [
    "Для того, чтобы повысить шанс пройти мимо локальных минимумов функции потерь, \\\n",
    "используется не сам градиентный спуск, а его модификации: \\\n",
    "например, можно использовать стохастический градиентный спуск (SGD)."
   ]
  },
  {
   "cell_type": "markdown",
   "metadata": {},
   "source": [
    "Перед применением градиентного спуска необходимо масштабировать данные (нормализовать / стандартизировать).\\\n",
    "Во избежание переобучения модели в функцию потерь логистической регрессии традиционно добавляется **регуляризация**.\n",
    "\n",
    "При L1-регуляризации в функцию потерь $L(w)$ добавляется штраф из суммы модулей параметров, \\\n",
    "а сама функцию logloss умножается на коэффициент $C$:\n",
    "\n",
    "$$ L(w)=C \\cdot \\log \\operatorname{loss}+\\sum_{j=1}^{m}\\left|w_{j}\\right| \\rightarrow \\min_{w} $$\n",
    "\n",
    "А при L2-регуляризации добавляется штраф из суммы квадратов параметров:\n",
    "\n",
    "$$ L(w)=C \\cdot \\log \\operatorname{loss}+\\sum_{j=1}^{m}\\left(w_{j}\\right)^{2} \\rightarrow \\min _{w} $$"
   ]
  },
  {
   "cell_type": "markdown",
   "metadata": {},
   "source": [
    "Значение коэффициента $C$ — коэффициент, обратный коэффициенту регуляризации. \\\n",
    "Чем больше $C$, тем меньше «сила» регуляризации."
   ]
  },
  {
   "cell_type": "markdown",
   "metadata": {},
   "source": [
    "Можно разделить всё соотношение на коэффициент $C$:\n",
    "$$ \\frac{L(w)}{C}=\\log \\operatorname{loss}+\\frac{1}{C} \\sum_{j=1}^{m}\\left|w_{j}\\right| \\rightarrow \\min _{w} $$\n",
    "\n",
    "Оказывается, параметры $w$, при которых достигается минимум $L(w)$ и $\\frac{L(w)}{C}$ одни и те же, \\\n",
    "так как функции отличаются только на константу. \\\n",
    "А значит, нет разницы, минимум какой функции искать — $L(w)$ или $\\frac{L(w)}{C}$. \\\n",
    "Тогда формула будет записана в следующем виде:\n",
    "$$ L(w)=\\log \\operatorname{loss}+\\frac{1}{C} \\sum_{j=1}^{m}\\left|w_{j}\\right| \\rightarrow \\min _{w} $$\n",
    "\n",
    "А если обозначить $\\alpha=\\frac{1}{C}$, то получим ту же самую структуру L1-регуляризации, что и для логистической регрессии:\n",
    "\n",
    "$$ L(w)=\\log \\operatorname{loss}+\\alpha \\sum_{j=1}^{m}\\left|w_{j}\\right| \\rightarrow \\min _{w} $$\n",
    "\n",
    "Вывод: коэффициент $C$ — это коэффициент, обратный коэффициенту регуляризации $\\alpha$."
   ]
  },
  {
   "cell_type": "markdown",
   "metadata": {},
   "source": [
    "## Реализация логистической регрессии в sklearn"
   ]
  },
  {
   "cell_type": "markdown",
   "metadata": {},
   "source": [
    "Класс логистической регрессии **LogisticRegression** находится в модуле **sklearn.linear_model**.\n",
    "\n",
    "**Основные параметры LogisticRegression**\n",
    "\n",
    "- `random_state` — число, на основе которого происходит генерация случайных чисел.\n",
    "- `penalty` — метод регуляризации. Возможные значения:\n",
    "    - `'l1'` — L1-регуляризация;\n",
    "    - `'l2'` — L2-регуляризация (используется по умолчанию);\n",
    "    - `'elasticnet'` — эластичная сетка (L1+L2);\n",
    "    - `'None'` — отсутствие регуляризации.\n",
    "- `C` — коэффициент обратный коэффициенту регуляризации, то есть равен $\\frac{1}{\\alpha}$\\\n",
    ". Чем больше `C`, тем меньше регуляризация. По умолчанию `C=1`, тогда `α=1`.\n",
    "- `solver` — численный метод оптимизации функции потерь logloss, может быть:\n",
    "    - `'sag'` — стохастический градиентный спуск (нужна стандартизация/нормализация);\n",
    "    - `'saga'` — модификация предыдущего, которая поддерживает работу с негладкими функциями \\\n",
    "    (нужна стандартизация/нормализация);\n",
    "    - `'newton-cg'` — [метод Ньютона с модификацией сопряжённых градиентов](https://docs.scipy.org/doc/scipy/tutorial/optimize.html#newton-conjugate-gradient-algorithm-method-newton-cg) \\\n",
    "    (не нужна стандартизация/нормализация);\n",
    "    - `'lbfgs'` — [метод Бройдена — Флетчера — Гольдфарба — Шанно](https://ru.wikipedia.org/wiki/%D0%90%D0%BB%D0%B3%D0%BE%D1%80%D0%B8%D1%82%D0%BC_%D0%91%D1%80%D0%BE%D0%B9%D0%B4%D0%B5%D0%BD%D0%B0_%E2%80%94_%D0%A4%D0%BB%D0%B5%D1%82%D1%87%D0%B5%D1%80%D0%B0_%E2%80%94_%D0%93%D0%BE%D0%BB%D1%8C%D0%B4%D1%84%D0%B0%D1%80%D0%B1%D0%B0_%E2%80%94_%D0%A8%D0%B0%D0%BD%D0%BD%D0%BE) \\\n",
    "    (не нужна стандартизация/нормализация; используется по умолчанию, \\\n",
    "    так как из всех методов теоретически обеспечивает наилучшую сходимость);\n",
    "    - `'liblinear'` — [метод покоординатного спуска](http://www.machinelearning.ru/wiki/index.php?title=%D0%9C%D0%B5%D1%82%D0%BE%D0%B4_%D0%BF%D0%BE%D0%BA%D0%BE%D0%BE%D1%80%D0%B4%D0%B8%D0%BD%D0%B0%D1%82%D0%BD%D0%BE%D0%B3%D0%BE_%D1%81%D0%BF%D1%83%D1%81%D0%BA%D0%B0) \\\n",
    "    (не нужна стандартизация/нормализация).\n",
    "- `max_iter` — максимальное количество итераций, выделенных на сходимость."
   ]
  },
  {
   "cell_type": "code",
   "execution_count": 41,
   "metadata": {},
   "outputs": [
    {
     "data": {
      "text/html": [
       "<div>\n",
       "<style scoped>\n",
       "    .dataframe tbody tr th:only-of-type {\n",
       "        vertical-align: middle;\n",
       "    }\n",
       "\n",
       "    .dataframe tbody tr th {\n",
       "        vertical-align: top;\n",
       "    }\n",
       "\n",
       "    .dataframe thead th {\n",
       "        text-align: right;\n",
       "    }\n",
       "</style>\n",
       "<table border=\"1\" class=\"dataframe\">\n",
       "  <thead>\n",
       "    <tr style=\"text-align: right;\">\n",
       "      <th></th>\n",
       "      <th>preg</th>\n",
       "      <th>plas</th>\n",
       "      <th>pres</th>\n",
       "      <th>skin</th>\n",
       "      <th>insu</th>\n",
       "      <th>mass</th>\n",
       "      <th>pedi</th>\n",
       "      <th>age</th>\n",
       "      <th>class</th>\n",
       "    </tr>\n",
       "  </thead>\n",
       "  <tbody>\n",
       "    <tr>\n",
       "      <th>0</th>\n",
       "      <td>6.0</td>\n",
       "      <td>148.0</td>\n",
       "      <td>72.0</td>\n",
       "      <td>35.0</td>\n",
       "      <td>0.0</td>\n",
       "      <td>33.6</td>\n",
       "      <td>0.627</td>\n",
       "      <td>50.0</td>\n",
       "      <td>tested_positive</td>\n",
       "    </tr>\n",
       "    <tr>\n",
       "      <th>1</th>\n",
       "      <td>1.0</td>\n",
       "      <td>85.0</td>\n",
       "      <td>66.0</td>\n",
       "      <td>29.0</td>\n",
       "      <td>0.0</td>\n",
       "      <td>26.6</td>\n",
       "      <td>0.351</td>\n",
       "      <td>31.0</td>\n",
       "      <td>tested_negative</td>\n",
       "    </tr>\n",
       "    <tr>\n",
       "      <th>2</th>\n",
       "      <td>8.0</td>\n",
       "      <td>183.0</td>\n",
       "      <td>64.0</td>\n",
       "      <td>0.0</td>\n",
       "      <td>0.0</td>\n",
       "      <td>23.3</td>\n",
       "      <td>0.672</td>\n",
       "      <td>32.0</td>\n",
       "      <td>tested_positive</td>\n",
       "    </tr>\n",
       "    <tr>\n",
       "      <th>3</th>\n",
       "      <td>1.0</td>\n",
       "      <td>89.0</td>\n",
       "      <td>66.0</td>\n",
       "      <td>23.0</td>\n",
       "      <td>94.0</td>\n",
       "      <td>28.1</td>\n",
       "      <td>0.167</td>\n",
       "      <td>21.0</td>\n",
       "      <td>tested_negative</td>\n",
       "    </tr>\n",
       "    <tr>\n",
       "      <th>4</th>\n",
       "      <td>0.0</td>\n",
       "      <td>137.0</td>\n",
       "      <td>40.0</td>\n",
       "      <td>35.0</td>\n",
       "      <td>168.0</td>\n",
       "      <td>43.1</td>\n",
       "      <td>2.288</td>\n",
       "      <td>33.0</td>\n",
       "      <td>tested_positive</td>\n",
       "    </tr>\n",
       "  </tbody>\n",
       "</table>\n",
       "</div>"
      ],
      "text/plain": [
       "   preg   plas  pres  skin   insu  mass   pedi   age            class\n",
       "0   6.0  148.0  72.0  35.0    0.0  33.6  0.627  50.0  tested_positive\n",
       "1   1.0   85.0  66.0  29.0    0.0  26.6  0.351  31.0  tested_negative\n",
       "2   8.0  183.0  64.0   0.0    0.0  23.3  0.672  32.0  tested_positive\n",
       "3   1.0   89.0  66.0  23.0   94.0  28.1  0.167  21.0  tested_negative\n",
       "4   0.0  137.0  40.0  35.0  168.0  43.1  2.288  33.0  tested_positive"
      ]
     },
     "execution_count": 41,
     "metadata": {},
     "output_type": "execute_result"
    }
   ],
   "source": [
    "# Для примера возьмем данные о диабете\n",
    "diabetes_data_full = fetch_openml(name='diabetes')\n",
    "diabetes_data = diabetes_data_full['frame']\n",
    "diabetes_data.head()"
   ]
  },
  {
   "cell_type": "code",
   "execution_count": 42,
   "metadata": {},
   "outputs": [],
   "source": [
    "# Заменим в целевом признаке значение tested_positive на 1, а tested_negative на 0\n",
    "diabetes_data['class'] = diabetes_data['class'].apply(lambda x: 1 if x == 'tested_positive' else 0)\n",
    "diabetes_data['class'] = diabetes_data['class'].astype(int)"
   ]
  },
  {
   "cell_type": "code",
   "execution_count": 43,
   "metadata": {},
   "outputs": [],
   "source": [
    "# признаки\n",
    "X = diabetes_data.drop(['class'], axis=1)\n",
    "# целевой признак\n",
    "y = diabetes_data['class']\n",
    "\n",
    "# разделяем на тренировочную и тестовую выборки\n",
    "X_train, X_test, y_train, y_test = train_test_split(X, y, test_size=0.25, random_state=42)"
   ]
  },
  {
   "cell_type": "code",
   "execution_count": 44,
   "metadata": {},
   "outputs": [
    {
     "data": {
      "text/html": [
       "<style>#sk-container-id-2 {color: black;background-color: white;}#sk-container-id-2 pre{padding: 0;}#sk-container-id-2 div.sk-toggleable {background-color: white;}#sk-container-id-2 label.sk-toggleable__label {cursor: pointer;display: block;width: 100%;margin-bottom: 0;padding: 0.3em;box-sizing: border-box;text-align: center;}#sk-container-id-2 label.sk-toggleable__label-arrow:before {content: \"▸\";float: left;margin-right: 0.25em;color: #696969;}#sk-container-id-2 label.sk-toggleable__label-arrow:hover:before {color: black;}#sk-container-id-2 div.sk-estimator:hover label.sk-toggleable__label-arrow:before {color: black;}#sk-container-id-2 div.sk-toggleable__content {max-height: 0;max-width: 0;overflow: hidden;text-align: left;background-color: #f0f8ff;}#sk-container-id-2 div.sk-toggleable__content pre {margin: 0.2em;color: black;border-radius: 0.25em;background-color: #f0f8ff;}#sk-container-id-2 input.sk-toggleable__control:checked~div.sk-toggleable__content {max-height: 200px;max-width: 100%;overflow: auto;}#sk-container-id-2 input.sk-toggleable__control:checked~label.sk-toggleable__label-arrow:before {content: \"▾\";}#sk-container-id-2 div.sk-estimator input.sk-toggleable__control:checked~label.sk-toggleable__label {background-color: #d4ebff;}#sk-container-id-2 div.sk-label input.sk-toggleable__control:checked~label.sk-toggleable__label {background-color: #d4ebff;}#sk-container-id-2 input.sk-hidden--visually {border: 0;clip: rect(1px 1px 1px 1px);clip: rect(1px, 1px, 1px, 1px);height: 1px;margin: -1px;overflow: hidden;padding: 0;position: absolute;width: 1px;}#sk-container-id-2 div.sk-estimator {font-family: monospace;background-color: #f0f8ff;border: 1px dotted black;border-radius: 0.25em;box-sizing: border-box;margin-bottom: 0.5em;}#sk-container-id-2 div.sk-estimator:hover {background-color: #d4ebff;}#sk-container-id-2 div.sk-parallel-item::after {content: \"\";width: 100%;border-bottom: 1px solid gray;flex-grow: 1;}#sk-container-id-2 div.sk-label:hover label.sk-toggleable__label {background-color: #d4ebff;}#sk-container-id-2 div.sk-serial::before {content: \"\";position: absolute;border-left: 1px solid gray;box-sizing: border-box;top: 0;bottom: 0;left: 50%;z-index: 0;}#sk-container-id-2 div.sk-serial {display: flex;flex-direction: column;align-items: center;background-color: white;padding-right: 0.2em;padding-left: 0.2em;position: relative;}#sk-container-id-2 div.sk-item {position: relative;z-index: 1;}#sk-container-id-2 div.sk-parallel {display: flex;align-items: stretch;justify-content: center;background-color: white;position: relative;}#sk-container-id-2 div.sk-item::before, #sk-container-id-2 div.sk-parallel-item::before {content: \"\";position: absolute;border-left: 1px solid gray;box-sizing: border-box;top: 0;bottom: 0;left: 50%;z-index: -1;}#sk-container-id-2 div.sk-parallel-item {display: flex;flex-direction: column;z-index: 1;position: relative;background-color: white;}#sk-container-id-2 div.sk-parallel-item:first-child::after {align-self: flex-end;width: 50%;}#sk-container-id-2 div.sk-parallel-item:last-child::after {align-self: flex-start;width: 50%;}#sk-container-id-2 div.sk-parallel-item:only-child::after {width: 0;}#sk-container-id-2 div.sk-dashed-wrapped {border: 1px dashed gray;margin: 0 0.4em 0.5em 0.4em;box-sizing: border-box;padding-bottom: 0.4em;background-color: white;}#sk-container-id-2 div.sk-label label {font-family: monospace;font-weight: bold;display: inline-block;line-height: 1.2em;}#sk-container-id-2 div.sk-label-container {text-align: center;}#sk-container-id-2 div.sk-container {/* jupyter's `normalize.less` sets `[hidden] { display: none; }` but bootstrap.min.css set `[hidden] { display: none !important; }` so we also need the `!important` here to be able to override the default hidden behavior on the sphinx rendered scikit-learn.org. See: https://github.com/scikit-learn/scikit-learn/issues/21755 */display: inline-block !important;position: relative;}#sk-container-id-2 div.sk-text-repr-fallback {display: none;}</style><div id=\"sk-container-id-2\" class=\"sk-top-container\"><div class=\"sk-text-repr-fallback\"><pre>LogisticRegression(random_state=42)</pre><b>In a Jupyter environment, please rerun this cell to show the HTML representation or trust the notebook. <br />On GitHub, the HTML representation is unable to render, please try loading this page with nbviewer.org.</b></div><div class=\"sk-container\" hidden><div class=\"sk-item\"><div class=\"sk-estimator sk-toggleable\"><input class=\"sk-toggleable__control sk-hidden--visually\" id=\"sk-estimator-id-2\" type=\"checkbox\" checked><label for=\"sk-estimator-id-2\" class=\"sk-toggleable__label sk-toggleable__label-arrow\">LogisticRegression</label><div class=\"sk-toggleable__content\"><pre>LogisticRegression(random_state=42)</pre></div></div></div></div></div>"
      ],
      "text/plain": [
       "LogisticRegression(random_state=42)"
      ]
     },
     "execution_count": 44,
     "metadata": {},
     "output_type": "execute_result"
    }
   ],
   "source": [
    "# создаём объект класса LogisticRegression\n",
    "logistic_regression_model = LogisticRegression(random_state=42, max_iter=1000)\n",
    "\n",
    "# Обучаем модель, минимизируя logloss\n",
    "logistic_regression_model.fit(X_train, y_train)"
   ]
  },
  {
   "cell_type": "markdown",
   "metadata": {},
   "source": [
    "Метод **predict_proba()** возвращает две вероятности: \\\n",
    "первая соответствует вероятности принадлежности к классу 0 (диабета нет), \\\n",
    "а вторая — вероятности принадлежности к классу 1 (диабет есть). \\\n",
    "В сумме две вероятности дают 1."
   ]
  },
  {
   "cell_type": "code",
   "execution_count": 45,
   "metadata": {},
   "outputs": [
    {
     "data": {
      "text/plain": [
       "array([[0.72859774, 0.27140226],\n",
       "       [0.81207972, 0.18792028],\n",
       "       [0.89083131, 0.10916869],\n",
       "       [0.84817084, 0.15182916],\n",
       "       [0.52205108, 0.47794892]])"
      ]
     },
     "execution_count": 45,
     "metadata": {},
     "output_type": "execute_result"
    }
   ],
   "source": [
    "y_test_predict_proba = logistic_regression_model.predict_proba(X_test)\n",
    "# Посмотрим на первые 5 пар значений\n",
    "y_test_predict_proba[:5]"
   ]
  },
  {
   "cell_type": "markdown",
   "metadata": {},
   "source": [
    "Метод **predict()** предсказывает класс. \\\n",
    "По умолчанию метод **predict()** относит объект к классу 1, \\\n",
    "если вероятность принадлежности к классу 1 > 0.5, \\\n",
    "и к классу 0, если эта вероятность < 0.5."
   ]
  },
  {
   "cell_type": "code",
   "execution_count": 46,
   "metadata": {},
   "outputs": [
    {
     "data": {
      "text/plain": [
       "array([0, 0, 0, 0, 0])"
      ]
     },
     "execution_count": 46,
     "metadata": {},
     "output_type": "execute_result"
    }
   ],
   "source": [
    "y_test_predict = logistic_regression_model.predict(X_test)\n",
    "# Посмотрим на первые 5 пар значений\n",
    "y_test_predict[:5]"
   ]
  },
  {
   "cell_type": "markdown",
   "metadata": {},
   "source": [
    "Выведем метрики."
   ]
  },
  {
   "cell_type": "code",
   "execution_count": 49,
   "metadata": {},
   "outputs": [
    {
     "name": "stdout",
     "output_type": "stream",
     "text": [
      "              precision    recall  f1-score   support\n",
      "\n",
      "           0       0.80      0.77      0.79       123\n",
      "           1       0.62      0.65      0.63        69\n",
      "\n",
      "    accuracy                           0.73       192\n",
      "   macro avg       0.71      0.71      0.71       192\n",
      "weighted avg       0.73      0.73      0.73       192\n",
      "\n"
     ]
    }
   ],
   "source": [
    "print(metrics.classification_report(y_test, y_test_predict))"
   ]
  },
  {
   "cell_type": "code",
   "execution_count": null,
   "metadata": {},
   "outputs": [
    {
     "name": "stdout",
     "output_type": "stream",
     "text": [
      "w0: [-9.27627603]\n",
      "wi: [[ 0.06148433  0.03583888 -0.01265625  0.00441884 -0.00157777  0.10115814\n",
      "   0.55342816  0.03763502]]\n"
     ]
    }
   ],
   "source": [
    "# Выводим результирующие коэффициенты\n",
    "\n",
    "# свободный член w0\n",
    "print(f'w0: {logistic_regression_model.intercept_}') \n",
    "\n",
    "# остальные параметры модели w1, w2, ..., wm\n",
    "print(f'wi: {logistic_regression_model.coef_}') "
   ]
  }
 ],
 "metadata": {
  "kernelspec": {
   "display_name": "Python 3",
   "language": "python",
   "name": "python3"
  },
  "language_info": {
   "codemirror_mode": {
    "name": "ipython",
    "version": 3
   },
   "file_extension": ".py",
   "mimetype": "text/x-python",
   "name": "python",
   "nbconvert_exporter": "python",
   "pygments_lexer": "ipython3",
   "version": "3.9.10"
  }
 },
 "nbformat": 4,
 "nbformat_minor": 2
}
