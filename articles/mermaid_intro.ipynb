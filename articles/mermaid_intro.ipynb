{
 "cells": [
  {
   "cell_type": "markdown",
   "metadata": {},
   "source": [
    "# Построение блок-схем с помощью mermaid.js"
   ]
  },
  {
   "cell_type": "markdown",
   "metadata": {},
   "source": [
    "Библиотека [mermaid.js](https://mermaid.js.org/intro/) поддерживается github и позволяет рисовать блок-схемы в разметке `markdown`."
   ]
  },
  {
   "cell_type": "markdown",
   "metadata": {},
   "source": [
    "Для VS Code необходимо установить плагины\n",
    "- Markdown All in One\n",
    "- Mermaid Markdown Syntax Highlighting\n",
    "- Markdown Preview Mermaid Support"
   ]
  },
  {
   "cell_type": "markdown",
   "metadata": {},
   "source": [
    "## Задание направления диаграммы\n",
    "\n",
    "[Документация Flowcharts](https://mermaid.js.org/syntax/flowchart.html)"
   ]
  },
  {
   "cell_type": "markdown",
   "metadata": {},
   "source": [
    "### `flowchart TB` (top-bottom == сверху-вниз) "
   ]
  },
  {
   "cell_type": "markdown",
   "metadata": {},
   "source": [
    "```{mermaid}\n",
    "flowchart TB\n",
    "    A --> B\n",
    "```"
   ]
  },
  {
   "cell_type": "markdown",
   "metadata": {},
   "source": [
    "### `flowchart BT` (bottom-top == снизу вверх) "
   ]
  },
  {
   "cell_type": "markdown",
   "metadata": {},
   "source": [
    "```mermaid\n",
    "flowchart BT\n",
    "    A --> B\n",
    "```"
   ]
  },
  {
   "cell_type": "markdown",
   "metadata": {},
   "source": [
    "### `flowchart LR` (left-right == слева направо) "
   ]
  },
  {
   "cell_type": "markdown",
   "metadata": {},
   "source": [
    "```mermaid\n",
    "flowchart LR\n",
    "    A --> B\n",
    "```"
   ]
  },
  {
   "cell_type": "markdown",
   "metadata": {},
   "source": [
    "### `flowchart RL` (right-left == справа налево) "
   ]
  },
  {
   "cell_type": "markdown",
   "metadata": {},
   "source": [
    "```mermaid\n",
    "flowchart RL\n",
    "    A --> B\n",
    "```"
   ]
  },
  {
   "cell_type": "markdown",
   "metadata": {},
   "source": [
    "## Задание текста"
   ]
  },
  {
   "cell_type": "markdown",
   "metadata": {},
   "source": [
    "Текст узла удобно задавать как переменную в квадратных скобках `A[node 1]`."
   ]
  },
  {
   "cell_type": "markdown",
   "metadata": {},
   "source": [
    "```mermaid\n",
    "flowchart LR\n",
    "    A[node 1] --> B[node 2]\n",
    "    C[node 3] --> B\n",
    "```"
   ]
  },
  {
   "cell_type": "markdown",
   "metadata": {},
   "source": [
    "## Задание формы\n",
    "\n",
    "Форма задается с помощью скобок разного вида."
   ]
  },
  {
   "cell_type": "markdown",
   "metadata": {},
   "source": [
    "```mermaid\n",
    "flowchart TB\n",
    "    node1[Форма 1]\n",
    "    node2(Форма 2)\n",
    "    node3[(Форма 3)]\n",
    "    node4([Форма 4])\n",
    "    node5[[Форма 5]]\n",
    "    node6((Форма 6))\n",
    "```"
   ]
  },
  {
   "cell_type": "markdown",
   "metadata": {},
   "source": [
    "```mermaid\n",
    "flowchart TB\n",
    "    node7{Форма 7}\n",
    "    node8{{Форма 8}}\n",
    "    node9[/Форма 9/]\n",
    "    node10(\\Форма 10\\)\n",
    "    node11[/Форма 11\\]\n",
    "    node12[\\Форма 12/]\n",
    "```"
   ]
  },
  {
   "cell_type": "markdown",
   "metadata": {},
   "source": [
    "## Вид стрелок"
   ]
  },
  {
   "cell_type": "markdown",
   "metadata": {},
   "source": [
    "```mermaid\n",
    "flowchart TB\n",
    "    A --> B\n",
    "    C --- D\n",
    "    E -.-> F\n",
    "    G ==> H\n",
    "    I --o J\n",
    "    K --x L\n",
    "```"
   ]
  },
  {
   "cell_type": "markdown",
   "metadata": {},
   "source": [
    "## Текст на стрелках"
   ]
  },
  {
   "cell_type": "markdown",
   "metadata": {},
   "source": [
    "```mermaid\n",
    "flowchart TB\n",
    "    A-- Text ---B\n",
    "    C---|Text|D\n",
    "    E-->|Text|F\n",
    "    G-- Text -->H\n",
    "    I-. Text .->J\n",
    "    K== Text ==>L\n",
    "```"
   ]
  },
  {
   "cell_type": "markdown",
   "metadata": {},
   "source": [
    "## Связи схем"
   ]
  },
  {
   "cell_type": "markdown",
   "metadata": {},
   "source": [
    "```mermaid\n",
    "flowchart TB\n",
    "    c1-->a2\n",
    "    subgraph one\n",
    "    a1-->a2\n",
    "    end\n",
    "    subgraph two\n",
    "    b1-->b2\n",
    "    end\n",
    "    subgraph three\n",
    "    c1-->c2\n",
    "    end\n",
    "```"
   ]
  },
  {
   "cell_type": "markdown",
   "metadata": {},
   "source": [
    "## Ссылки"
   ]
  },
  {
   "cell_type": "markdown",
   "metadata": {},
   "source": [
    "```mermaid\n",
    "flowchart TB\n",
    "%% комментарий - создаем узел\n",
    "    A --> B\n",
    "        click A \"https://github.com/experiment0/data_science_helpers\" _blank\n",
    "```"
   ]
  },
  {
   "cell_type": "markdown",
   "metadata": {},
   "source": [
    "## Стили"
   ]
  },
  {
   "cell_type": "markdown",
   "metadata": {},
   "source": [
    "- `fill` - заливка\n",
    "- `stroke` - цвет границы\n",
    "- `stroke-width` - толщина границы\n",
    "- `color` - цвет текста\n",
    "- `stroke-dasharray` - пунктирная граница"
   ]
  },
  {
   "cell_type": "markdown",
   "metadata": {},
   "source": [
    "```mermaid\n",
    "flowchart LR\n",
    "    id1(Start)-->id2(Stop)\n",
    "    style id1 fill: #564, stroke: #ccc, stroke-width: 4px, color: #fff\n",
    "    style id2 fill: #ff2400, stroke: #ccc, stroke-width: 4px, color: #fff, stroke-dasharray: 6 6\n",
    "```"
   ]
  },
  {
   "cell_type": "markdown",
   "metadata": {},
   "source": [
    "Стили также можно задавать в классах."
   ]
  },
  {
   "cell_type": "markdown",
   "metadata": {},
   "source": [
    "```mermaid\n",
    "flowchart LR\n",
    "    %% Стили\n",
    "    classDef class1 fill: #564, stroke: #ccc, stroke-width: 4px, color: #fff\n",
    "    classDef class2 fill: #ff2400, stroke: #ccc, stroke-width: 4px, color: #fff, stroke-dasharray: 6 6\n",
    "\n",
    "    %% Диаграмма\n",
    "    id1(Start):::class1-->id2(Stop):::class2\n",
    "    id3(Start):::class2-->id4(Stop):::class2\n",
    "```"
   ]
  },
  {
   "cell_type": "markdown",
   "metadata": {},
   "source": [
    "## Название"
   ]
  },
  {
   "cell_type": "markdown",
   "metadata": {},
   "source": [
    "```mermaid\n",
    "---\n",
    "title: Название диаграммы\n",
    "---\n",
    "flowchart LR\n",
    "    A[Hard edge] -->|Link text| B(Round edge)\n",
    "    B --> C{Decision}\n",
    "    C -->|One| D[Result one]\n",
    "    C -->|Two| E[Result two]\n",
    "```"
   ]
  },
  {
   "cell_type": "markdown",
   "metadata": {},
   "source": [
    "## Диаграммы состояний\n",
    "\n",
    "[Документация State diagrams](https://mermaid.js.org/syntax/stateDiagram.html)"
   ]
  },
  {
   "cell_type": "markdown",
   "metadata": {},
   "source": [
    "```mermaid\n",
    "---\n",
    "title: Simple sample\n",
    "---\n",
    "stateDiagram-v2\n",
    "    [*] --> Still\n",
    "    Still --> [*]\n",
    "\n",
    "    Still --> Moving\n",
    "    Moving --> Still\n",
    "    Moving --> Crash\n",
    "    Crash --> [*]\n",
    "````"
   ]
  },
  {
   "cell_type": "markdown",
   "metadata": {},
   "source": [
    "## Круговые диаграммы\n",
    "\n",
    "[Документация Pie chart diagrams](https://mermaid.js.org/syntax/pie.html)"
   ]
  },
  {
   "cell_type": "markdown",
   "metadata": {},
   "source": [
    "```mermaid\n",
    "pie\n",
    "    \"Dogs\" : 386\n",
    "    \"Cats\" : 85\n",
    "    \"Rats\" : 15\n",
    "````"
   ]
  },
  {
   "cell_type": "markdown",
   "metadata": {},
   "source": [
    "Возможные темы: forest, default, dark, neutral, base"
   ]
  },
  {
   "cell_type": "markdown",
   "metadata": {},
   "source": [
    "```mermaid\n",
    "%%{init: {'theme': 'forest'}}%%\n",
    "pie\n",
    "    \"Dogs\" : 386\n",
    "    \"Cats\" : 85\n",
    "    \"Rats\" : 15\n",
    "````"
   ]
  },
  {
   "cell_type": "markdown",
   "metadata": {},
   "source": [
    "Диаграмма с названием"
   ]
  },
  {
   "cell_type": "markdown",
   "metadata": {},
   "source": [
    "```mermaid\n",
    "pie title Pets adopted by volunteers\n",
    "    \"Dogs\" : 386\n",
    "    \"Cats\" : 85\n",
    "    \"Rats\" : 15\n",
    "````"
   ]
  },
  {
   "cell_type": "markdown",
   "metadata": {},
   "source": [
    "## Диаграммы Ганта\n",
    "\n",
    "[Документация Gantt diagrams](https://mermaid.js.org/syntax/gantt.html)"
   ]
  },
  {
   "cell_type": "markdown",
   "metadata": {},
   "source": [
    "```mermaid\n",
    "gantt\n",
    "    title A Gantt Diagram\n",
    "    dateFormat YYYY-MM-DD\n",
    "    section Section\n",
    "        A task          :a1, 2014-01-01, 30d\n",
    "        Another task    :after a1, 20d\n",
    "    section Another\n",
    "        Task in Another :2014-01-12, 12d\n",
    "        another task    :24d\n",
    "```"
   ]
  },
  {
   "cell_type": "markdown",
   "metadata": {},
   "source": [
    "## Диаграммы классов\n",
    "\n",
    "[Документация Class diagrams](https://mermaid.js.org/syntax/classDiagram.html)"
   ]
  },
  {
   "cell_type": "markdown",
   "metadata": {},
   "source": [
    "```mermaid\n",
    "---\n",
    "title: Animal example\n",
    "---\n",
    "classDiagram\n",
    "    note \"From Duck till Zebra\"\n",
    "    Animal <|-- Duck\n",
    "    note for Duck \"can fly\\ncan swim\\ncan dive\\ncan help in debugging\"\n",
    "    Animal <|-- Fish\n",
    "    Animal <|-- Zebra\n",
    "    Animal : +int age\n",
    "    Animal : +String gender\n",
    "    Animal: +isMammal()\n",
    "    Animal: +mate()\n",
    "    class Duck{\n",
    "        +String beakColor\n",
    "        +swim()\n",
    "        +quack()\n",
    "    }\n",
    "    class Fish{\n",
    "        -int sizeInFeet\n",
    "        -canEat()\n",
    "    }\n",
    "    class Zebra{\n",
    "        +bool is_wild\n",
    "        +run()\n",
    "    }\n",
    "```"
   ]
  },
  {
   "cell_type": "markdown",
   "metadata": {},
   "source": [
    "## Полезные ссылки\n",
    "\n",
    "- [Рисуем диаграммы с помощью Mermaid.js и Markdown с Данилом Шатухиным](https://www.youtube.com/watch?v=uJuskThFWW8)"
   ]
  }
 ],
 "metadata": {
  "language_info": {
   "name": "python"
  }
 },
 "nbformat": 4,
 "nbformat_minor": 2
}
