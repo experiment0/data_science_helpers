{
 "cells": [
  {
   "cell_type": "markdown",
   "metadata": {},
   "source": [
    "# Случайный лес"
   ]
  },
  {
   "cell_type": "markdown",
   "metadata": {},
   "source": [
    "> **Случайный лес (Random Forest)** — это самая распространённая реализация [бэггинга](./model_ensembles.ipynb), \\\n",
    "основанная на использовании в качестве базовой модели [дерева решений](./decision_trees.ipynb). \n",
    "\n",
    "Помимо бутстрэпа, случайный лес использует [метод случайных подпространств](https://en.wikipedia.org/wiki/Random_subspace_method). \\\n",
    "Суть его в том, что каждая модель обучается не на всех признаках, а только на части из них. \\\n",
    "Такой подход позволяет уменьшить коррелированность между ответами деревьев \\\n",
    "и сделать их независимыми друг от друга."
   ]
  },
  {
   "cell_type": "markdown",
   "metadata": {},
   "source": [
    "## Алгоритм построения случайного леса для задачи классификации\n",
    "\n",
    "Пусть количество объектов в наборе данных равно N, а количество признаков — M. \\\n",
    "То есть размер набора данных — (N, M). \\\n",
    "Количество деревьев в лесу равно K. \\\n",
    "Тогда для обучения случайного леса необходимо выполнить следующие шаги:\n",
    "\n",
    "1. С помощью бутстрэпа создать K наборов данных размера (N, M).\n",
    "2. Для каждого сгенерированного набора данных применить метод случайных подпространств: \\\n",
    "выбрать L < M случайных признаков \\\n",
    "и получить K новых наборов данных размером (N, L).\n",
    "3. На каждом наборе данных обучить дерево решений.\n",
    "\n",
    "Когда поступят новые данные, нужно прогнать их через каждое дерево \\\n",
    "и объединить результаты отдельных деревьев мажоритарным голосованием \\\n",
    "или путём комбинирования вероятностей."
   ]
  },
  {
   "cell_type": "markdown",
   "metadata": {},
   "source": [
    "## Реализация в sklearn"
   ]
  },
  {
   "cell_type": "markdown",
   "metadata": {},
   "source": [
    "В `sklearn` все ансамблевые методы реализованы в модуле `ensemble`.\\\n",
    "Модель случайного леса для решения задачи классификации реализована в классе [RandomForestClassifier](https://scikit-learn.org/stable/modules/generated/sklearn.ensemble.RandomForestClassifier.html).\n",
    "\n",
    "**Основные параметры RandomForestClassifier**\n",
    "\n",
    "- `n_estimators` — количество деревьев в лесу \\\n",
    "(число K из бэггинга; по умолчанию равно `100`);\n",
    "- `criterion` — критерий информативности разбиения для каждого из деревьев \\\n",
    "('`gini`' — критерий Джини и '`entropy`' — энтропия Шеннона; по умолчанию — '`gini`');\n",
    "- `max_depth` — максимальная глубина одного дерева \\\n",
    "(по умолчанию — `None`, то есть глубина дерева не ограничена);\n",
    "- `max_features` — максимальное число признаков, которые будут использоваться каждым из деревьев \\\n",
    "(число L из метода случайных подпространств; \\\n",
    "по умолчанию — '`sqrt`'; для обучения каждого из деревьев используется $\\sqrt{m}$ признаков, \\\n",
    "где $m$ — число признаков в начальном наборе данных);\n",
    "- `min_samples_leaf` — минимальное число объектов в листе (по умолчанию — `1`);\n",
    "- `random_state` — параметр, отвечающий за генерацию случайных чисел."
   ]
  },
  {
   "cell_type": "code",
   "execution_count": 10,
   "metadata": {},
   "outputs": [],
   "source": [
    "from sklearn.ensemble import RandomForestClassifier\n",
    "from sklearn import metrics\n",
    "from sklearn.model_selection import train_test_split\n",
    "import seaborn as sns\n",
    "import matplotlib.pyplot as plt\n",
    "\n",
    "# устанавливаем стиль визуализаций в matplotlib\n",
    "%matplotlib inline\n",
    "plt.style.use('seaborn')\n",
    "\n",
    "from warnings import simplefilter\n",
    "simplefilter('ignore')"
   ]
  },
  {
   "cell_type": "code",
   "execution_count": 5,
   "metadata": {},
   "outputs": [
    {
     "data": {
      "text/html": [
       "<div>\n",
       "<style scoped>\n",
       "    .dataframe tbody tr th:only-of-type {\n",
       "        vertical-align: middle;\n",
       "    }\n",
       "\n",
       "    .dataframe tbody tr th {\n",
       "        vertical-align: top;\n",
       "    }\n",
       "\n",
       "    .dataframe thead th {\n",
       "        text-align: right;\n",
       "    }\n",
       "</style>\n",
       "<table border=\"1\" class=\"dataframe\">\n",
       "  <thead>\n",
       "    <tr style=\"text-align: right;\">\n",
       "      <th></th>\n",
       "      <th>sepal_length</th>\n",
       "      <th>sepal_width</th>\n",
       "      <th>petal_length</th>\n",
       "      <th>petal_width</th>\n",
       "      <th>species</th>\n",
       "    </tr>\n",
       "  </thead>\n",
       "  <tbody>\n",
       "    <tr>\n",
       "      <th>0</th>\n",
       "      <td>5.1</td>\n",
       "      <td>3.5</td>\n",
       "      <td>1.4</td>\n",
       "      <td>0.2</td>\n",
       "      <td>setosa</td>\n",
       "    </tr>\n",
       "    <tr>\n",
       "      <th>1</th>\n",
       "      <td>4.9</td>\n",
       "      <td>3.0</td>\n",
       "      <td>1.4</td>\n",
       "      <td>0.2</td>\n",
       "      <td>setosa</td>\n",
       "    </tr>\n",
       "    <tr>\n",
       "      <th>2</th>\n",
       "      <td>4.7</td>\n",
       "      <td>3.2</td>\n",
       "      <td>1.3</td>\n",
       "      <td>0.2</td>\n",
       "      <td>setosa</td>\n",
       "    </tr>\n",
       "    <tr>\n",
       "      <th>3</th>\n",
       "      <td>4.6</td>\n",
       "      <td>3.1</td>\n",
       "      <td>1.5</td>\n",
       "      <td>0.2</td>\n",
       "      <td>setosa</td>\n",
       "    </tr>\n",
       "    <tr>\n",
       "      <th>4</th>\n",
       "      <td>5.0</td>\n",
       "      <td>3.6</td>\n",
       "      <td>1.4</td>\n",
       "      <td>0.2</td>\n",
       "      <td>setosa</td>\n",
       "    </tr>\n",
       "  </tbody>\n",
       "</table>\n",
       "</div>"
      ],
      "text/plain": [
       "   sepal_length  sepal_width  petal_length  petal_width species\n",
       "0           5.1          3.5           1.4          0.2  setosa\n",
       "1           4.9          3.0           1.4          0.2  setosa\n",
       "2           4.7          3.2           1.3          0.2  setosa\n",
       "3           4.6          3.1           1.5          0.2  setosa\n",
       "4           5.0          3.6           1.4          0.2  setosa"
      ]
     },
     "execution_count": 5,
     "metadata": {},
     "output_type": "execute_result"
    }
   ],
   "source": [
    "# загрузим данные об ирисах\n",
    "iris_data = sns.load_dataset('iris')\n",
    "iris_data.head()"
   ]
  },
  {
   "cell_type": "markdown",
   "metadata": {},
   "source": [
    "`species` - вид ириса, целевой признак."
   ]
  },
  {
   "cell_type": "code",
   "execution_count": 7,
   "metadata": {},
   "outputs": [
    {
     "name": "stdout",
     "output_type": "stream",
     "text": [
      "              precision    recall  f1-score   support\n",
      "\n",
      "      setosa       1.00      1.00      1.00        40\n",
      "  versicolor       0.97      0.95      0.96        40\n",
      "   virginica       0.95      0.97      0.96        40\n",
      "\n",
      "    accuracy                           0.97       120\n",
      "   macro avg       0.98      0.97      0.97       120\n",
      "weighted avg       0.98      0.97      0.97       120\n",
      "\n",
      "              precision    recall  f1-score   support\n",
      "\n",
      "      setosa       1.00      1.00      1.00        10\n",
      "  versicolor       1.00      0.90      0.95        10\n",
      "   virginica       0.91      1.00      0.95        10\n",
      "\n",
      "    accuracy                           0.97        30\n",
      "   macro avg       0.97      0.97      0.97        30\n",
      "weighted avg       0.97      0.97      0.97        30\n",
      "\n"
     ]
    }
   ],
   "source": [
    "# факторы\n",
    "X = iris_data.drop(columns=['species'])\n",
    "# целевой признак\n",
    "y = iris_data['species']\n",
    "\n",
    "# разделим выборку на тренировочную и тестовую\n",
    "X_train, X_test, y_train, y_test = train_test_split(X, y, stratify=y, test_size=0.2, random_state=42)\n",
    "\n",
    "# создаём объект класса RandomForestClassifier\n",
    "random_forest_classifier_model = RandomForestClassifier(\n",
    "    n_estimators=100, # число деревьев\n",
    "    criterion='gini', # критерий эффективности\n",
    "    max_depth=5, # максимальная глубина дерева\n",
    "    min_samples_leaf=3, # минимальное число объектов в листе\n",
    "    max_features='sqrt', # число признаков из метода случайных подпространств\n",
    "    random_state=42 # генератор случайных чисел\n",
    ")\n",
    "\n",
    "# обучаем модель \n",
    "random_forest_classifier_model.fit(X_train, y_train)\n",
    " \n",
    "# делаем предсказание класса\n",
    "y_train_pred = random_forest_classifier_model.predict(X_train)\n",
    "y_test_pred = random_forest_classifier_model.predict(X_test)\n",
    "\n",
    "# выводим отчёт о метриках\n",
    "print(metrics.classification_report(y_train, y_train_pred))\n",
    "print(metrics.classification_report(y_test, y_test_pred))"
   ]
  },
  {
   "cell_type": "markdown",
   "metadata": {},
   "source": [
    "Вероятности каждого из классов можно получить с помощью метода `predict_proba`."
   ]
  },
  {
   "cell_type": "code",
   "execution_count": 9,
   "metadata": {},
   "outputs": [
    {
     "data": {
      "text/plain": [
       "array([[1.        , 0.        , 0.        ],\n",
       "       [0.        , 0.21853211, 0.78146789],\n",
       "       [0.02211905, 0.908     , 0.06988095],\n",
       "       [0.02211905, 0.90216667, 0.07571429],\n",
       "       [1.        , 0.        , 0.        ]])"
      ]
     },
     "execution_count": 9,
     "metadata": {},
     "output_type": "execute_result"
    }
   ],
   "source": [
    "random_forest_classifier_model.predict_proba(X_test)[:5]"
   ]
  },
  {
   "cell_type": "markdown",
   "metadata": {},
   "source": [
    "Коэффициенты значимости признаков можно получить из поля `feature_importances_`."
   ]
  },
  {
   "cell_type": "code",
   "execution_count": 15,
   "metadata": {},
   "outputs": [
    {
     "data": {
      "image/png": "[encoded data removed]",
      "text/plain": [
       "<Figure size 720x360 with 1 Axes>"
      ]
     },
     "metadata": {},
     "output_type": "display_data"
    }
   ],
   "source": [
    "# фигура + координатная плоскость\n",
    "fig, ax = plt.subplots(figsize=(10, 5)) \n",
    "# признаки\n",
    "feature_names = X.columns \n",
    "# важность признаков\n",
    "feature_importances = random_forest_classifier_model.feature_importances_ \n",
    "\n",
    "# строим столбчатую диаграмму\n",
    "sns.barplot(x=feature_names, y=feature_importances, ax=ax);\n",
    "\n",
    "# название графика и осей\n",
    "ax.set_title('Диаграмма значимости признаков')\n",
    "ax.set_xlabel('Признак')\n",
    "ax.set_ylabel('Коэффициент значимости признака');"
   ]
  }
 ],
 "metadata": {
  "kernelspec": {
   "display_name": "Python 3",
   "language": "python",
   "name": "python3"
  },
  "language_info": {
   "codemirror_mode": {
    "name": "ipython",
    "version": 3
   },
   "file_extension": ".py",
   "mimetype": "text/x-python",
   "name": "python",
   "nbconvert_exporter": "python",
   "pygments_lexer": "ipython3",
   "version": "3.9.10"
  }
 },
 "nbformat": 4,
 "nbformat_minor": 2
}
